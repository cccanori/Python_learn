{
 "cells": [
  {
   "cell_type": "code",
   "execution_count": 11,
   "id": "f71718b8-f803-46dd-8fab-55832cdd1f52",
   "metadata": {},
   "outputs": [
    {
     "data": {
      "text/plain": [
       "(float, int, str, bool)"
      ]
     },
     "execution_count": 11,
     "metadata": {},
     "output_type": "execute_result"
    }
   ],
   "source": [
    "(type(1.7),type(17),type(\"17\"),type(True))  # there are three types: int,str, bool, and float"
   ]
  },
  {
   "cell_type": "markdown",
   "id": "5ede7843-60fa-4d56-b4f5-216bcd8b0f05",
   "metadata": {},
   "source": [
    "Some variables rules: *Cannot start with a number\\\n",
    "                      *try to start them with a capital letter (good practice)\\\n",
    "                      *start with _ when coding a library function for others\\\n",
    "                      *Avoid using any of the 35 python's reserved keywords."
   ]
  },
  {
   "cell_type": "code",
   "execution_count": 19,
   "id": "9c306cdc-f122-468b-890d-b512ee56ea3f",
   "metadata": {},
   "outputs": [
    {
     "name": "stdout",
     "output_type": "stream",
     "text": [
      "5 1 6 1.5 1 9 1\n"
     ]
    }
   ],
   "source": [
    "print(3+2,3-2,3*2,3/2,3//2,3**2,3%2) #add,substract,multiply,divide(float),divide(int part),exponential, remainder of divition \n",
    "# order of presedence: 1.Parenthesis(),2.exponent,3.mult and division, and 4. add and subs. From left to right when equal\n",
    "# modulus operand (%) is freat to reduce zeros!!"
   ]
  },
  {
   "cell_type": "code",
   "execution_count": 26,
   "id": "1cf6f8ea-1056-4d15-a056-b3fcada20ace",
   "metadata": {},
   "outputs": [
    {
     "name": "stdout",
     "output_type": "stream",
     "text": [
      "3test , test test test \n",
      "Christian\n",
      "Cano\n"
     ]
    }
   ],
   "source": [
    "print(\"3\"+\"test\",\",\",3*\"test \") # String most important operators\n",
    "print(\"Christian\\nCano\") #\\n puts a new line "
   ]
  },
  {
   "cell_type": "code",
   "execution_count": 45,
   "id": "e56bc3a4-8006-48ba-89f5-519c4b8eccc5",
   "metadata": {},
   "outputs": [
    {
     "name": "stdin",
     "output_type": "stream",
     "text": [
      "enter your name:  Christian\n"
     ]
    },
    {
     "name": "stdout",
     "output_type": "stream",
     "text": [
      "Hello Christian\n"
     ]
    },
    {
     "name": "stdin",
     "output_type": "stream",
     "text": [
      "Enter hours:  45\n",
      "Enter rate:  36.98\n"
     ]
    },
    {
     "name": "stdout",
     "output_type": "stream",
     "text": [
      "1664.1\n"
     ]
    },
    {
     "name": "stdin",
     "output_type": "stream",
     "text": [
      "Enter celsius temperature:  56\n"
     ]
    },
    {
     "name": "stdout",
     "output_type": "stream",
     "text": [
      "56.0 celsius grades are 132.8 farenheit degrees\n"
     ]
    }
   ],
   "source": [
    "# Exercises Chapter 2\n",
    "#1\n",
    "x = input(\"enter your name: \")\n",
    "print(\"Hello \"+x)\n",
    "#2\n",
    "y = float(input(\"Enter hours: \"))\n",
    "z = float(input(\"Enter rate: \"))\n",
    "print(round(y*z,2))\n",
    "#4\n",
    "Cel = float(input(\"Enter celsius temperature: \"))\n",
    "f = (Cel*(9/5))+32\n",
    "print(str(Cel)+\" celsius grades are \"+str(f)+\" farenheit degrees\")"
   ]
  },
  {
   "cell_type": "markdown",
   "id": "464f8b7d-7b7d-4577-8e7a-7d8e829ba75e",
   "metadata": {},
   "source": [
    "CHAPTER 3"
   ]
  },
  {
   "cell_type": "code",
   "execution_count": 58,
   "id": "aeaa9b9b-27f9-42ae-b42d-52c0464d52d8",
   "metadata": {},
   "outputs": [
    {
     "name": "stdout",
     "output_type": "stream",
     "text": [
      "True False True\n"
     ]
    }
   ],
   "source": [
    "print(5==5,5==6,not(5>6)) # == states a boolean operator (True or False)\n",
    "# == and !=, < and >, <= and >=, is and is not. The latter refers to type\n",
    "# remember to use and, or, and not operators. The latter is the contrary of true or false result.\n",
    "# any non-zero int or float is True"
   ]
  },
  {
   "cell_type": "markdown",
   "id": "bdf288e6-5d75-425d-b65c-d1307c19713a",
   "metadata": {
    "tags": []
   },
   "source": [
    "IF Statment"
   ]
  },
  {
   "cell_type": "code",
   "execution_count": 70,
   "id": "f641903c-5fa1-4aa6-8a07-5f67479f8a26",
   "metadata": {
    "tags": []
   },
   "outputs": [
    {
     "name": "stdout",
     "output_type": "stream",
     "text": [
      "2.073644135332772\n"
     ]
    }
   ],
   "source": [
    "x = 4.3                   \n",
    "if x > 4 and x!=1:      #Remember to put colon after. Remeber \"short-circuit effect\" (from left to rigth)-> Guardian pattern\n",
    "    print(x**(1/2))     # always intented block after if\n",
    "elif x < 4 or x==1:\n",
    "    print(\"no boy\")\n",
    "else:\n",
    "    if x>4:         # Nested if. Avoid them if you can.\n",
    "        pass        # Pass does nothing but maybe you wanto to code in a while"
   ]
  },
  {
   "cell_type": "markdown",
   "id": "6be872b2-cdc3-4022-85f3-dec3af07c83b",
   "metadata": {},
   "source": [
    "Try and Except (unexpected errors)"
   ]
  },
  {
   "cell_type": "code",
   "execution_count": 71,
   "id": "3d7ee03d-eb2e-4e07-82d4-81245632f398",
   "metadata": {},
   "outputs": [
    {
     "name": "stdout",
     "output_type": "stream",
     "text": [
      "please enter a number\n"
     ]
    }
   ],
   "source": [
    "y = \"fred\"\n",
    "try:\n",
    "    y**(1/2)\n",
    "except:                           ##appears when an occuer happens and pythons stops\n",
    "    print(\"please enter a number\") ## avoid the massage of error. It is skipped if there are no errors."
   ]
  },
  {
   "cell_type": "code",
   "execution_count": 80,
   "id": "2b773b2b-94ec-40c6-bb93-6a6ecbfb47d2",
   "metadata": {},
   "outputs": [
    {
     "name": "stdin",
     "output_type": "stream",
     "text": [
      "Enter hours:  56\n",
      "Enter rate:  2.6\n"
     ]
    },
    {
     "name": "stdout",
     "output_type": "stream",
     "text": [
      "218.4\n"
     ]
    },
    {
     "name": "stdin",
     "output_type": "stream",
     "text": [
      "Enter a score between 0.0 and 1.0:  0.3698\n"
     ]
    },
    {
     "name": "stdout",
     "output_type": "stream",
     "text": [
      "F\n"
     ]
    }
   ],
   "source": [
    "# Exercise Chapter 3\n",
    "#1 and 2\n",
    "try:\n",
    "    y = float(input(\"Enter hours: \"))\n",
    "    z = float(input(\"Enter rate: \"))\n",
    "    if y>40:\n",
    "        print(round(y*(z*1.5),2))\n",
    "    else:\n",
    "        print(round(y*(z),2))\n",
    "except:\n",
    "    print(\"Error, please enter numeric input\")\n",
    "#3\n",
    "l = float(input(\"Enter a score between 0.0 and 1.0: \"))\n",
    "if l > 1.0 or l < 0.0:\n",
    "    print(\"Error: score out of range\")\n",
    "elif l>= 0.9:\n",
    "    print(\"A\")\n",
    "elif l>= 0.8:\n",
    "    print(\"B\")\n",
    "elif l>= 0.7:\n",
    "    print(\"C\")\n",
    "elif l>= 0.6:\n",
    "    print(\"D\")\n",
    "elif l< 0.6:\n",
    "    print(\"F\")"
   ]
  },
  {
   "cell_type": "markdown",
   "id": "04336ca6-3a06-439d-8908-97c32321a411",
   "metadata": {},
   "source": [
    "FUNCTIONS"
   ]
  },
  {
   "cell_type": "code",
   "execution_count": 1,
   "id": "fc963d25-0d4d-4da8-93a2-10d5f79e3331",
   "metadata": {},
   "outputs": [],
   "source": [
    "# most popular buil-in functions: type,max,min,and len\n",
    "# conversion typoe: int(),float(),and str()"
   ]
  },
  {
   "cell_type": "code",
   "execution_count": 2,
   "id": "7ab97a6a-52ef-4d26-9865-7fa9c27de196",
   "metadata": {},
   "outputs": [
    {
     "name": "stdout",
     "output_type": "stream",
     "text": [
      "0.3236043187592832\n"
     ]
    }
   ],
   "source": [
    "import math # math library\n",
    "x = 6  \n",
    "rad = x/360*2*math.pi\n",
    "print(math.sqrt(rad))  # calle the library and then the librarie's function using a .\n"
   ]
  },
  {
   "cell_type": "code",
   "execution_count": 11,
   "id": "1defdb98-7320-485d-a53a-11f1303f175f",
   "metadata": {},
   "outputs": [
    {
     "name": "stdout",
     "output_type": "stream",
     "text": [
      "0.42948935556752244\n",
      "8\n",
      "3\n"
     ]
    }
   ],
   "source": [
    "import random    # library the generate random numbers\n",
    "print(random.random()) #produces floats between 0.0 and 1.0 but not 1.0\n",
    "print(random.randint(1,10)) # produces a rand int between a low and high range\n",
    "t =[1,2,3] \n",
    "print(random.choice(t)) # select a random element from a sequence\n"
   ]
  },
  {
   "cell_type": "code",
   "execution_count": 28,
   "id": "2e0ac4ca-0c83-4a05-a24f-87e3b8b36fec",
   "metadata": {},
   "outputs": [],
   "source": [
    "# New functions         # you create objects of type funtion---- remember the flow execution\n",
    "def your_name():        # empty brackets means a function without arguments\n",
    "    x=\"Christian\"\n",
    "    z = \" \"\n",
    "    y = \"Cano\"\n",
    "    return x+z+y   ## if you don't use return the result is None (another type of object) which a empty variable basically\n",
    "\n"
   ]
  },
  {
   "cell_type": "code",
   "execution_count": 44,
   "id": "c9136b6c-a640-433c-a340-12169ef1e1c5",
   "metadata": {},
   "outputs": [
    {
     "data": {
      "text/plain": [
       "399.9"
      ]
     },
     "execution_count": 44,
     "metadata": {},
     "output_type": "execute_result"
    }
   ],
   "source": [
    "# Excercise chapter 4\n",
    "def pay_comp(hours,rate):\n",
    "    try:\n",
    "        y = float(hours)\n",
    "        z = float(rate)\n",
    "        if y>40:\n",
    "            x=(round(y*(z*1.5),2))\n",
    "        else:\n",
    "            x=(round(y*(z),2))\n",
    "    except:\n",
    "        x=\"Error, please enter numeric input\"\n",
    "    return x\n",
    "x=pay_comp(39.99,10)\n",
    "x"
   ]
  },
  {
   "cell_type": "markdown",
   "id": "7db0e90c-1465-4a02-b601-bc9bc61e389f",
   "metadata": {},
   "source": [
    "ITERATIONS"
   ]
  },
  {
   "cell_type": "code",
   "execution_count": 49,
   "id": "34499d6f-6757-4360-b1c4-199f972917b1",
   "metadata": {},
   "outputs": [
    {
     "name": "stdout",
     "output_type": "stream",
     "text": [
      "5\n",
      "4\n",
      "3\n",
      "2\n",
      "1\n",
      "count finish\n"
     ]
    },
    {
     "name": "stdin",
     "output_type": "stream",
     "text": [
      "please write line:  #erd\n",
      "please write line:  erd\n"
     ]
    },
    {
     "name": "stdout",
     "output_type": "stream",
     "text": [
      "type the fucking line\n"
     ]
    },
    {
     "name": "stdin",
     "output_type": "stream",
     "text": [
      "please write line:  line\n"
     ]
    },
    {
     "name": "stdout",
     "output_type": "stream",
     "text": [
      "done!\n"
     ]
    }
   ],
   "source": [
    "n = 5         # setting a counting down using while (indefinite loop)\n",
    "while n > 0:  # evaluates the condition: True countinue the loop and in false it exits . Be carefull with infinite loops!\n",
    "    print(n)\n",
    "    n = n - 1  # only activated if while statment is true\n",
    "print(\"count finish\")\n",
    "\n",
    "while True:                               # using infinite loop in our favor\n",
    "    line = input(\"please write line: \")   \n",
    "    if line == \"line\":\n",
    "        break                           # break the infinite loop given a clause. Exit the loop\n",
    "    elif line[0] == \"#\":\n",
    "        continue                       # skip one iteration given a clause. In this case # would be a comment then there is no sense in printing it\n",
    "    print(\"type the fucking line\")     # comes back to the beginning of the loop\n",
    "print(\"done!\")\n",
    "\n"
   ]
  },
  {
   "cell_type": "code",
   "execution_count": 57,
   "id": "64f5a04a-f078-4b2c-84e3-3beeda087617",
   "metadata": {},
   "outputs": [
    {
     "name": "stdout",
     "output_type": "stream",
     "text": [
      "The number is 0\n",
      "The number is 1\n",
      "The number is 2\n",
      "The number is 3\n",
      "The number is 4\n",
      "Numer of iterations were:5\n",
      "The total sum is: 10\n"
     ]
    }
   ],
   "source": [
    "counter = 0                          #setting a counter\n",
    "add_ = 0                             # a accumulator\n",
    "for i in range(5):                   # setting a for iteration(finite loop)\n",
    "    print(\"The number is \"+str(i))\n",
    "    counter+= 1\n",
    "    add_+= i\n",
    "print(\"Numer of iterations were:\"+str(counter)+\"\\nThe total sum is: \"+str(add_))"
   ]
  },
  {
   "cell_type": "code",
   "execution_count": 2,
   "id": "6934e26a-309a-4fac-8970-9d07a60d6cfc",
   "metadata": {},
   "outputs": [
    {
     "name": "stdin",
     "output_type": "stream",
     "text": [
      "Enter a number: 45\n",
      "Enter a number: 2.36\n",
      "Enter a number: 88sdf\n"
     ]
    },
    {
     "name": "stdout",
     "output_type": "stream",
     "text": [
      "Enter a number!\n"
     ]
    },
    {
     "name": "stdin",
     "output_type": "stream",
     "text": [
      "Enter a number: 56.2587\n",
      "Enter a number: done\n"
     ]
    },
    {
     "name": "stdout",
     "output_type": "stream",
     "text": [
      "Total:103.61869999999999  Count:3 Avg:34.54 Max:56.2587 Min:2.36\n",
      "Good job\n"
     ]
    }
   ],
   "source": [
    "## Exercices chapter 6\n",
    "counter = 0\n",
    "Acc = 0\n",
    "mx = None\n",
    "mn = None\n",
    "while True:\n",
    "    try:\n",
    "        y = input(\"Enter a number:\")\n",
    "        if y != \"done\":\n",
    "            x = float(y)\n",
    "            Acc += x\n",
    "            counter += 1\n",
    "            if mx is None or  x > mx :\n",
    "                mx = x\n",
    "            if mn is None or x < mn:\n",
    "                mn = x\n",
    "        elif y == \"done\":\n",
    "            print(\"Total:\"+str(Acc), \" Count:\"+str(counter)+\" Avg:\"+str(round(Acc/counter,2))+\" Max:\"+str(mx)+\" Min:\"+str(mn)) \n",
    "            break\n",
    "    except:\n",
    "        print(\"Enter a number!\")\n",
    "print(\"Good job\")"
   ]
  },
  {
   "cell_type": "markdown",
   "id": "e16d879e-6589-4c61-84bb-d6f27792353e",
   "metadata": {},
   "source": [
    "STRINGS - "
   ]
  },
  {
   "cell_type": "code",
   "execution_count": 16,
   "id": "0bb470b5-1a7f-411d-9c8f-590cb44b24be",
   "metadata": {},
   "outputs": [
    {
     "name": "stdout",
     "output_type": "stream",
     "text": [
      "5 C s\n",
      "C\n",
      "h\n",
      "r\n",
      "i\n",
      "s\n",
      "C\n",
      "h\n",
      "r\n",
      "i\n",
      "s\n",
      "False\n",
      "True\n"
     ]
    }
   ],
   "source": [
    "name = \"Chris\"\n",
    "long = len(name)\n",
    "first = name[0]   # the way to index a string is from 0\n",
    "last = name[-1]   # Negative indexes come from the las part\n",
    "last = name[long-1] # the last one by avoid using negative index\n",
    "print(long,first,last)\n",
    "\n",
    "index = 0            # Traversal string looping - While\n",
    "while index < long:\n",
    "    print(name[index])\n",
    "    index += 1\n",
    "for i in name:       # Traversal str using for \n",
    "    print(i)\n",
    "\n",
    "slice_1 = name[2:4]  # extract from ix 2 to 4. remember starts from 0!\n",
    "slice_2 = name[:4]   # from idx 0 to 4\n",
    "slice_3 = name[4:]   # from the last idx (in 0) to the last 4 \n",
    "empty_slice= name[3:3] # if the first indes is > or = to the second.result is empty string\"\"\n",
    "\n",
    "empty_slice\n",
    "#* String are inmutable: name[0]= \"sth\"(item) gives an error. However you can slice it and make a new one:\n",
    "sec_name = name[0]+\"amilo\"\n",
    "sec_name\n",
    "\n",
    "# In operator & comparison\n",
    "\"C\" in name # returns True or False depending on the clause\n",
    "print(\"pineapple\" < \"banana\")  #you can compare words \"greater than\" means that the word comes after alphabetically. Its case sensitive!!\n",
    "print(\"Pineapple\" < \"banana\") # all uppercase letters come before lowercase letters.\n"
   ]
  },
  {
   "cell_type": "code",
   "execution_count": 29,
   "id": "94de0a49-f3ad-4bfd-804d-d74fd0ba0cfb",
   "metadata": {},
   "outputs": [
    {
     "name": "stdout",
     "output_type": "stream",
     "text": [
      "Help on built-in function partition:\n",
      "\n",
      "partition(sep, /) method of builtins.str instance\n",
      "    Partition the string into three parts using the given separator.\n",
      "    \n",
      "    This will search for the separator in the string.  If the separator is found,\n",
      "    returns a 3-tuple containing the part before the separator, the separator\n",
      "    itself, and the part after it.\n",
      "    \n",
      "    If the separator is not found, returns a 3-tuple containing the original string\n",
      "    and two empty strings.\n",
      "\n"
     ]
    },
    {
     "data": {
      "text/plain": [
       "\"I'm 27 years old \""
      ]
     },
     "execution_count": 29,
     "metadata": {},
     "output_type": "execute_result"
    }
   ],
   "source": [
    "#String methods  ---> use variable name plus a preoid . and the method (use method's required arguments)\n",
    "name=\"Christian\"\n",
    "dir(name) # function dir brings up whole set of methods vailable for a type of object. In this case, string object.\n",
    "help(name.partition) # returns the domunetation of the method -> https://docs.python.org/3/library/stdtypes.html#string-methods\n",
    "#most used: \n",
    "#.find (substring in a string) returns index --> useful for parsing strings (extraxct a substring using .find and slicing)\n",
    "#.strip() removes spaces at the beginning and at the end of the word -- if arguments, strip them all.\n",
    "#.stratswith() return a boolean value if the words starts with a given argument\n",
    "#.lower() put all the stuff in lower case\n",
    "#.count() counts the namuber of substrings in the word.\n",
    "#.replace() change a existing word fr a one specified\n",
    "years = 27\n",
    "\"I'm %d years old \" %years # Format operand. Widely used to retrive different objects to strings.\n",
    "# %d is gor int, %g for float, and %s for strings. https://docs.python.org/3/library/stdtypes.html#printf-style-string-formatting\n"
   ]
  },
  {
   "cell_type": "code",
   "execution_count": 32,
   "id": "9e87ace5-b9bd-40cc-825f-4d85c273fc87",
   "metadata": {},
   "outputs": [
    {
     "data": {
      "text/plain": [
       "0.8475"
      ]
     },
     "execution_count": 32,
     "metadata": {},
     "output_type": "execute_result"
    }
   ],
   "source": [
    "#Exercise 5 chapter 6\n",
    "str_ = 'X-DSPAM-Confidence:0.8475'\n",
    "colon = str_.find(\":\")\n",
    "after = str_[colon+1:]\n",
    "fl = float(after)\n",
    "fl\n"
   ]
  },
  {
   "cell_type": "markdown",
   "id": "2801895f-d532-4e84-aa9c-2d0d247654d0",
   "metadata": {},
   "source": [
    "FILES -- SCONDARY MEMORY"
   ]
  },
  {
   "cell_type": "code",
   "execution_count": 2,
   "id": "b34facfa-5e1c-4861-906e-dfea261c31d1",
   "metadata": {},
   "outputs": [
    {
     "name": "stdout",
     "output_type": "stream",
     "text": [
      "1910\n"
     ]
    },
    {
     "name": "stdin",
     "output_type": "stream",
     "text": [
      "Enter file name:  msdfsdf\n"
     ]
    },
    {
     "name": "stdout",
     "output_type": "stream",
     "text": [
      "cannot open: msdfsdf\n",
      "0\n",
      "sdfsd\n",
      "\n"
     ]
    }
   ],
   "source": [
    "#Open mode\n",
    "fhand = open(\"mbox-short.txt\") # Open a file in mode \"r\" -> handle -> Open, Read, Write, Close\n",
    "count = 0\n",
    "for line in fhand:  # each line (\\n) is an element- \\n is a element, invisible but elemnt. rstrip() get rid off that last \\n\n",
    "    count +=1       # each line is counted, and then, dismissed.  does not use a lot of memory\n",
    "print(count)        # Use this way to analyze text in large texts !!. Print puts a \\n in each iteration \n",
    "                    #Then, could result in a doube spac\n",
    "text = input(\"Enter file name: \")\n",
    "try:                                  #remember useing try and except when an input is needed\n",
    "    fhand = open(text)\n",
    "except:\n",
    "    print(\"cannot open: \"+text)\n",
    "    exit()                             # ends the kernel\n",
    "count = 0\n",
    "for line in fhand:\n",
    "    line = line.strip()                 # getting rid off the spaces\n",
    "    if line.find(\"@\")== -1: continue    # Use if to filter along with .find() or .startswith(). use continue when does not match the needs\n",
    "    count += 1                          # numbers of lines with @\n",
    "print(count)                            # remember that .find() retrives -1 when there is no coincidence\n",
    "                             \n",
    "fhand = open(\"whateve.txt\") #with mbox,read doesn´t work\n",
    "inp = fhand.read() # saves the file in only one string. If the text is larger than the memory, the result will be empty.\n",
    "print(inp[:20])\n",
    "\n",
    "\n",
    "\n"
   ]
  },
  {
   "cell_type": "code",
   "execution_count": 6,
   "id": "0b156670-563f-4f0a-ae0b-c55bbd07b7e5",
   "metadata": {},
   "outputs": [],
   "source": [
    "# Writing mode\n",
    "fout = open(\"new.txt\",\"w\") ## Carefull - if the file exists clear the data, otherwise would create the new file!!\n",
    "line1 = \"wrinitg method on python\\n\" # specifies the content in line 1\n",
    "fout.write(line1) # Writes in line 1 and returns the index-> new data is added from this point !!!\n",
    "line2 = \"testing line 2 - the extra space is not added automatically as it was in print\\n\"\n",
    "fout.write(line2)\n",
    "fout.close() ## make sure to close the file.Otherwise,power off means loses of data\n",
    "#\\n nweline, \\t space, \\r newline in other systems\n",
    "# function repr(string) returns a string with the above notation when it has them."
   ]
  },
  {
   "cell_type": "code",
   "execution_count": 11,
   "id": "e26c786b-e806-4145-88bb-69040262997d",
   "metadata": {},
   "outputs": [
    {
     "name": "stdin",
     "output_type": "stream",
     "text": [
      "enter file name:  new.txt\n"
     ]
    },
    {
     "name": "stdout",
     "output_type": "stream",
     "text": [
      "WRINITG METHOD ON PYTHON\n",
      "TESTING LINE 2 - THE EXTRA SPACE IS NOT ADDED AUTOMATICALLY AS IT WAS IN PRINT\n"
     ]
    }
   ],
   "source": [
    "# excercise 1 chapter 7\n",
    "f_name = input(\"enter file name: \")\n",
    "try:\n",
    "    fhand = open(f_name)\n",
    "    for line in fhand:\n",
    "        line = line.rstrip().upper()\n",
    "        print(line)\n",
    "    fhand.close()\n",
    "except:\n",
    "    print(\"enter a valid file name\")\n",
    "        "
   ]
  },
  {
   "cell_type": "code",
   "execution_count": 29,
   "id": "d61ea134-97c9-4837-8c42-6347e28f37f4",
   "metadata": {},
   "outputs": [
    {
     "name": "stdin",
     "output_type": "stream",
     "text": [
      "enter file name: na na boo boo\n"
     ]
    },
    {
     "name": "stdout",
     "output_type": "stream",
     "text": [
      "NA NA BOO BOO to you - fucking bastard\n"
     ]
    }
   ],
   "source": [
    "# excercises chapter 7\n",
    "f_name = input(\"enter file name:\")\n",
    "if f_name == \"na na boo boo\":\n",
    "    print(f_name.upper()+\" to you - fucking bastard\")\n",
    "else:\n",
    "    try:\n",
    "        fhand = open(f_name)\n",
    "        counter = 0\n",
    "        acc = 0\n",
    "        for line in fhand:\n",
    "            line = line.rstrip()\n",
    "            if line.find(\"X-DSPAM-Confidence:\") == -1: continue\n",
    "            init = line.find(\":\")\n",
    "            end = line[init+1:].strip()\n",
    "            counter += 1\n",
    "            acc += float(end)\n",
    "        avg = round(acc/counter,4)\n",
    "        print(\"The average is: %g\" %avg)\n",
    "        fhand.close()\n",
    "    except:\n",
    "        print(\"cannot find the file \"+f_name)"
   ]
  },
  {
   "cell_type": "markdown",
   "id": "aec4f674-0a22-4090-bf31-502612e2fea9",
   "metadata": {},
   "source": [
    "___LISTS []___ Like a string, a list is a sequence of values. In a string, the values are characters;\n",
    "in a list, they can be any type. The values in list are called elements or sometimes\n",
    "items.\n",
    "- __can be__ str, in ,float, other lists, empty lists, etc\n",
    "- lists are __MUTABLE__"
   ]
  },
  {
   "cell_type": "code",
   "execution_count": 37,
   "id": "610ff9a0-90e7-4c2d-a698-1c6a29f5b1b8",
   "metadata": {},
   "outputs": [
    {
     "name": "stdout",
     "output_type": "stream",
     "text": [
      "[1, 15, 54]\n"
     ]
    },
    {
     "data": {
      "text/plain": [
       "True"
      ]
     },
     "execution_count": 37,
     "metadata": {},
     "output_type": "execute_result"
    }
   ],
   "source": [
    "cheeses = [1,2,3]\n",
    "cheeses[1] = 15  # lists are mutable -> each element has an index : mapping --> index error id it does not exist\n",
    "cheeses[-1] = 54 # remember negative indexation\n",
    "print(cheeses)\n",
    "1 in cheeses # evaluate a boolean based on a element."
   ]
  },
  {
   "cell_type": "code",
   "execution_count": 55,
   "id": "7f418cd5-f72a-432f-ae09-8204d2e853e5",
   "metadata": {},
   "outputs": [
    {
     "name": "stdout",
     "output_type": "stream",
     "text": [
      "[2, 4, 3, 1, 2, 3]\n",
      "[2, 4, 3, 2, 4, 3]\n"
     ]
    },
    {
     "data": {
      "text/plain": [
       "[5, 4, 3]"
      ]
     },
     "execution_count": 55,
     "metadata": {},
     "output_type": "execute_result"
    }
   ],
   "source": [
    "# updating lists\n",
    "cheeses = [1,2,3]\n",
    "for i in range(len(cheeses)-1):  # if the the for evaluates a empty list (list()) the body won't be executed\n",
    "    cheeses[i] = cheeses[i] * 2  # if there is a list inside , the list only account by 1\n",
    "cheeses                          # remember the empty list strategy in loops !!\n",
    "\n",
    "# list operations\n",
    "num = [1,2,3]\n",
    "print(cheeses +  num) # merges both lists\n",
    "print(cheeses * 2 ) # repeats a list n times -- is not a matrix!!-> cannot multiplie lists each other.\n",
    "\n",
    "# List slice\n",
    "sl = cheeses[:] # make a copy to work with\n",
    "sl[0:2] = [5,4] # slice is up to n-1 index: in this caste 0 and 1(2-1)\n",
    "sl"
   ]
  },
  {
   "cell_type": "markdown",
   "id": "8a1834de-625d-4258-96c2-26fcc5febdd9",
   "metadata": {},
   "source": [
    "___LISTS POPULAR METHODS___"
   ]
  },
  {
   "cell_type": "code",
   "execution_count": 72,
   "id": "795f3c00-1062-49ae-8c8e-ad705769c476",
   "metadata": {},
   "outputs": [
    {
     "name": "stdout",
     "output_type": "stream",
     "text": [
      "[1, 2, 3, 3, 5, 9, 10]\n",
      "[2, 3, 5, 9] 3\n",
      "['c', 'h', 'r', 'i', 's']\n"
     ]
    }
   ],
   "source": [
    "ch = [1,2,3]\n",
    "cr = [5,3,9]\n",
    "ch.append(10) # adds 10 to ch -> modifies it. it modifies the list while + creates a new list!!\n",
    "ch.extend(cr) # cannot be used as a variable because it returns None !\n",
    "ch.sort()\n",
    "print(ch)\n",
    "del ch[0] # delete a item\n",
    "x = ch.pop(1) # take a index out and store it in a variable\n",
    "ch.remove(10) # delete a item by the element's name not by the index\n",
    "print(ch,x)\n",
    "# you can also use functions like sum, len, max, min, etc"
   ]
  },
  {
   "cell_type": "code",
   "execution_count": 82,
   "id": "8136d183-4f67-436c-8adc-180d8fe67500",
   "metadata": {},
   "outputs": [
    {
     "name": "stdout",
     "output_type": "stream",
     "text": [
      "['c', 'h', 'r', 'i', 's', '-', 'c', 'a', 'n', 'o']\n",
      "['chris', 'cano']\n",
      "chris-cano\n"
     ]
    }
   ],
   "source": [
    "name = \"chris-cano\"\n",
    "name_list = list(name) # you can translate strings into lists for each element\n",
    "print(name_list)\n",
    "print(name.split(\"-\")) # transforms a string to a list based on a delimiter(-) if it's empty, it means space.\n",
    "print(\"\".join(name_list)) # inverse of split. The delimiter is at the beginning\n",
    "# split is very use ful when one is dealing with open() along with if clause (split the important lines)."
   ]
  },
  {
   "cell_type": "code",
   "execution_count": 98,
   "id": "6544b13b-dbf1-4f2a-95a5-be5b0d4f4456",
   "metadata": {},
   "outputs": [
    {
     "name": "stdout",
     "output_type": "stream",
     "text": [
      "True\n",
      "False\n",
      "[1, 2]\n",
      "[3, 2]\n",
      "[2, 3, 4, 5] [3, 4]\n"
     ]
    }
   ],
   "source": [
    "a = \"banana\"\n",
    "b = \"banana\"\n",
    "print(a is b)   # a and b reffers to a same string object called \"banana\". They are identical (value and object)\n",
    "a = [1,2]\n",
    "b = [1,2]\n",
    "print(a is b) # lists , even if the are value-equivalent, referrr to different objects !! unidentical\n",
    "b = a         # we are aliasing b. b changes if a changes. b is just an alias of a.\n",
    "print(b)\n",
    "a[0] = 3\n",
    "print(b)     # both a & b are linked to the same object ! -> identic!!! avoid this, really prone to make errors\n",
    "# be ery carefull defining functions that modify the argument list or crete s a new one. don't confuse both terms.\n",
    "def chop(A):       # removes the first and last element of the list argument. modifies the argument\n",
    "    del A[0]\n",
    "    del A[len(A)-1]\n",
    "\n",
    "def middle(A):         # cretes a new list by slicing the original one. The original remains equal\n",
    "    new = A[1:len(A)-1]\n",
    "    return new\n",
    "ch = [1,2,3,4,5,6]\n",
    "chop(ch)\n",
    "x = middle(ch)\n",
    "print(ch,x)"
   ]
  },
  {
   "cell_type": "code",
   "execution_count": 122,
   "id": "98b2534c-4b21-4836-bcf0-ab2e76d355d5",
   "metadata": {},
   "outputs": [
    {
     "name": "stdout",
     "output_type": "stream",
     "text": [
      "['Arise', 'But', 'It', 'Juliet', 'Who', 'already', 'and', 'breaks', 'east', 'envious', 'fair', 'grief', 'is', 'kill', 'light', 'moon', 'pale', 'sick', 'soft', 'sun', 'the', 'through', 'what', 'window', 'with', 'yonder']\n"
     ]
    }
   ],
   "source": [
    "# Exercise chapter 8 -- 1\n",
    "fhand = open(\"romeo.txt\")\n",
    "unique = list()\n",
    "for line in fhand:\n",
    "    line = line.strip()\n",
    "    line = line.split()\n",
    "    for item in line:\n",
    "        if item in unique: continue\n",
    "        unique.append(item)\n",
    "unique.sort()\n",
    "print(unique)\n",
    "fhand.close()"
   ]
  },
  {
   "cell_type": "code",
   "execution_count": 18,
   "id": "a1c5a039-e861-4b45-a1b2-b8b60e75f7ab",
   "metadata": {},
   "outputs": [
    {
     "name": "stdout",
     "output_type": "stream",
     "text": [
      "stephen.marquard@uct.ac.za\n",
      "louis@media.berkeley.edu\n",
      "zqian@umich.edu\n",
      "rjlowe@iupui.edu\n",
      "zqian@umich.edu\n",
      "rjlowe@iupui.edu\n",
      "cwen@iupui.edu\n",
      "cwen@iupui.edu\n",
      "gsilver@umich.edu\n",
      "gsilver@umich.edu\n",
      "zqian@umich.edu\n",
      "gsilver@umich.edu\n",
      "wagnermr@iupui.edu\n",
      "zqian@umich.edu\n",
      "antranig@caret.cam.ac.uk\n",
      "gopal.ramasammycook@gmail.com\n",
      "david.horwitz@uct.ac.za\n",
      "david.horwitz@uct.ac.za\n",
      "david.horwitz@uct.ac.za\n",
      "david.horwitz@uct.ac.za\n",
      "stephen.marquard@uct.ac.za\n",
      "louis@media.berkeley.edu\n",
      "louis@media.berkeley.edu\n",
      "ray@media.berkeley.edu\n",
      "cwen@iupui.edu\n",
      "cwen@iupui.edu\n",
      "cwen@iupui.edu\n",
      "there were 27 lines \n"
     ]
    }
   ],
   "source": [
    "#2\n",
    "fhand_ = open(\"mbox-short.txt\")\n",
    "counter = 0\n",
    "senders = list()\n",
    "for line in fhand_:\n",
    "    line = line.rstrip()\n",
    "    line = line.split()\n",
    "    if len(line) == 0 or line[0] != \"From\": continue\n",
    "    print(line[1])\n",
    "    counter += 1\n",
    "print(\"there were %d lines \"%counter)"
   ]
  },
  {
   "cell_type": "code",
   "execution_count": 32,
   "id": "dd59b8bc-7c6f-4bde-a575-06d75f6e2884",
   "metadata": {},
   "outputs": [
    {
     "name": "stdin",
     "output_type": "stream",
     "text": [
      "enter a number: 4\n",
      "enter a number: 2\n",
      "enter a number: 8\n",
      "enter a number: 9\n",
      "enter a number: 4\n",
      "enter a number: 65\n",
      "enter a number: 2\n",
      "enter a number: 7\n",
      "enter a number: 7\n",
      "enter a number: done\n"
     ]
    },
    {
     "name": "stdout",
     "output_type": "stream",
     "text": [
      "max: 65 \n",
      "min: 2\n"
     ]
    }
   ],
   "source": [
    "#3\n",
    "result = list()\n",
    "try:\n",
    "    while True:\n",
    "        enter = input(\"enter a number:\")\n",
    "        if enter == \"done\": break\n",
    "        result.append(float(enter))\n",
    "    mx = max(result)\n",
    "    mn = min(result)\n",
    "    print(\"max: %d \"%mx+\"\\nmin: %d\"%mn)                  \n",
    "except:\n",
    "    \"Enter a number\""
   ]
  },
  {
   "cell_type": "markdown",
   "id": "7e66c6dd-46a0-4406-9860-761892b62f24",
   "metadata": {},
   "source": [
    "___DICTIONARIES___ : Indices can by any type !!! (keys)"
   ]
  },
  {
   "cell_type": "code",
   "execution_count": 43,
   "id": "8a23b03f-bfcb-4523-a48e-5e3d9e7739dd",
   "metadata": {},
   "outputs": [
    {
     "name": "stdout",
     "output_type": "stream",
     "text": [
      "dos\n",
      "3\n",
      "True\n"
     ]
    },
    {
     "data": {
      "text/plain": [
       "True"
      ]
     },
     "execution_count": 43,
     "metadata": {},
     "output_type": "execute_result"
    }
   ],
   "source": [
    "eng2sp = dict() #build in function to create a dict\n",
    "eng2sp[\"one\"] = \"uno\" # assigns to key \"one\" thye value of uno\n",
    "eng2sp = {\"one\":\"uno\",\"two\":\"dos\",\"three\":\"tres\"} # Dictionaries do not keep the same order because index don't matter any more\n",
    "print(eng2sp[\"two\"]) # calling the key maps the assigned value --error if you call the value and not the key}\n",
    "print(len(eng2sp)) # like a list\n",
    "print(\"three\" in eng2sp) # boolean value on keys\n",
    "D_values = list(eng2sp.values()) # extract dict values and save them in a list\n",
    "\"dos\" in D_values #evaluate a boolean in values instead of keys\n"
   ]
  },
  {
   "cell_type": "code",
   "execution_count": 63,
   "id": "a68e3763-617f-48cd-9918-2a5e184509b0",
   "metadata": {},
   "outputs": [
    {
     "name": "stdout",
     "output_type": "stream",
     "text": [
      "7\n",
      "0\n",
      "{'c': 4, 'h': 1, 'r': 2, 'i': 4, 's': 1, 't': 1, 'a': 3, 'n': 2, ' ': 3, 'm': 1, 'l': 1, 'o': 3}\n"
     ]
    }
   ],
   "source": [
    "dict1 ={\"ch\":4,\"al\":7,\"na\":7}\n",
    "print(dict1.get(\"al\",0)) # get method brings the value of a key. If the key is not there, i would bring the defalut value (zero in this case)\n",
    "print(dict1.get(\"Ma\",0)) # retrives 0\n",
    "#word counter\n",
    "word = \"christian camilo cano rico\"\n",
    "dict1=dict()\n",
    "for i in word:\n",
    "    dict1[i] = dict1.get(i,0)+1 # use get insted of the if statment -> commonly used !!\n",
    "print(dict1)"
   ]
  },
  {
   "cell_type": "code",
   "execution_count": null,
   "id": "a6d01d4c-20e7-4d91-93a8-73aeaedafcc8",
   "metadata": {},
   "outputs": [],
   "source": [
    "#pag 118"
   ]
  }
 ],
 "metadata": {
  "kernelspec": {
   "display_name": "Python 3",
   "language": "python",
   "name": "python3"
  },
  "language_info": {
   "codemirror_mode": {
    "name": "ipython",
    "version": 3
   },
   "file_extension": ".py",
   "mimetype": "text/x-python",
   "name": "python",
   "nbconvert_exporter": "python",
   "pygments_lexer": "ipython3",
   "version": "3.8.8"
  }
 },
 "nbformat": 4,
 "nbformat_minor": 5
}
