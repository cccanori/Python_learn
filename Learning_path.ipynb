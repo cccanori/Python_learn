{
 "cells": [
  {
   "cell_type": "code",
   "execution_count": 11,
   "id": "f71718b8-f803-46dd-8fab-55832cdd1f52",
   "metadata": {},
   "outputs": [
    {
     "data": {
      "text/plain": [
       "(float, int, str, bool)"
      ]
     },
     "execution_count": 11,
     "metadata": {},
     "output_type": "execute_result"
    }
   ],
   "source": [
    "(type(1.7),type(17),type(\"17\"),type(True))  # there are three types: int,str, bool, and float"
   ]
  },
  {
   "cell_type": "markdown",
   "id": "5ede7843-60fa-4d56-b4f5-216bcd8b0f05",
   "metadata": {},
   "source": [
    "Some variables rules: *Cannot start with a number\\\n",
    "                      *try to start them with a capital letter (good practice)\\\n",
    "                      *start with _ when coding a library function for others\\\n",
    "                      *Avoid using any of the 35 python's reserved keywords."
   ]
  },
  {
   "cell_type": "code",
   "execution_count": 19,
   "id": "9c306cdc-f122-468b-890d-b512ee56ea3f",
   "metadata": {},
   "outputs": [
    {
     "name": "stdout",
     "output_type": "stream",
     "text": [
      "5 1 6 1.5 1 9 1\n"
     ]
    }
   ],
   "source": [
    "print(3+2,3-2,3*2,3/2,3//2,3**2,3%2) #add,substract,multiply,divide(float),divide(int part),exponential, remainder of divition \n",
    "# order of presedence: 1.Parenthesis(),2.exponent,3.mult and division, and 4. add and subs. From left to right when equal\n",
    "# modulus operand (%) is freat to reduce zeros!!"
   ]
  },
  {
   "cell_type": "code",
   "execution_count": 26,
   "id": "1cf6f8ea-1056-4d15-a056-b3fcada20ace",
   "metadata": {},
   "outputs": [
    {
     "name": "stdout",
     "output_type": "stream",
     "text": [
      "3test , test test test \n",
      "Christian\n",
      "Cano\n"
     ]
    }
   ],
   "source": [
    "print(\"3\"+\"test\",\",\",3*\"test \") # String most important operators\n",
    "print(\"Christian\\nCano\") #\\n puts a new line "
   ]
  },
  {
   "cell_type": "code",
   "execution_count": 29,
   "id": "2c2927ad-210d-4e99-b78b-7226db12e17c",
   "metadata": {},
   "outputs": [
    {
     "name": "stdin",
     "output_type": "stream",
     "text": [
      "put your input\n",
      " hi\n"
     ]
    },
    {
     "data": {
      "text/plain": [
       "'hi'"
      ]
     },
     "execution_count": 29,
     "metadata": {},
     "output_type": "execute_result"
    }
   ],
   "source": [
    "input(\"put your input\\n\") "
   ]
  },
  {
   "cell_type": "code",
   "execution_count": 45,
   "id": "e56bc3a4-8006-48ba-89f5-519c4b8eccc5",
   "metadata": {},
   "outputs": [
    {
     "name": "stdin",
     "output_type": "stream",
     "text": [
      "enter your name:  Christian\n"
     ]
    },
    {
     "name": "stdout",
     "output_type": "stream",
     "text": [
      "Hello Christian\n"
     ]
    },
    {
     "name": "stdin",
     "output_type": "stream",
     "text": [
      "Enter hours:  45\n",
      "Enter rate:  36.98\n"
     ]
    },
    {
     "name": "stdout",
     "output_type": "stream",
     "text": [
      "1664.1\n"
     ]
    },
    {
     "name": "stdin",
     "output_type": "stream",
     "text": [
      "Enter celsius temperature:  56\n"
     ]
    },
    {
     "name": "stdout",
     "output_type": "stream",
     "text": [
      "56.0 celsius grades are 132.8 farenheit degrees\n"
     ]
    }
   ],
   "source": [
    "# Exercises Chapter 2\n",
    "#1\n",
    "x = input(\"enter your name: \")\n",
    "print(\"Hello \"+x)\n",
    "#2\n",
    "y = float(input(\"Enter hours: \"))\n",
    "z = float(input(\"Enter rate: \"))\n",
    "print(round(y*z,2))\n",
    "#4\n",
    "Cel = float(input(\"Enter celsius temperature: \"))\n",
    "f = (Cel*(9/5))+32\n",
    "print(str(Cel)+\" celsius grades are \"+str(f)+\" farenheit degrees\")"
   ]
  },
  {
   "cell_type": "markdown",
   "id": "464f8b7d-7b7d-4577-8e7a-7d8e829ba75e",
   "metadata": {},
   "source": [
    "CHAPTER 3"
   ]
  },
  {
   "cell_type": "code",
   "execution_count": 58,
   "id": "aeaa9b9b-27f9-42ae-b42d-52c0464d52d8",
   "metadata": {},
   "outputs": [
    {
     "name": "stdout",
     "output_type": "stream",
     "text": [
      "True False True\n"
     ]
    }
   ],
   "source": [
    "print(5==5,5==6,not(5>6)) # == states a boolean operator (True or False)\n",
    "# == and !=, < and >, <= and >=, is and is not. The latter refers to type\n",
    "# remember to use and, or, and not operators. The latter is the contrary of true or false result.\n",
    "# any non-zero int or float is True"
   ]
  },
  {
   "cell_type": "markdown",
   "id": "bdf288e6-5d75-425d-b65c-d1307c19713a",
   "metadata": {
    "tags": []
   },
   "source": [
    "IF Statment"
   ]
  },
  {
   "cell_type": "code",
   "execution_count": 70,
   "id": "f641903c-5fa1-4aa6-8a07-5f67479f8a26",
   "metadata": {
    "tags": []
   },
   "outputs": [
    {
     "name": "stdout",
     "output_type": "stream",
     "text": [
      "2.073644135332772\n"
     ]
    }
   ],
   "source": [
    "x = 4.3                   \n",
    "if x > 4 and x!=1:      #Remember to put colon after. Remeber \"short-circuit effect\" (from left to rigth)-> Guardian pattern\n",
    "    print(x**(1/2))     # always intented block after if\n",
    "elif x < 4 or x==1:\n",
    "    print(\"no boy\")\n",
    "else:\n",
    "    if x>4:         # Nested if. Avoid them if you can.\n",
    "        pass        # Pass does nothing but maybe you wanto to code in a while"
   ]
  },
  {
   "cell_type": "markdown",
   "id": "6be872b2-cdc3-4022-85f3-dec3af07c83b",
   "metadata": {},
   "source": [
    "Try and Except (unexpected errors)"
   ]
  },
  {
   "cell_type": "code",
   "execution_count": 71,
   "id": "3d7ee03d-eb2e-4e07-82d4-81245632f398",
   "metadata": {},
   "outputs": [
    {
     "name": "stdout",
     "output_type": "stream",
     "text": [
      "please enter a number\n"
     ]
    }
   ],
   "source": [
    "y = \"fred\"\n",
    "try:\n",
    "    y**(1/2)\n",
    "except:                           ##appears when an occuer happens and pythons stops\n",
    "    print(\"please enter a number\") ## avoid the massage of error. It is skipped if there are no errors."
   ]
  },
  {
   "cell_type": "code",
   "execution_count": 80,
   "id": "2b773b2b-94ec-40c6-bb93-6a6ecbfb47d2",
   "metadata": {},
   "outputs": [
    {
     "name": "stdin",
     "output_type": "stream",
     "text": [
      "Enter hours:  56\n",
      "Enter rate:  2.6\n"
     ]
    },
    {
     "name": "stdout",
     "output_type": "stream",
     "text": [
      "218.4\n"
     ]
    },
    {
     "name": "stdin",
     "output_type": "stream",
     "text": [
      "Enter a score between 0.0 and 1.0:  0.3698\n"
     ]
    },
    {
     "name": "stdout",
     "output_type": "stream",
     "text": [
      "F\n"
     ]
    }
   ],
   "source": [
    "# Exercise Chapter 3\n",
    "#1 and 2\n",
    "try:\n",
    "    y = float(input(\"Enter hours: \"))\n",
    "    z = float(input(\"Enter rate: \"))\n",
    "    if y>40:\n",
    "        print(round(y*(z*1.5),2))\n",
    "    else:\n",
    "        print(round(y*(z),2))\n",
    "except:\n",
    "    print(\"Error, please enter numeric input\")\n",
    "#3\n",
    "l = float(input(\"Enter a score between 0.0 and 1.0: \"))\n",
    "if l > 1.0 or l < 0.0:\n",
    "    print(\"Error: score out of range\")\n",
    "elif l>= 0.9:\n",
    "    print(\"A\")\n",
    "elif l>= 0.8:\n",
    "    print(\"B\")\n",
    "elif l>= 0.7:\n",
    "    print(\"C\")\n",
    "elif l>= 0.6:\n",
    "    print(\"D\")\n",
    "elif l< 0.6:\n",
    "    print(\"F\")"
   ]
  },
  {
   "cell_type": "code",
   "execution_count": null,
   "id": "893fe04b-4277-4077-854c-7065435e4aa9",
   "metadata": {},
   "outputs": [],
   "source": []
  }
 ],
 "metadata": {
  "kernelspec": {
   "display_name": "Python 3",
   "language": "python",
   "name": "python3"
  },
  "language_info": {
   "codemirror_mode": {
    "name": "ipython",
    "version": 3
   },
   "file_extension": ".py",
   "mimetype": "text/x-python",
   "name": "python",
   "nbconvert_exporter": "python",
   "pygments_lexer": "ipython3",
   "version": "3.8.8"
  }
 },
 "nbformat": 4,
 "nbformat_minor": 5
}
