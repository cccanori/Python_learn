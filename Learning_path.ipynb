{
 "cells": [
  {
   "cell_type": "code",
   "execution_count": 11,
   "id": "f71718b8-f803-46dd-8fab-55832cdd1f52",
   "metadata": {},
   "outputs": [
    {
     "data": {
      "text/plain": [
       "(float, int, str, bool)"
      ]
     },
     "execution_count": 11,
     "metadata": {},
     "output_type": "execute_result"
    }
   ],
   "source": [
    "(type(1.7),type(17),type(\"17\"),type(True))  # there are three types: int,str, bool, and float"
   ]
  },
  {
   "cell_type": "markdown",
   "id": "5ede7843-60fa-4d56-b4f5-216bcd8b0f05",
   "metadata": {},
   "source": [
    "Some variables rules: *Cannot start with a number\\\n",
    "                      *try to start them with a capital letter (good practice)\\\n",
    "                      *start with _ when coding a library function for others\\\n",
    "                      *Avoid using any of the 35 python's reserved keywords."
   ]
  },
  {
   "cell_type": "code",
   "execution_count": 19,
   "id": "9c306cdc-f122-468b-890d-b512ee56ea3f",
   "metadata": {},
   "outputs": [
    {
     "name": "stdout",
     "output_type": "stream",
     "text": [
      "5 1 6 1.5 1 9 1\n"
     ]
    }
   ],
   "source": [
    "print(3+2,3-2,3*2,3/2,3//2,3**2,3%2) #add,substract,multiply,divide(float),divide(int part),exponential, remainder of divition \n",
    "# order of presedence: 1.Parenthesis(),2.exponent,3.mult and division, and 4. add and subs. From left to right when equal\n",
    "# modulus operand (%) is freat to reduce zeros!!"
   ]
  },
  {
   "cell_type": "code",
   "execution_count": 26,
   "id": "1cf6f8ea-1056-4d15-a056-b3fcada20ace",
   "metadata": {},
   "outputs": [
    {
     "name": "stdout",
     "output_type": "stream",
     "text": [
      "3test , test test test \n",
      "Christian\n",
      "Cano\n"
     ]
    }
   ],
   "source": [
    "print(\"3\"+\"test\",\",\",3*\"test \") # String most important operators\n",
    "print(\"Christian\\nCano\") #\\n puts a new line "
   ]
  },
  {
   "cell_type": "code",
   "execution_count": 45,
   "id": "e56bc3a4-8006-48ba-89f5-519c4b8eccc5",
   "metadata": {},
   "outputs": [
    {
     "name": "stdin",
     "output_type": "stream",
     "text": [
      "enter your name:  Christian\n"
     ]
    },
    {
     "name": "stdout",
     "output_type": "stream",
     "text": [
      "Hello Christian\n"
     ]
    },
    {
     "name": "stdin",
     "output_type": "stream",
     "text": [
      "Enter hours:  45\n",
      "Enter rate:  36.98\n"
     ]
    },
    {
     "name": "stdout",
     "output_type": "stream",
     "text": [
      "1664.1\n"
     ]
    },
    {
     "name": "stdin",
     "output_type": "stream",
     "text": [
      "Enter celsius temperature:  56\n"
     ]
    },
    {
     "name": "stdout",
     "output_type": "stream",
     "text": [
      "56.0 celsius grades are 132.8 farenheit degrees\n"
     ]
    }
   ],
   "source": [
    "# Exercises Chapter 2\n",
    "#1\n",
    "x = input(\"enter your name: \")\n",
    "print(\"Hello \"+x)\n",
    "#2\n",
    "y = float(input(\"Enter hours: \"))\n",
    "z = float(input(\"Enter rate: \"))\n",
    "print(round(y*z,2))\n",
    "#4\n",
    "Cel = float(input(\"Enter celsius temperature: \"))\n",
    "f = (Cel*(9/5))+32\n",
    "print(str(Cel)+\" celsius grades are \"+str(f)+\" farenheit degrees\")"
   ]
  },
  {
   "cell_type": "markdown",
   "id": "464f8b7d-7b7d-4577-8e7a-7d8e829ba75e",
   "metadata": {},
   "source": [
    "CHAPTER 3"
   ]
  },
  {
   "cell_type": "code",
   "execution_count": 58,
   "id": "aeaa9b9b-27f9-42ae-b42d-52c0464d52d8",
   "metadata": {},
   "outputs": [
    {
     "name": "stdout",
     "output_type": "stream",
     "text": [
      "True False True\n"
     ]
    }
   ],
   "source": [
    "print(5==5,5==6,not(5>6)) # == states a boolean operator (True or False)\n",
    "# == and !=, < and >, <= and >=, is and is not. The latter refers to type\n",
    "# remember to use and, or, and not operators. The latter is the contrary of true or false result.\n",
    "# any non-zero int or float is True"
   ]
  },
  {
   "cell_type": "markdown",
   "id": "bdf288e6-5d75-425d-b65c-d1307c19713a",
   "metadata": {
    "tags": []
   },
   "source": [
    "IF Statment"
   ]
  },
  {
   "cell_type": "code",
   "execution_count": 70,
   "id": "f641903c-5fa1-4aa6-8a07-5f67479f8a26",
   "metadata": {
    "tags": []
   },
   "outputs": [
    {
     "name": "stdout",
     "output_type": "stream",
     "text": [
      "2.073644135332772\n"
     ]
    }
   ],
   "source": [
    "x = 4.3                   \n",
    "if x > 4 and x!=1:      #Remember to put colon after. Remeber \"short-circuit effect\" (from left to rigth)-> Guardian pattern\n",
    "    print(x**(1/2))     # always intented block after if\n",
    "elif x < 4 or x==1:\n",
    "    print(\"no boy\")\n",
    "else:\n",
    "    if x>4:         # Nested if. Avoid them if you can.\n",
    "        pass        # Pass does nothing but maybe you wanto to code in a while"
   ]
  },
  {
   "cell_type": "markdown",
   "id": "6be872b2-cdc3-4022-85f3-dec3af07c83b",
   "metadata": {},
   "source": [
    "Try and Except (unexpected errors)"
   ]
  },
  {
   "cell_type": "code",
   "execution_count": 71,
   "id": "3d7ee03d-eb2e-4e07-82d4-81245632f398",
   "metadata": {},
   "outputs": [
    {
     "name": "stdout",
     "output_type": "stream",
     "text": [
      "please enter a number\n"
     ]
    }
   ],
   "source": [
    "y = \"fred\"\n",
    "try:\n",
    "    y**(1/2)\n",
    "except:                           ##appears when an occuer happens and pythons stops\n",
    "    print(\"please enter a number\") ## avoid the massage of error. It is skipped if there are no errors."
   ]
  },
  {
   "cell_type": "code",
   "execution_count": 80,
   "id": "2b773b2b-94ec-40c6-bb93-6a6ecbfb47d2",
   "metadata": {},
   "outputs": [
    {
     "name": "stdin",
     "output_type": "stream",
     "text": [
      "Enter hours:  56\n",
      "Enter rate:  2.6\n"
     ]
    },
    {
     "name": "stdout",
     "output_type": "stream",
     "text": [
      "218.4\n"
     ]
    },
    {
     "name": "stdin",
     "output_type": "stream",
     "text": [
      "Enter a score between 0.0 and 1.0:  0.3698\n"
     ]
    },
    {
     "name": "stdout",
     "output_type": "stream",
     "text": [
      "F\n"
     ]
    }
   ],
   "source": [
    "# Exercise Chapter 3\n",
    "#1 and 2\n",
    "try:\n",
    "    y = float(input(\"Enter hours: \"))\n",
    "    z = float(input(\"Enter rate: \"))\n",
    "    if y>40:\n",
    "        print(round(y*(z*1.5),2))\n",
    "    else:\n",
    "        print(round(y*(z),2))\n",
    "except:\n",
    "    print(\"Error, please enter numeric input\")\n",
    "#3\n",
    "l = float(input(\"Enter a score between 0.0 and 1.0: \"))\n",
    "if l > 1.0 or l < 0.0:\n",
    "    print(\"Error: score out of range\")\n",
    "elif l>= 0.9:\n",
    "    print(\"A\")\n",
    "elif l>= 0.8:\n",
    "    print(\"B\")\n",
    "elif l>= 0.7:\n",
    "    print(\"C\")\n",
    "elif l>= 0.6:\n",
    "    print(\"D\")\n",
    "elif l< 0.6:\n",
    "    print(\"F\")"
   ]
  },
  {
   "cell_type": "markdown",
   "id": "04336ca6-3a06-439d-8908-97c32321a411",
   "metadata": {},
   "source": [
    "FUNCTIONS"
   ]
  },
  {
   "cell_type": "code",
   "execution_count": 1,
   "id": "fc963d25-0d4d-4da8-93a2-10d5f79e3331",
   "metadata": {},
   "outputs": [],
   "source": [
    "# most popular buil-in functions: type,max,min,and len\n",
    "# conversion typoe: int(),float(),and str()"
   ]
  },
  {
   "cell_type": "code",
   "execution_count": 2,
   "id": "7ab97a6a-52ef-4d26-9865-7fa9c27de196",
   "metadata": {},
   "outputs": [
    {
     "name": "stdout",
     "output_type": "stream",
     "text": [
      "0.3236043187592832\n"
     ]
    }
   ],
   "source": [
    "import math # math library\n",
    "x = 6  \n",
    "rad = x/360*2*math.pi\n",
    "print(math.sqrt(rad))  # calle the library and then the librarie's function using a .\n"
   ]
  },
  {
   "cell_type": "code",
   "execution_count": 11,
   "id": "1defdb98-7320-485d-a53a-11f1303f175f",
   "metadata": {},
   "outputs": [
    {
     "name": "stdout",
     "output_type": "stream",
     "text": [
      "0.42948935556752244\n",
      "8\n",
      "3\n"
     ]
    }
   ],
   "source": [
    "import random    # library the generate random numbers\n",
    "print(random.random()) #produces floats between 0.0 and 1.0 but not 1.0\n",
    "print(random.randint(1,10)) # produces a rand int between a low and high range\n",
    "t =[1,2,3] \n",
    "print(random.choice(t)) # select a random element from a sequence\n"
   ]
  },
  {
   "cell_type": "code",
   "execution_count": 28,
   "id": "2e0ac4ca-0c83-4a05-a24f-87e3b8b36fec",
   "metadata": {},
   "outputs": [],
   "source": [
    "# New functions         # you create objects of type funtion---- remember the flow execution\n",
    "def your_name():        # empty brackets means a function without arguments\n",
    "    x=\"Christian\"\n",
    "    z = \" \"\n",
    "    y = \"Cano\"\n",
    "    return x+z+y   ## if you don't use return the result is None (another type of object) which a empty variable basically\n",
    "\n"
   ]
  },
  {
   "cell_type": "code",
   "execution_count": 44,
   "id": "c9136b6c-a640-433c-a340-12169ef1e1c5",
   "metadata": {},
   "outputs": [
    {
     "data": {
      "text/plain": [
       "399.9"
      ]
     },
     "execution_count": 44,
     "metadata": {},
     "output_type": "execute_result"
    }
   ],
   "source": [
    "# Excercise chapter 4\n",
    "def pay_comp(hours,rate):\n",
    "    try:\n",
    "        y = float(hours)\n",
    "        z = float(rate)\n",
    "        if y>40:\n",
    "            x=(round(y*(z*1.5),2))\n",
    "        else:\n",
    "            x=(round(y*(z),2))\n",
    "    except:\n",
    "        x=\"Error, please enter numeric input\"\n",
    "    return x\n",
    "x=pay_comp(39.99,10)\n",
    "x"
   ]
  },
  {
   "cell_type": "markdown",
   "id": "7db0e90c-1465-4a02-b601-bc9bc61e389f",
   "metadata": {},
   "source": [
    "ITERATIONS"
   ]
  },
  {
   "cell_type": "code",
   "execution_count": 49,
   "id": "34499d6f-6757-4360-b1c4-199f972917b1",
   "metadata": {},
   "outputs": [
    {
     "name": "stdout",
     "output_type": "stream",
     "text": [
      "5\n",
      "4\n",
      "3\n",
      "2\n",
      "1\n",
      "count finish\n"
     ]
    },
    {
     "name": "stdin",
     "output_type": "stream",
     "text": [
      "please write line:  #erd\n",
      "please write line:  erd\n"
     ]
    },
    {
     "name": "stdout",
     "output_type": "stream",
     "text": [
      "type the fucking line\n"
     ]
    },
    {
     "name": "stdin",
     "output_type": "stream",
     "text": [
      "please write line:  line\n"
     ]
    },
    {
     "name": "stdout",
     "output_type": "stream",
     "text": [
      "done!\n"
     ]
    }
   ],
   "source": [
    "n = 5         # setting a counting down using while (indefinite loop)\n",
    "while n > 0:  # evaluates the condition: True countinue the loop and in false it exits . Be carefull with infinite loops!\n",
    "    print(n)\n",
    "    n = n - 1  # only activated if while statment is true\n",
    "print(\"count finish\")\n",
    "\n",
    "while True:                               # using infinite loop in our favor\n",
    "    line = input(\"please write line: \")   \n",
    "    if line == \"line\":\n",
    "        break                           # break the infinite loop given a clause. Exit the loop\n",
    "    elif line[0] == \"#\":\n",
    "        continue                       # skip one iteration given a clause. In this case # would be a comment then there is no sense in printing it\n",
    "    print(\"type the fucking line\")     # comes back to the beginning of the loop\n",
    "print(\"done!\")\n",
    "\n"
   ]
  },
  {
   "cell_type": "code",
   "execution_count": 57,
   "id": "64f5a04a-f078-4b2c-84e3-3beeda087617",
   "metadata": {},
   "outputs": [
    {
     "name": "stdout",
     "output_type": "stream",
     "text": [
      "The number is 0\n",
      "The number is 1\n",
      "The number is 2\n",
      "The number is 3\n",
      "The number is 4\n",
      "Numer of iterations were:5\n",
      "The total sum is: 10\n"
     ]
    }
   ],
   "source": [
    "counter = 0                          #setting a counter\n",
    "add_ = 0                             # a accumulator\n",
    "for i in range(5):                   # setting a for iteration(finite loop)\n",
    "    print(\"The number is \"+str(i))\n",
    "    counter+= 1\n",
    "    add_+= i\n",
    "print(\"Numer of iterations were:\"+str(counter)+\"\\nThe total sum is: \"+str(add_))"
   ]
  },
  {
   "cell_type": "code",
   "execution_count": 2,
   "id": "6934e26a-309a-4fac-8970-9d07a60d6cfc",
   "metadata": {},
   "outputs": [
    {
     "name": "stdin",
     "output_type": "stream",
     "text": [
      "Enter a number: 45\n",
      "Enter a number: 2.36\n",
      "Enter a number: 88sdf\n"
     ]
    },
    {
     "name": "stdout",
     "output_type": "stream",
     "text": [
      "Enter a number!\n"
     ]
    },
    {
     "name": "stdin",
     "output_type": "stream",
     "text": [
      "Enter a number: 56.2587\n",
      "Enter a number: done\n"
     ]
    },
    {
     "name": "stdout",
     "output_type": "stream",
     "text": [
      "Total:103.61869999999999  Count:3 Avg:34.54 Max:56.2587 Min:2.36\n",
      "Good job\n"
     ]
    }
   ],
   "source": [
    "## Exercices chapter 6\n",
    "counter = 0\n",
    "Acc = 0\n",
    "mx = None\n",
    "mn = None\n",
    "while True:\n",
    "    try:\n",
    "        y = input(\"Enter a number:\")\n",
    "        if y != \"done\":\n",
    "            x = float(y)\n",
    "            Acc += x\n",
    "            counter += 1\n",
    "            if mx is None or  x > mx :\n",
    "                mx = x\n",
    "            if mn is None or x < mn:\n",
    "                mn = x\n",
    "        elif y == \"done\":\n",
    "            print(\"Total:\"+str(Acc), \" Count:\"+str(counter)+\" Avg:\"+str(round(Acc/counter,2))+\" Max:\"+str(mx)+\" Min:\"+str(mn)) \n",
    "            break\n",
    "    except:\n",
    "        print(\"Enter a number!\")\n",
    "print(\"Good job\")"
   ]
  },
  {
   "cell_type": "markdown",
   "id": "e16d879e-6589-4c61-84bb-d6f27792353e",
   "metadata": {},
   "source": [
    "STRINGS - "
   ]
  },
  {
   "cell_type": "code",
   "execution_count": 22,
   "id": "0bb470b5-1a7f-411d-9c8f-590cb44b24be",
   "metadata": {},
   "outputs": [
    {
     "name": "stdout",
     "output_type": "stream",
     "text": [
      "9 C n\n",
      "C\n",
      "h\n",
      "r\n",
      "i\n",
      "s\n",
      "t\n",
      "i\n",
      "a\n",
      "n\n",
      "C\n",
      "h\n",
      "r\n",
      "i\n",
      "s\n",
      "t\n",
      "i\n",
      "a\n",
      "n\n",
      "ri Chri stian\n"
     ]
    },
    {
     "data": {
      "text/plain": [
       "'Camilo'"
      ]
     },
     "execution_count": 22,
     "metadata": {},
     "output_type": "execute_result"
    }
   ],
   "source": [
    "name = \"Christian\"\n",
    "long = len(name)\n",
    "first = name[0]   # the way to index a string is from 0\n",
    "last = name[-1]   # Negative indexes come from the las part\n",
    "last = name[long-1] # the last one by avoid using negative index\n",
    "print(long,first,last)\n",
    "\n",
    "index = 0            # Traversal string looping - While\n",
    "while index < long:\n",
    "    print(name[index])\n",
    "    index += 1\n",
    "for i in name:       # Traversal str using for \n",
    "    print(i)\n",
    "\n",
    "slice_1 = name[2:4]  # extract from ix 2 to 4. remember starts from 0!\n",
    "slice_2 = name[:4]   # from idx 0 to 4\n",
    "slice_3 = name[4:]   # from the last idx (in 0) to the last 4 \n",
    "empty_slice= name[3:3] # if the first indes is > or = to the second.result is empty string\"\"\n",
    "print(slice_1,slice_2,slice_3)\n",
    "empty_slice\n",
    "#* String are inmutable: name[0]= \"sth\"(item) gives an error. However you can slice it and make a new one:\n",
    "sec_name = name[0]+\"amilo\"\n",
    "sec_name\n"
   ]
  },
  {
   "cell_type": "code",
   "execution_count": null,
   "id": "0e929b25-3209-4710-b549-9e627dc2ab59",
   "metadata": {},
   "outputs": [],
   "source": []
  }
 ],
 "metadata": {
  "kernelspec": {
   "display_name": "Python 3",
   "language": "python",
   "name": "python3"
  },
  "language_info": {
   "codemirror_mode": {
    "name": "ipython",
    "version": 3
   },
   "file_extension": ".py",
   "mimetype": "text/x-python",
   "name": "python",
   "nbconvert_exporter": "python",
   "pygments_lexer": "ipython3",
   "version": "3.8.8"
  }
 },
 "nbformat": 4,
 "nbformat_minor": 5
}
