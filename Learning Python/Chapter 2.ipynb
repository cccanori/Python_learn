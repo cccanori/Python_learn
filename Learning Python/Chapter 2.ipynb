{
 "cells": [
  {
   "cell_type": "code",
   "execution_count": 24,
   "id": "75ed5674-dde1-4043-ad6f-ae9fd13d84c9",
   "metadata": {},
   "outputs": [],
   "source": [
    "# ways to open a py script:\n",
    "import testing   # import the whole file and avoid name clash. Should be reload if there are changes in it\n",
    "from testing import title   # read the file and brings the variables (can have name clash)\n",
    "from sys import reaload\n",
    "reload(testing)             # allows changing the module and reloading it.Otherwise you should close the session to re import\n",
    "exec(open('testing.py').read()) # alternative way to the couple import-reload... but can overwrite variables...   "
   ]
  },
  {
   "cell_type": "code",
   "execution_count": 22,
   "id": "a6d2d4cc-c78b-4674-8d34-1c2b6eb37978",
   "metadata": {},
   "outputs": [
    {
     "name": "stdout",
     "output_type": "stream",
     "text": [
      "Christian\n"
     ]
    }
   ],
   "source": [
    "print(title)"
   ]
  },
  {
   "cell_type": "code",
   "execution_count": 26,
   "id": "3236b229-bd5a-4da8-8f13-0e983cf22f08",
   "metadata": {},
   "outputs": [
    {
     "data": {
      "text/plain": [
       "['C:\\\\Users\\\\chris\\\\python_l',\n",
       " 'C:\\\\Users\\\\chris\\\\anaconda3\\\\python38.zip',\n",
       " 'C:\\\\Users\\\\chris\\\\anaconda3\\\\DLLs',\n",
       " 'C:\\\\Users\\\\chris\\\\anaconda3\\\\lib',\n",
       " 'C:\\\\Users\\\\chris\\\\anaconda3',\n",
       " '',\n",
       " 'C:\\\\Users\\\\chris\\\\anaconda3\\\\lib\\\\site-packages',\n",
       " 'C:\\\\Users\\\\chris\\\\anaconda3\\\\lib\\\\site-packages\\\\locket-0.2.1-py3.8.egg',\n",
       " 'C:\\\\Users\\\\chris\\\\anaconda3\\\\lib\\\\site-packages\\\\win32',\n",
       " 'C:\\\\Users\\\\chris\\\\anaconda3\\\\lib\\\\site-packages\\\\win32\\\\lib',\n",
       " 'C:\\\\Users\\\\chris\\\\anaconda3\\\\lib\\\\site-packages\\\\Pythonwin',\n",
       " 'C:\\\\Users\\\\chris\\\\anaconda3\\\\lib\\\\site-packages\\\\IPython\\\\extensions',\n",
       " 'C:\\\\Users\\\\chris\\\\.ipython']"
      ]
     },
     "execution_count": 26,
     "metadata": {},
     "output_type": "execute_result"
    }
   ],
   "source": [
    "import sys\n",
    "sys.path"
   ]
  },
  {
   "cell_type": "code",
   "execution_count": 27,
   "id": "a3885d87-1e57-49d5-9fe9-b71481915932",
   "metadata": {},
   "outputs": [],
   "source": [
    "import testing"
   ]
  },
  {
   "cell_type": "code",
   "execution_count": 29,
   "id": "4dc33735-585a-45b1-93db-fc8917762cea",
   "metadata": {},
   "outputs": [
    {
     "data": {
      "text/plain": [
       "[1, 2, [...]]"
      ]
     },
     "execution_count": 29,
     "metadata": {},
     "output_type": "execute_result"
    }
   ],
   "source": [
    "L = [1,2]\n",
    "L.append(L)\n",
    "L[2]"
   ]
  },
  {
   "cell_type": "code",
   "execution_count": 16,
   "id": "58244692-9948-4c3d-b520-08ee775e7b4b",
   "metadata": {},
   "outputs": [
    {
     "name": "stdout",
     "output_type": "stream",
     "text": [
      "[1, 4, 7]\n",
      "[1, 5, 9]\n",
      "[6, 15, 24]\n"
     ]
    }
   ],
   "source": [
    "# review comprehension lists\n",
    "M = [[1,2,3],[4,5,6],[7,8,9]]\n",
    "diag = [M[i][i] for i in [0,1,2]] # getting the diagonal\n",
    "M_plus1 = [i[0] for i in M] # Aggregate in one list the first element of each list\n",
    "print(M_plus1)\n",
    "print(diag)\n",
    "total = list((map(sum,M))) #sum each row\n",
    "print(total)\n",
    "# do not forget to review map and filter at length"
   ]
  },
  {
   "cell_type": "code",
   "execution_count": 29,
   "id": "870aa793-28fb-452d-a506-6bd67af8da8a",
   "metadata": {},
   "outputs": [
    {
     "name": "stdout",
     "output_type": "stream",
     "text": [
      "Help on built-in function seek:\n",
      "\n",
      "seek(cookie, whence=0, /) method of _io.TextIOWrapper instance\n",
      "    Change stream position.\n",
      "    \n",
      "    Change the stream position to the given byte offset. The offset is\n",
      "    interpreted relative to the position indicated by whence.  Values\n",
      "    for whence are:\n",
      "    \n",
      "    * 0 -- start of stream (the default); offset should be zero or positive\n",
      "    * 1 -- current stream position; offset may be negative\n",
      "    * 2 -- end of stream; offset is usually negative\n",
      "    \n",
      "    Return the new absolute position.\n",
      "\n"
     ]
    }
   ],
   "source": []
  },
  {
   "cell_type": "code",
   "execution_count": 22,
   "id": "a70be57e-c09f-471e-8912-354c21d9c9b0",
   "metadata": {},
   "outputs": [
    {
     "data": {
      "text/plain": [
       "['C:\\\\Users\\\\chris\\\\python_l\\\\Learning Python',\n",
       " 'C:\\\\Users\\\\chris\\\\anaconda3\\\\python38.zip',\n",
       " 'C:\\\\Users\\\\chris\\\\anaconda3\\\\DLLs',\n",
       " 'C:\\\\Users\\\\chris\\\\anaconda3\\\\lib',\n",
       " 'C:\\\\Users\\\\chris\\\\anaconda3',\n",
       " '',\n",
       " 'C:\\\\Users\\\\chris\\\\anaconda3\\\\lib\\\\site-packages',\n",
       " 'C:\\\\Users\\\\chris\\\\anaconda3\\\\lib\\\\site-packages\\\\locket-0.2.1-py3.8.egg',\n",
       " 'C:\\\\Users\\\\chris\\\\anaconda3\\\\lib\\\\site-packages\\\\win32',\n",
       " 'C:\\\\Users\\\\chris\\\\anaconda3\\\\lib\\\\site-packages\\\\win32\\\\lib',\n",
       " 'C:\\\\Users\\\\chris\\\\anaconda3\\\\lib\\\\site-packages\\\\Pythonwin',\n",
       " 'C:\\\\Users\\\\chris\\\\anaconda3\\\\lib\\\\site-packages\\\\IPython\\\\extensions',\n",
       " 'C:\\\\Users\\\\chris\\\\.ipython']"
      ]
     },
     "execution_count": 22,
     "metadata": {},
     "output_type": "execute_result"
    }
   ],
   "source": []
  },
  {
   "cell_type": "code",
   "execution_count": null,
   "id": "5503fba0-ca77-41f2-bf50-f80c89fed266",
   "metadata": {},
   "outputs": [],
   "source": []
  }
 ],
 "metadata": {
  "kernelspec": {
   "display_name": "Python 3",
   "language": "python",
   "name": "python3"
  },
  "language_info": {
   "codemirror_mode": {
    "name": "ipython",
    "version": 3
   },
   "file_extension": ".py",
   "mimetype": "text/x-python",
   "name": "python",
   "nbconvert_exporter": "python",
   "pygments_lexer": "ipython3",
   "version": "3.8.8"
  }
 },
 "nbformat": 4,
 "nbformat_minor": 5
}
