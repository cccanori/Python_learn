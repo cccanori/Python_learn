{
 "cells": [
  {
   "cell_type": "code",
   "execution_count": 1,
   "id": "6223b590-2853-4fa0-b56d-7747a252ed9e",
   "metadata": {},
   "outputs": [],
   "source": [
    "#1\n",
    "def prints(x):\n",
    "    print(x)"
   ]
  },
  {
   "cell_type": "code",
   "execution_count": 22,
   "id": "b0362254-1986-4782-8416-721325f94e24",
   "metadata": {},
   "outputs": [
    {
     "name": "stdout",
     "output_type": "stream",
     "text": [
      "{'hi': 3}\n",
      "['h', 'i']\n"
     ]
    }
   ],
   "source": [
    "prints(dict(hi = 3))\n",
    "prints(list('hi'))"
   ]
  },
  {
   "cell_type": "code",
   "execution_count": 30,
   "id": "0e7b4d61-fc53-4a8d-af63-7dba1f391c59",
   "metadata": {},
   "outputs": [],
   "source": [
    "#2-3\n",
    "def adder(*args):\n",
    "    beg = args[0]\n",
    "    for x in args[1:]:\n",
    "        beg += x\n",
    "    print(beg)"
   ]
  },
  {
   "cell_type": "code",
   "execution_count": 41,
   "id": "cda32801-8e4b-4d8e-a329-b6a1432984ee",
   "metadata": {},
   "outputs": [
    {
     "name": "stdout",
     "output_type": "stream",
     "text": [
      "[9, 10, 3, 2]\n"
     ]
    }
   ],
   "source": [
    "adder(list((9,10)),list((3,2)))"
   ]
  },
  {
   "cell_type": "code",
   "execution_count": 57,
   "id": "ebbda5f6-2a5e-423b-b593-e6ed7e2b0016",
   "metadata": {},
   "outputs": [],
   "source": [
    "#4\n",
    "def adder2(kys = True, **kargs):\n",
    "    if not kys:\n",
    "        beg = list(kargs.values())[0]\n",
    "        for x in list(kargs.values())[1:]:\n",
    "            beg += x\n",
    "        print(beg)\n",
    "    else:    \n",
    "        beg = list(kargs.keys())[0]\n",
    "        for x in list(kargs.keys())[1:]:\n",
    "            beg += x\n",
    "        print(beg)\n",
    "    "
   ]
  },
  {
   "cell_type": "code",
   "execution_count": 58,
   "id": "5df1b14b-2ada-416c-8522-646b567fd78a",
   "metadata": {},
   "outputs": [
    {
     "name": "stdout",
     "output_type": "stream",
     "text": [
      "98\n"
     ]
    }
   ],
   "source": [
    "adder2(hi = 9, you = 89,kys=False)"
   ]
  },
  {
   "cell_type": "code",
   "execution_count": 7,
   "id": "4f4b01e2-79c6-42c8-b97f-f32eb30b9e6b",
   "metadata": {},
   "outputs": [],
   "source": [
    "#5\n",
    "def CopyDict(Dict):\n",
    "    copy_dict = dict()\n",
    "    for x in Dict.keys():\n",
    "        copy_dict[x]= Dict[x]\n",
    "    return copy_dict"
   ]
  },
  {
   "cell_type": "code",
   "execution_count": 95,
   "id": "7e886c78-878e-4ba4-aaf2-3b1cbed32e0b",
   "metadata": {},
   "outputs": [
    {
     "data": {
      "text/plain": [
       "{'hi': 10, 'you': 9}"
      ]
     },
     "execution_count": 95,
     "metadata": {},
     "output_type": "execute_result"
    }
   ],
   "source": [
    "y = dict(hi = 10,you = 9)\n",
    "x=CopyDict(y)\n",
    "x"
   ]
  },
  {
   "cell_type": "code",
   "execution_count": 90,
   "id": "71969af9-e0b2-485a-ab6a-3e50c231ab46",
   "metadata": {},
   "outputs": [
    {
     "data": {
      "text/plain": [
       "{'hi': 10, 'you': 9}"
      ]
     },
     "execution_count": 90,
     "metadata": {},
     "output_type": "execute_result"
    }
   ],
   "source": [
    "dict((('hi', 10),('you', 9)))"
   ]
  },
  {
   "cell_type": "code",
   "execution_count": null,
   "id": "2121a7df-7fc4-468e-bf01-6bc33e519320",
   "metadata": {},
   "outputs": [],
   "source": []
  },
  {
   "cell_type": "code",
   "execution_count": 4,
   "id": "785cdcc7-93c2-4505-8d4f-3441332faadc",
   "metadata": {},
   "outputs": [],
   "source": [
    "#6\n",
    "def addDict(dict1,**dict2):\n",
    "    dict1 = CopyDict(dict1)\n",
    "    for x in dict2.keys():\n",
    "        if x in dict1:\n",
    "            dict1[x] += dict2[x]\n",
    "        else: dict1[x] = dict2[x]\n",
    "    return dict1"
   ]
  },
  {
   "cell_type": "code",
   "execution_count": 8,
   "id": "48f83886-02b7-4177-ba51-e48bbe7ee189",
   "metadata": {},
   "outputs": [
    {
     "data": {
      "text/plain": [
       "{'u': 3, 'r': 4, 's': 5, 't': 6, 'f': 8, 'g': 7}"
      ]
     },
     "execution_count": 8,
     "metadata": {},
     "output_type": "execute_result"
    }
   ],
   "source": [
    "A = {'u':3,'r':4 }\n",
    "B = {'s':5,'t':6 }\n",
    "C = {'f':8,'g':7 }\n",
    "addDict(A,**B,**C)\n",
    "\n",
    "# the previous exercises could be easily done by using D.copy() and D1.update(D2) method."
   ]
  },
  {
   "cell_type": "code",
   "execution_count": 9,
   "id": "0344acc4-336d-4ea1-b8ca-287c1f5e439f",
   "metadata": {},
   "outputs": [],
   "source": [
    "# 7\n",
    "\n",
    "def f1(a, b): print(a, b) # Normal args\n",
    "def f2(a, *b): print(a, b) # Positional varargs\n",
    "def f3(a, **b): print(a, b) # Keyword varargs\n",
    "def f4(a, *b, **c): print(a, b, c) # Mixed modes\n",
    "def f5(a, b=2, c=3): print(a, b, c) # Defaults\n",
    "def f6(a, b=2, *c): print(a, b, c) # Defaults and positional varargs"
   ]
  },
  {
   "cell_type": "code",
   "execution_count": null,
   "id": "c2b0694a-c26f-4933-9e00-7f406d3f3d5a",
   "metadata": {},
   "outputs": [],
   "source": [
    ">>> f1(1, 2) # prints 1 and 2\n",
    ">>> f1(b=2, a=1) #prints 1 and 2 --> the position no matter in this case\n",
    ">>> f2(1, 2, 3) # prints 1 and a(2,3) tuple\n",
    ">>> f3(1, x=2, y=3) # prints 1 and {'x':2 , 'y':3} dict\n",
    ">>> f4(1, 2, 3, x=2, y=3)#prints 1, a tuple of (2,3) and a dict of {'x':2 , 'y':3}\n",
    ">>> f5(1) # prints 1,2 and 3. The defaults are used in b and c\n",
    ">>> f5(1, 4) # prints 1,4, and 3. The default is only used in b\n",
    ">>> f6(1) # prints 1 (a), thge default 2, and an epmty tuple(*c) ()\n",
    ">>> f6(1, 3, 4) # prints 1, 3 (doesnot uses the default) and a single tuple 4 (4,)"
   ]
  },
  {
   "cell_type": "code",
   "execution_count": 14,
   "id": "2aef7825-754f-4e30-b2e6-4f97989152ff",
   "metadata": {},
   "outputs": [
    {
     "name": "stdout",
     "output_type": "stream",
     "text": [
      "1 3 (4,)\n"
     ]
    }
   ],
   "source": [
    "f6(1, 3, 4)"
   ]
  },
  {
   "cell_type": "code",
   "execution_count": 15,
   "id": "460f1933-c2e5-48e7-8b26-23cb669b2677",
   "metadata": {},
   "outputs": [],
   "source": [
    "# 8\n",
    "def prime(y):\n",
    "    if y <= 1: # For some y > 1\n",
    "        print(y, 'not prime')\n",
    "    else:\n",
    "        x = y // 2 # 3.X / fails\n",
    "        while x > 1:\n",
    "            if y % x == 0: # No remainder?\n",
    "                print(y, 'has factor', x)\n",
    "                break # Skip else\n",
    "            x -= 1\n",
    "        else:\n",
    "            print(y, 'is prime')"
   ]
  },
  {
   "cell_type": "code",
   "execution_count": 16,
   "id": "b0713b36-a4f5-43de-bc87-05528d31990e",
   "metadata": {},
   "outputs": [
    {
     "name": "stdout",
     "output_type": "stream",
     "text": [
      "13.0 is prime\n"
     ]
    }
   ],
   "source": [
    "prime(13.0)"
   ]
  },
  {
   "cell_type": "code",
   "execution_count": 98,
   "id": "9f861d34-2f2f-4b65-a0f8-236069df511d",
   "metadata": {},
   "outputs": [
    {
     "name": "stdout",
     "output_type": "stream",
     "text": [
      "[1.4142135623730951, 2.0, 3.0, 4.0, 5.0]\n",
      "[1.4142135623730951, 2.0, 3.0, 4.0, 5.0]\n",
      "[1.4142135623730951, 2.0, 3.0, 4.0, 5.0]\n",
      "<generator object <genexpr> at 0x00000214860E9820>\n"
     ]
    }
   ],
   "source": [
    "#9\n",
    "import math\n",
    "L = [2, 4, 9, 16, 25]\n",
    "\n",
    "# for loop:\n",
    "sqrt_for_L = []\n",
    "for number in L: sqrt_for_L.append(math.sqrt(number))\n",
    "print(sqrt_for_L)\n",
    "\n",
    "#map call\n",
    "M = list(map(math.sqrt,L))\n",
    "print(M)\n",
    "\n",
    "# Comprehension\n",
    "C = [math.sqrt(x) for x in L]\n",
    "print(C)\n",
    "\n",
    "#Generator\n",
    "G = (math.sqrt(x) for x in L)\n",
    "print(G)"
   ]
  },
  {
   "cell_type": "code",
   "execution_count": 31,
   "id": "3e58f778-588b-4011-be9e-e88d144707a5",
   "metadata": {},
   "outputs": [],
   "source": [
    "#11\n",
    "def countdown(N):\n",
    "    if N == 0:\n",
    "        print('stop')\n",
    "    else:\n",
    "        print(N,end=' ')\n",
    "        countdown(N-1)\n"
   ]
  },
  {
   "cell_type": "code",
   "execution_count": 32,
   "id": "5ad0b915-83d1-45e3-af50-99952fac0c75",
   "metadata": {},
   "outputs": [
    {
     "name": "stdout",
     "output_type": "stream",
     "text": [
      "5 4 3 2 1 stop\n"
     ]
    }
   ],
   "source": [
    "countdown(5)"
   ]
  },
  {
   "cell_type": "code",
   "execution_count": 94,
   "id": "dfb799a2-82f1-4be9-bd22-ee4304aef18b",
   "metadata": {},
   "outputs": [],
   "source": [
    "#12\n",
    "#recursive countdown factorial\n",
    "def r_factorial(N):\n",
    "    if N == 1:return N\n",
    "    else:return N * r_factorial(N-1)\n",
    "        \n",
    "# reduce call\n",
    "\n",
    "from functools import reduce\n",
    "\n",
    "def red_factorial(N):\n",
    "    if N ==1:return N\n",
    "    else:\n",
    "        L = list(range(N,1,-1))\n",
    "        fact = reduce(lambda x,y: x*y , L)\n",
    "        return fact\n",
    "    \n",
    "# simnple loop\n",
    "\n",
    "def l_factorial(N):\n",
    "    if N == 1 : return N\n",
    "    else:\n",
    "        acc = N\n",
    "        for number in range(N-1,1,-1): acc *= number\n",
    "        return acc\n",
    "        \n",
    "# math library\n",
    "\n",
    "def m_fact(N):\n",
    "    from math import factorial\n",
    "    return factorial(N)\n"
   ]
  },
  {
   "cell_type": "code",
   "execution_count": 95,
   "id": "cc379d80-a572-49ad-9f75-c33e561baf66",
   "metadata": {},
   "outputs": [
    {
     "name": "stdout",
     "output_type": "stream",
     "text": [
      "1\n",
      "1\n",
      "1\n",
      "1\n"
     ]
    }
   ],
   "source": [
    "x = 1\n",
    "print(r_factorial(x))\n",
    "print(red_factorial(x))\n",
    "print(l_factorial(x))\n",
    "print(m_fact(x))"
   ]
  },
  {
   "cell_type": "code",
   "execution_count": 99,
   "id": "13c9e5a8-6960-4d0c-ac9e-a068ae40b468",
   "metadata": {},
   "outputs": [
    {
     "name": "stdout",
     "output_type": "stream",
     "text": [
      "r_factorial 0.00322150000010879\n",
      "red_factorial 0.002490300000317802\n",
      "l_factorial 0.0017801000003601075\n",
      "m_fact 0.0002901999996538507\n"
     ]
    }
   ],
   "source": [
    "from timeit import repeat  # benchmarking the 4 functions!!!\n",
    "\n",
    "for test in (r_factorial,red_factorial,l_factorial,m_fact):\n",
    "    print(test.__name__, min(repeat(stmt=lambda: test(500), number=20, repeat=3)))"
   ]
  },
  {
   "cell_type": "code",
   "execution_count": null,
   "id": "a7cba9f4-cba3-4c9b-af5e-cbca22e0d0cb",
   "metadata": {},
   "outputs": [],
   "source": []
  }
 ],
 "metadata": {
  "kernelspec": {
   "display_name": "Python 3",
   "language": "python",
   "name": "python3"
  },
  "language_info": {
   "codemirror_mode": {
    "name": "ipython",
    "version": 3
   },
   "file_extension": ".py",
   "mimetype": "text/x-python",
   "name": "python",
   "nbconvert_exporter": "python",
   "pygments_lexer": "ipython3",
   "version": "3.8.8"
  }
 },
 "nbformat": 4,
 "nbformat_minor": 5
}
