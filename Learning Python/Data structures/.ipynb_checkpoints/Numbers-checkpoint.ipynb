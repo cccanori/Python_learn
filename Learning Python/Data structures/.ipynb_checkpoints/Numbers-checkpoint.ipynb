{
 "cells": [
  {
   "cell_type": "markdown",
   "id": "f356e2c1-bde0-4805-bd88-90141309d70e",
   "metadata": {},
   "source": [
    "___NUMBERS___"
   ]
  },
  {
   "cell_type": "code",
   "execution_count": null,
   "id": "81cb0049-2f3b-4993-b52c-19d7ffabf46f",
   "metadata": {},
   "outputs": [],
   "source": [
    "1234 -> Integers (int).. int(str,base)\n",
    "12.34 -> float (float)\n",
    "0o177 -> Octal ... oct(int)\n",
    "0x9ff -> hex... hex(int)\n",
    "0b10101 -> Binary... bin(int)\n",
    "3+4j -> complex"
   ]
  },
  {
   "cell_type": "code",
   "execution_count": null,
   "id": "953ec9c5-827b-4d03-b9b5-ab4c9bc5eb40",
   "metadata": {},
   "outputs": [],
   "source": [
    "#expression oprators\n",
    "+ ,-, *, /, >>,**, &, etc\n",
    "#built-in funct:\n",
    "pow,abs,round,int,hex,bin,etc\n",
    "#utility modules:\n",
    "random, math, etc"
   ]
  },
  {
   "cell_type": "code",
   "execution_count": 20,
   "id": "c71213cd-b8af-42df-80f8-0c3f5f84f5fa",
   "metadata": {},
   "outputs": [
    {
     "name": "stdout",
     "output_type": "stream",
     "text": [
      "0.3333333333333333\n"
     ]
    },
    {
     "data": {
      "text/plain": [
       "'0.33'"
      ]
     },
     "execution_count": 20,
     "metadata": {},
     "output_type": "execute_result"
    }
   ],
   "source": [
    "a = 1/3\n",
    "repr(a) # code-form\n",
    "print(a) # user-friendly - uses str(a)\n",
    "'%e'%a  #string format\n",
    "'%4.2f'%a # float format : 4 main digits + 2 decimals\n",
    "'{0:4.2f}'.format(a) # same but through method\n"
   ]
  },
  {
   "cell_type": "code",
   "execution_count": 30,
   "id": "b850f97c-96cb-4582-82a0-9b1433191cad",
   "metadata": {},
   "outputs": [
    {
     "name": "stdout",
     "output_type": "stream",
     "text": [
      "2.5 2.5 -2.5 -2.5\n",
      "2 2.0 -3.0 -3\n",
      "3.0 3.0 3 3.0\n"
     ]
    }
   ],
   "source": [
    "#Division types\n",
    "print(5/2,5/2.0,5/-2.0,5/-2) # True division\n",
    "print(5//2,5//2.0,5//-2.0,5//-2) # floor division\n",
    "print(9/3,9.0/3,9//3,9//3.0) # Both"
   ]
  },
  {
   "cell_type": "code",
   "execution_count": 37,
   "id": "5a97c60b-1985-4b20-9efe-f8b5662755cb",
   "metadata": {},
   "outputs": [
    {
     "name": "stdout",
     "output_type": "stream",
     "text": [
      "1 16 255\n",
      "1 16 255\n",
      "1 16 255\n"
     ]
    }
   ],
   "source": [
    "# another way to represent integers\n",
    "print(0o1,0o20,0o377) # octal iterals\n",
    "print(0x1,0x10,0xFF)  #heax iterals\n",
    "print(0b1,0b10000,0b11111111) #binary"
   ]
  },
  {
   "cell_type": "code",
   "execution_count": 41,
   "id": "32c6626e-1263-4f84-8e6e-e828ac9b82ca",
   "metadata": {},
   "outputs": [
    {
     "name": "stdout",
     "output_type": "stream",
     "text": [
      "4\n",
      "3\n",
      "1\n"
     ]
    }
   ],
   "source": [
    "# Bitewise Operations -> operate with numbers in byte form\n",
    "# Tasks related to C -> not pyton strenght but possible\n",
    "x = 1 # 0001 (byte form)\n",
    "print(x << 2) # shift the byte 2 spaces to the left : 0100  -> 4\n",
    "print(x|2) #Bitewise OR: (0001|0010) =0011\n",
    "print(x&1) #Bitewise AND (0001&0001)=0001"
   ]
  },
  {
   "cell_type": "code",
   "execution_count": 51,
   "id": "cfffc1a9-87be-4d93-b55e-a7c3fb086762",
   "metadata": {},
   "outputs": [
    {
     "name": "stdout",
     "output_type": "stream",
     "text": [
      "12.0\n",
      "16 16\n",
      "42.0 10\n",
      "2 -2\n",
      "3 -2.57\n"
     ]
    },
    {
     "data": {
      "text/plain": [
       "('2.6', '2.57')"
      ]
     },
     "execution_count": 51,
     "metadata": {},
     "output_type": "execute_result"
    }
   ],
   "source": [
    "#MODULE: MATH\n",
    "import math #contains the majority of numbers methods available\n",
    "print(math.sqrt(144)) #square root\n",
    "print(pow(2,4),2**4) # equvalent operan to the method\n",
    "print(abs(-42.0),sum((1,2,3,4)))\n",
    "math.floor(2.567),math.floor(-2.567) # gives off the the min integer\n",
    "print(math.trunc(2.567),math.trunc(-2.567)) # dives off the integer part (not the same as floor)\n",
    "print(round(2.567),round(-2.567,2)) # rounds floats up to 2 numbers after the dot\n",
    "'%.1f'%2.567, '{0:.2f}'.format(2.567) # two ways to format a float: with one and two decimals."
   ]
  },
  {
   "cell_type": "code",
   "execution_count": 53,
   "id": "7571d9c9-6d72-4633-81b3-8401291fdb1a",
   "metadata": {},
   "outputs": [
    {
     "data": {
      "text/plain": [
       "'centre'"
      ]
     },
     "execution_count": 53,
     "metadata": {},
     "output_type": "execute_result"
    }
   ],
   "source": [
    "# MODEULE RANDOM -> perfetc for statistical simulation\n",
    "import random as rdm\n",
    "rdm.random() # any number between 0 and 1 -> its quite long\n",
    "rdm.randint(1,10) # integer between 1 and 10\n",
    "rdm.choice(['right','centre','left']) #chooses only one from the list,tuple,etc\n"
   ]
  },
  {
   "cell_type": "code",
   "execution_count": 68,
   "id": "00866f72-6388-484f-8c8d-1c5f6bd3ab1e",
   "metadata": {},
   "outputs": [
    {
     "name": "stdout",
     "output_type": "stream",
     "text": [
      "5.551115123125783e-17\n",
      "0.1428571428571428571428571429\n",
      "0.1429\n",
      "0.33\n",
      "0.3333\n"
     ]
    }
   ],
   "source": [
    "print(0.1+0.1+0.1-0.3) # a result close to 0 but not 0. Float are not strictly exact\n",
    "import decimal as dc # decimal type of number object\n",
    "dc.Decimal('0.1')+dc.Decimal('0.1')+Decimal('0.1')-Decimal('0.3') # shows the exact 0\n",
    "dc.Decimal.from_float(1.25) # another way to use it\n",
    "\n",
    "# set the precicion glovbally\n",
    "print(dc.Decimal(1)/dc.Decimal(7)) #gives a huge large decimal...\n",
    "# then\n",
    "dc.getcontext().prec = 4 # sets the precision of Decimal to 4 numbers \n",
    "print(dc.Decimal(1)/dc.Decimal(7)) # special use for monetary applications\n",
    "\n",
    "# change the precision temporaly -> with (context manager)\n",
    "with dc.localcontext() as ctx:\n",
    "    ctx.prec = 2                            # precision is only two for this statment\n",
    "    print(dc.Decimal('1')/dc.Decimal('3'))\n",
    "print(dc.Decimal('1')/dc.Decimal('3'))"
   ]
  },
  {
   "cell_type": "code",
   "execution_count": 87,
   "id": "8423b4cb-8b2b-496d-87c2-76207b67c4c4",
   "metadata": {},
   "outputs": [
    {
     "name": "stdout",
     "output_type": "stream",
     "text": [
      "-1/3\n",
      "5.551115123125783e-17\n",
      "0\n",
      "7/4\n",
      "(7, 4)\n"
     ]
    },
    {
     "data": {
      "text/plain": [
       "2.3333333333333335"
      ]
     },
     "execution_count": 87,
     "metadata": {},
     "output_type": "execute_result"
    }
   ],
   "source": [
    "# FRACTION TYPE -> tracks the numerator and denominator -> avoid float division innacuraccies\n",
    "import fractions as fr\n",
    "x = fr.Fraction(1,3)  #numerator,denominator\n",
    "y = fr.Fraction(4,6)\n",
    "print(x-y)\n",
    "\n",
    "fr.Fraction('.25') + fr.Fraction('.50')  #returns a float to a fraction\n",
    "print(0.1+0.1+0.1-0.3)\n",
    "print(fr.Fraction(str(0.1))+fr.Fraction(str(0.1))+fr.Fraction(str(0.1))-fr.Fraction(str(0.3))) # Again.gives more precition than floats\n",
    "\n",
    "# From float to fraction\n",
    "print(fr.Fraction.from_float(1.75)) # using Fraction method -> returns a Fraction Object\n",
    "print((1.75).as_integer_ratio()) # Using a float method -> returns a tuple !!\n",
    "\n",
    "#mixing types\n",
    "x + 2 # Fraction + int = Fraction\n",
    "x+2.0 # Fraction + float = float -> float is more complex\n"
   ]
  },
  {
   "cell_type": "code",
   "execution_count": 103,
   "id": "e2a13ae4-b969-4834-9b62-1b53aa7c788c",
   "metadata": {},
   "outputs": [
    {
     "name": "stdout",
     "output_type": "stream",
     "text": [
      "True\n",
      "{'e', 'c', 'a'}\n",
      "{'z', 'c', 'd', 'a', 'e', 'b', 'y', 'x'}\n",
      "{'d', 'b'}\n",
      "{'z', 'y', 'c', 'a', 'e', 'x'}\n",
      "True\n",
      "{'d', 'y', 'f', 'x'}\n"
     ]
    }
   ],
   "source": [
    "# SETs --> collection of unique and inmutable objects -> supports mathematical operations\n",
    "# they are neither sequences nor mapping types -> are fundamentally more mathematics objects\n",
    "\n",
    "x = set('abcde')\n",
    "y = set('bdxyz')\n",
    "\n",
    "print('e' in x) #returns a boolean\n",
    "print(x-y) #difference\n",
    "print(x|y) # Union\n",
    "print(x&y) #intersection\n",
    "print(x^y) #symmetric differenc: what they don't share\n",
    "x > y, x < y #evaluates if x is subset or superset of y -> boolean\n",
    "#Using methods (some)\n",
    "z = x.intersection(y) # same as print(x&y)\n",
    "z.add('f') #one element\n",
    "z.update(set(['x','y'])) #add multiple elements \n",
    "z.remove('b')\n",
    "s = set(['f','x'])\n",
    "print(z.issuperset(s)) # same as >\n",
    "print(z)\n",
    "# lists and dicts cannot be elements of a set. Conversely, tuples can !! -> are evaluated by their full value!"
   ]
  },
  {
   "cell_type": "code",
   "execution_count": 106,
   "id": "9344f361-f348-4d30-be6a-f55721475118",
   "metadata": {},
   "outputs": [
    {
     "data": {
      "text/plain": [
       "{1, 2, 3, frozenset({4, 5, 6})}"
      ]
     },
     "execution_count": 106,
     "metadata": {},
     "output_type": "execute_result"
    }
   ],
   "source": [
    "x = set([1,2,3])\n",
    "y = frozenset([4,5,6]) # frozen set is the only way to add aa sub set in a set !! -> it is inmmutable\n",
    "x.add(y)\n",
    "x\n"
   ]
  },
  {
   "cell_type": "markdown",
   "id": "2233a73b-35cd-44c8-8a69-597aa9074c5c",
   "metadata": {},
   "source": [
    "__Set Comprehension__"
   ]
  },
  {
   "cell_type": "code",
   "execution_count": 107,
   "id": "ee709b52-414b-4b0a-ad28-2ab07021a526",
   "metadata": {},
   "outputs": [
    {
     "data": {
      "text/plain": [
       "{1, 4, 9, 16}"
      ]
     },
     "execution_count": 107,
     "metadata": {},
     "output_type": "execute_result"
    }
   ],
   "source": [
    "set1 = {x**2 for x in [1,2,3,4]} #similar to a list\n",
    "#just remember that it only remains unique elements\n",
    "set1"
   ]
  },
  {
   "cell_type": "code",
   "execution_count": 108,
   "id": "c8a981f0-c308-4d23-b163-3065bf23becf",
   "metadata": {},
   "outputs": [
    {
     "data": {
      "text/plain": [
       "[1, 2, 3]"
      ]
     },
     "execution_count": 108,
     "metadata": {},
     "output_type": "execute_result"
    }
   ],
   "source": [
    "#some practical uses: \n",
    "# remove duplicates in a list\n",
    "L = [1,1,2,2,3,3]\n",
    "S = set(L)\n",
    "L = list(S)\n",
    "print(L)\n",
    "# Also its quite practical for SQl data: Groups math between them(|,&,^,>,<,-,etc)"
   ]
  },
  {
   "cell_type": "markdown",
   "id": "f2fa92c4-2c7e-4c4a-92dc-a8645683661f",
   "metadata": {},
   "source": [
    "__Booleans__"
   ]
  },
  {
   "cell_type": "code",
   "execution_count": 111,
   "id": "86ec0268-1682-4029-8e98-e780d66fa934",
   "metadata": {},
   "outputs": [
    {
     "name": "stdout",
     "output_type": "stream",
     "text": [
      "True\n",
      "False\n",
      "True\n",
      "5\n"
     ]
    },
    {
     "name": "stderr",
     "output_type": "stream",
     "text": [
      "<>:4: SyntaxWarning: \"is\" with a literal. Did you mean \"==\"?\n",
      "<>:4: SyntaxWarning: \"is\" with a literal. Did you mean \"==\"?\n",
      "<ipython-input-111-b73843836441>:4: SyntaxWarning: \"is\" with a literal. Did you mean \"==\"?\n",
      "  print(True is 1)\n"
     ]
    }
   ],
   "source": [
    "type(bool()) # True:1 and False:0\n",
    "#true and false are sub-classses of int. So an infinite loop while True = While 1.However True and 1 are different objects !!\n",
    "print(True == 1)\n",
    "print(True is 1) # Different objects altough the same int:1\n",
    "print(True or False)\n",
    "print(True + 4) "
   ]
  },
  {
   "cell_type": "code",
   "execution_count": null,
   "id": "1021820a-167d-4f00-84c1-87d2e8211487",
   "metadata": {},
   "outputs": [],
   "source": [
    "# Advanced libraries for numeric statments in python:\n",
    "#NumPy (matrices,vectors, and computation) -> flexible than and as powerful as matlab\n",
    "# SciPy library --numerical integration, interpolation, optimization, linear algebra, and statistics.\n"
   ]
  },
  {
   "cell_type": "code",
   "execution_count": null,
   "id": "7fe96bab-51c9-46df-9ad7-513b28b6312b",
   "metadata": {},
   "outputs": [],
   "source": []
  }
 ],
 "metadata": {
  "kernelspec": {
   "display_name": "Python 3",
   "language": "python",
   "name": "python3"
  },
  "language_info": {
   "codemirror_mode": {
    "name": "ipython",
    "version": 3
   },
   "file_extension": ".py",
   "mimetype": "text/x-python",
   "name": "python",
   "nbconvert_exporter": "python",
   "pygments_lexer": "ipython3",
   "version": "3.8.8"
  }
 },
 "nbformat": 4,
 "nbformat_minor": 5
}
