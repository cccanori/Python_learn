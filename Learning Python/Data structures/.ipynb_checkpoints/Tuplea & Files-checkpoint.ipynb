{
 "cells": [
  {
   "cell_type": "markdown",
   "id": "878ba23e-ade3-4053-84e7-02f726153318",
   "metadata": {},
   "source": [
    "___TUPLES:___ Provide integrity in fixed associations"
   ]
  },
  {
   "cell_type": "code",
   "execution_count": null,
   "id": "67a28a52-4818-44ad-8c7e-b27e07c32197",
   "metadata": {},
   "outputs": [],
   "source": [
    "() An empty tuple\n",
    "T = (0,) A one-item tuple (not an expression)\n",
    "T = (0, 'Ni', 1.2, 3) A four-item tuple\n",
    "T = 0, 'Ni', 1.2, 3 Another four-item tuple (same as prior line)\n",
    "T = ('abc', ('def', 'ghi')) Nested tuples\n",
    "T = tuple('spam') Tuple of items in an iterable\n",
    "\n",
    "#Index, index of index, slice, lengthT[i]\n",
    "T[i][j]\n",
    "T[i:j]\n",
    "len(T)\n",
    "#Concatenate, repeat\n",
    "T1 + T2\n",
    "T * 3\n",
    "#Iteration, membership\n",
    "for x in T: print(x)\n",
    "'spam' in T\n",
    "[x ** 2 for x in T]\n",
    "#Methods in 2.6 and 3.0: search, count\n",
    "T.index('Ni')\n",
    "T.count('Ni')\n"
   ]
  },
  {
   "cell_type": "markdown",
   "id": "f0056d35-66ee-4438-b7f5-3df8f2dd1cdd",
   "metadata": {},
   "source": [
    "Basic Oprations"
   ]
  },
  {
   "cell_type": "code",
   "execution_count": null,
   "id": "1e88b14e-9592-42b7-b2ea-d79ac03782eb",
   "metadata": {},
   "outputs": [],
   "source": [
    ">>> (1, 2) + (3, 4) # Concatenation\n",
    "(1, 2, 3, 4)\n",
    ">>> (1, 2) * 4 # Repetition\n",
    "(1, 2, 1, 2, 1, 2, 1, 2)\n",
    ">>> T = (1, 2, 3, 4) # Indexing, slicing\n",
    ">>> T[0], T[1:3]\n",
    "(1, (2, 3))\n",
    "\n",
    ">>> x = (40) # An integer! --> Then its mandatory that you use the comma!!!!\n",
    ">>> x\n",
    "40\n",
    ">>> y = (40,) # A tuple containing an integer\n",
    ">>> y\n",
    "(40,)"
   ]
  },
  {
   "cell_type": "code",
   "execution_count": null,
   "id": "6bf5289e-7255-45ed-af3c-ca78ede92a67",
   "metadata": {},
   "outputs": [],
   "source": [
    "#How to sort  tuple: \n",
    "\n",
    ">>> T = ('cc', 'aa', 'dd', 'bb')\n",
    ">>> tmp = list(T) # Make a list from a tuple's items\n",
    ">>> tmp.sort() # Sort the list\n",
    ">>> tmp\n",
    "['aa', 'bb', 'cc', 'dd']\n",
    ">>> T = tuple(tmp) # Make a tuple from the list's items\n",
    ">>> T\n",
    "('aa', 'bb', 'cc', 'dd')\n",
    ">>> sorted(T) # Or use the sorted built-in\n",
    "['aa', 'bb', 'cc', 'dd']\n",
    "\n",
    "# List comprehension from tuple to list:\n",
    ">>> T = (1, 2, 3, 4, 5)\n",
    ">>> L = [x + 20 for x in T]\n",
    ">>> L\n",
    "[21, 22, 23, 24, 25]\n",
    "\n",
    "# SOme methods:\n",
    ">>> T = (1, 2, 3, 2, 4, 2) # Tuple methods in 2.6 and 3.0\n",
    ">>> T.index(2) # Offset of first appearance of 2\n",
    "1\n",
    ">>> T.index(2, 2) # Offset of appearance after offset 2\n",
    "3\n",
    ">>> T.count(2) # How many 2s are there?\n",
    "3\n"
   ]
  },
  {
   "cell_type": "code",
   "execution_count": null,
   "id": "73354b0e-c28d-4e1c-ab95-39f4f8b34357",
   "metadata": {},
   "outputs": [],
   "source": [
    "# Inmutability only in tuples: not in mutable objects inside!\n",
    ">>> T = (1, [2, 3], 4)\n",
    ">>> T[1] = 'spam' # This fails: can't change tuple itself\n",
    "TypeError: object doesn't support item assignment\n",
    ">>> T[1][0] = 'spam' # This works: can change mutables inside\n",
    ">>> T\n",
    "(1, ['spam', 3], 4)"
   ]
  },
  {
   "cell_type": "markdown",
   "id": "00afe8db-451e-4ea8-9263-339da720bf24",
   "metadata": {},
   "source": [
    "___FILES:___ open function lets you use and external file(object) in your machine"
   ]
  },
  {
   "cell_type": "code",
   "execution_count": null,
   "id": "2fbf52e0-ef96-4def-be3f-cdb9bd7d7654",
   "metadata": {},
   "outputs": [],
   "source": [
    "output = open(r'C:\\spam', 'w') Create output file ('w' means write)\n",
    "input = open('data', 'r') Create input file ('r' means read)\n",
    "input = open('data', 'a') Create input file ('a' appending text at the end)\n",
    "input = open('data') Same as prior line ('r' is the default)\n",
    "aString = input.read() Read entire file into a single string\n",
    "aString = input.read(N) Read up to next N characters (or bytes) into a string\n",
    "aString = input.readline() Read next line (including \\n newline) into a string\n",
    "aList = input.readlines() Read entire file into list of line strings (with \\n)\n",
    "output.write(aString) Write a string of characters (or bytes) into file\n",
    "output.writelines(aList) Write all line strings in a list into file\n",
    "output.close() Manual close (done for you when file is collected)\n",
    "output.flush() Flush output buffer to disk without closing\n",
    "anyFile.seek(N) Change file position to offset N for next operation\n",
    "for line in open('data'): use line File iterators read line by line\n",
    "open('f.txt', encoding='latin-1') Python 3.0 Unicode text files (str strings)\n",
    "open('f.bin', 'rb') Python 3.0 binary bytes files (bytes strings)"
   ]
  },
  {
   "cell_type": "code",
   "execution_count": 1,
   "id": "731ac38e-bbf6-4a50-ba65-c583ca51aa80",
   "metadata": {},
   "outputs": [],
   "source": [
    "import pickle # generic object storage (more in files)\n",
    "import struct # Packed binary data in files"
   ]
  },
  {
   "cell_type": "markdown",
   "id": "038c0ea9-4d13-49a2-b8ac-8578da2f6c5e",
   "metadata": {},
   "source": [
    "__Files in action__"
   ]
  },
  {
   "cell_type": "code",
   "execution_count": null,
   "id": "58bc9ac3-f192-45f2-a53d-a6c4a4444a41",
   "metadata": {},
   "outputs": [],
   "source": [
    ">>> myfile = open('myfile.txt', 'w') # Open for text output: create/empty\n",
    ">>> myfile.write('hello text file\\n') # Write a line of text: string\n",
    "16                                    # number of characters written (inculdes \\n)\n",
    ">>> myfile.write('goodbye text file\\n')\n",
    "18                                    # number of characters written (inculdes \\n)\n",
    ">>> myfile.close() # Flush output buffers to disk\n",
    ">>> myfile = open('myfile.txt') # Open for text input: 'r' is default\n",
    ">>> myfile.readline() # Read the lines back\n",
    "'hello text file\\n'\n",
    ">>> myfile.readline()\n",
    "'goodbye text file\\n'\n",
    ">>> myfile.readline() # Empty string: end of file\n",
    "''\n",
    "\n",
    ">>> open('myfile.txt').read() # Read all at once into string\n",
    "'hello text file\\ngoodbye text file\\n'\n",
    ">>> print(open('myfile.txt').read()) # User-friendly display\n",
    "hello text file\n",
    "goodbye text file\n",
    "\n",
    ">>> for line in open('myfile'): # Use file iterators, not reads\n",
    "... print(line, end='') # without end='', it will have a double newline\n",
    "...\n",
    "hello text file\n",
    "goodbye text file"
   ]
  },
  {
   "cell_type": "markdown",
   "id": "30286195-de93-4a89-a7ab-7d71530f5fb0",
   "metadata": {},
   "source": [
    "Storing and parsing Python objects in files"
   ]
  },
  {
   "cell_type": "code",
   "execution_count": null,
   "id": "e3ad1ec0-0673-4446-a797-eee3e4068aef",
   "metadata": {},
   "outputs": [],
   "source": [
    ">>> X, Y, Z = 43, 44, 45 # Native Python objects\n",
    ">>> S = 'Spam' # Must be strings to store in file\n",
    ">>> D = {'a': 1, 'b': 2}\n",
    ">>> L = [1, 2, 3]\n",
    ">>>\n",
    ">>> F = open('datafile.txt', 'w') # Create output file\n",
    ">>> F.write(S + '\\n') # Terminate lines with \\n\n",
    ">>> F.write('%s,%s,%s\\n' % (X, Y, Z)) # Convert numbers to strings\n",
    ">>> F.write(str(L) + '$' + str(D) + '\\n') # Convert and separate with $\n",
    ">>> F.close()\n",
    "\n",
    ">>> chars = open('datafile.txt').read() # Raw string display\n",
    ">>> chars\n",
    "\"Spam\\n43,44,45\\n[1, 2, 3]${'a': 1, 'b': 2}\\n\"\n",
    ">>> print(chars) # User-friendly display\n",
    "Spam\n",
    "43,44,45\n",
    "[1, 2, 3]${'a': 1, 'b': 2}\n",
    "\n",
    "# Open again and get the objects:\n",
    ">>> F = open('datafile.txt') # Open again\n",
    ">>> line = F.readline() # Read one line\n",
    ">>> line\n",
    "'Spam\\n'\n",
    ">>> line.rstrip() # Remove end-of-line\n",
    "'Spam' #--> get the string  using rstrip\n",
    "\n",
    ">>> line = F.readline() # Next line from file\n",
    ">>> line # It's a string here\n",
    "'43,44,45\\n'\n",
    ">>> parts = line.split(',') # Split (parse) on commas\n",
    ">>> parts #---> get the list using .split(',')\n",
    "['43', '44', '45\\n']\n",
    ">>> int(parts[1]) # Convert from string to int --> int() ignores \\n and so forth by default\n",
    "44\n",
    ">>> numbers = [int(P) for P in parts] # Convert all in list at once\n",
    ">>> numbers\n",
    "[43, 44, 45] # now we got the original list of integers\n",
    "\n",
    "\n",
    "# getting the final list and dictionary:\n",
    ">>> line = F.readline()\n",
    ">>> line\n",
    "\"[1, 2, 3]${'a': 1, 'b': 2}\\n\"\n",
    ">>> parts = line.split('$') # Split (parse) on $\n",
    ">>> parts\n",
    "['[1, 2, 3]', \"{'a': 1, 'b': 2}\\n\"]\n",
    ">>> eval(parts[0]) # Convert to any object type --> strings as a piece of executable program\n",
    "[1, 2, 3]\n",
    ">>> objects = [eval(P) for P in parts] # Do same for all in list\n",
    ">>> objects\n",
    "[[1, 2, 3], {'a': 1, 'b': 2}]"
   ]
  },
  {
   "cell_type": "markdown",
   "id": "8fe618d2-a8c8-4e90-b44a-0a38ac4e8d03",
   "metadata": {},
   "source": [
    "Using pickle: eval() its dangerous --> python will run whatever string(even the one that del all files in your pc!)\n",
    "Pickle works as storing native Python objects when you don't trust in the source of the file"
   ]
  },
  {
   "cell_type": "code",
   "execution_count": null,
   "id": "5ff32b5a-c415-4e35-b013-5a0fa5d52964",
   "metadata": {},
   "outputs": [],
   "source": [
    "#Store a dict file for instance\n",
    ">>> D = {'a': 1, 'b': 2}\n",
    ">>> F = open('datafile.pkl', 'wb')\n",
    ">>> import pickle\n",
    ">>> pickle.dump(D, F) # Pickle any object to file --> byte file --> object serialization\n",
    ">>> F.close()\n",
    "#Get the dict back\n",
    ">>> F = open('datafile.pkl', 'rb')\n",
    ">>> E = pickle.load(F) # Load any object from file\n",
    ">>> E\n",
    "{'a': 1, 'b': 2} #--> no manula slit o eval() required!!!\n",
    "Look at shekve module: uses pickle but requires an access-by-key file system"
   ]
  },
  {
   "cell_type": "markdown",
   "id": "ff9687df-159f-4bae-8dbb-56097b60bd96",
   "metadata": {},
   "source": [
    "Struct:"
   ]
  },
  {
   "cell_type": "code",
   "execution_count": null,
   "id": "802fd570-f4b5-47a3-b786-3371481c2a64",
   "metadata": {},
   "outputs": [],
   "source": [
    "#Create and packed binary data file\n",
    ">>> F = open('data.bin', 'wb') # Open binary output file\n",
    ">>> import struct\n",
    ">>> data = struct.pack('>i4sh', 7, 'spam', 8) # Make packed binary data\n",
    ">>> data\n",
    "b'\\x00\\x00\\x00\\x07spam\\x00\\x08'\n",
    ">>> F.write(data) # Write byte string\n",
    ">>> F.close()\n",
    "#Parse values into normal python objects\n",
    ">>> F = open('data.bin', 'rb')\n",
    ">>> data = F.read() # Get packed binary data\n",
    ">>> data\n",
    "b'\\x00\\x00\\x00\\x07spam\\x00\\x08'\n",
    ">>> values = struct.unpack('>i4sh', data) # Convert to Python objects\n",
    ">>> values\n",
    "(7, 'spam', 8)\n",
    "\n",
    "# Note that using 'wb' or 'rb' it is possible to deal with images or audio files!!!\n"
   ]
  },
  {
   "cell_type": "code",
   "execution_count": null,
   "id": "f1fb6bdc-0309-43f8-80ef-da2f4d6d7cba",
   "metadata": {},
   "outputs": [],
   "source": [
    "#automatic close: Opt 1\n",
    "with open(r'C:\\misc\\data.txt') as myfile: # See Chapter 33 for details --> closes automatically after the statment\n",
    "for line in myfile:\n",
    "...use line here...\n",
    "#Opt 2\n",
    "myfile = open(r'C:\\misc\\data.txt')\n",
    "try:\n",
    "for line in myfile:\n",
    "...use line here...\n",
    "finally:\n",
    "myfile.close()"
   ]
  },
  {
   "cell_type": "code",
   "execution_count": null,
   "id": "14d69ee1-72c2-44c9-8d43-1c9c5bf43c4d",
   "metadata": {},
   "outputs": [],
   "source": []
  },
  {
   "cell_type": "code",
   "execution_count": null,
   "id": "f15828da-cfa1-40a7-81c7-f69ec82bf738",
   "metadata": {},
   "outputs": [],
   "source": []
  }
 ],
 "metadata": {
  "kernelspec": {
   "display_name": "Python 3",
   "language": "python",
   "name": "python3"
  },
  "language_info": {
   "codemirror_mode": {
    "name": "ipython",
    "version": 3
   },
   "file_extension": ".py",
   "mimetype": "text/x-python",
   "name": "python",
   "nbconvert_exporter": "python",
   "pygments_lexer": "ipython3",
   "version": "3.8.8"
  }
 },
 "nbformat": 4,
 "nbformat_minor": 5
}
