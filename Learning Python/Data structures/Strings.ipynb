{
 "cells": [
  {
   "cell_type": "markdown",
   "id": "b5a09bd8-7210-4ba2-9f04-fed06aeec448",
   "metadata": {},
   "source": [
    "___STRINGS___"
   ]
  },
  {
   "cell_type": "code",
   "execution_count": 3,
   "id": "bba6c5f7-107a-4c5d-82e4-f1cb21892b08",
   "metadata": {},
   "outputs": [
    {
     "data": {
      "text/plain": [
       "(7, 5)"
      ]
     },
     "execution_count": 3,
     "metadata": {},
     "output_type": "execute_result"
    }
   ],
   "source": [
    "#NUMBERS CANNOT BE CHANGED-IN PLACE !!! (UNMUTABLE OBJECTS)\n",
    "a = 5\n",
    "b = a\n",
    "a = a + 2\n",
    "a,b"
   ]
  },
  {
   "cell_type": "code",
   "execution_count": null,
   "id": "a056f96f-4b50-46aa-9f4d-f7a51b23c0c4",
   "metadata": {},
   "outputs": [],
   "source": [
    "# copy lists by slicing: they're sequences (MUTABLE OBJECTS)\n",
    "# LISTS CAN BE CHANGED-IN PLACE\n",
    "L1 = [2, 3, 4]\n",
    "L2 = L1[:] # Make a copy of L1\n",
    "L1[0] = 24"
   ]
  },
  {
   "cell_type": "code",
   "execution_count": null,
   "id": "b49a600f-bed7-4d66-bb74-a27c916dc438",
   "metadata": {},
   "outputs": [],
   "source": [
    "#For copy dictionaries and sets --> they are not sequences: cannot be sliced\n",
    "import copy\n",
    "X = copy.copy(Y) # Make top-level \"shallow\" copy of any object Y\n",
    "X = copy.deepcopy(Y) # Make deep copy of any object Y: copy all nested parts"
   ]
  },
  {
   "cell_type": "code",
   "execution_count": null,
   "id": "8f137dff-0834-4e46-bd21-915eddba78e0",
   "metadata": {},
   "outputs": [],
   "source": [
    "S = '' #Empty string\n",
    "S = \"spam's\" #Double quotes, same as single\n",
    "S = 's\\np\\ta\\x00m' #Escape sequences\n",
    "S = \"\"\"...\"\"\" #Triple-quoted block strings\n",
    "S = r'\\temp\\spam' #Raw strings\n",
    "S = b'spam' #Byte strings in 3.0 (Chapter 36)\n",
    "S = u'spam' #Unicode strings in 2.6 only (Chapter 36)\n",
    "S[i]   #Index, slice, length\n",
    "S1 + S2 \n",
    "S[i:j]\n",
    "len(S)\n",
    "\"a %s parrot\" % #kind String formatting expression\n",
    "\"a {0} parrot\".format(kind)  #String formatting method in 2.6 and 3.0 \n",
    "S.find('pa')      #search\n",
    "S.rstrip()        #remove white spaces\n",
    "S.replace('pa', 'xx') # replacement\n",
    "S.split(',')          # split on delimiter \n",
    "S.isdigit()          # content test\n",
    "S.lower()           #lower case\n",
    "S.endswith('spam')  # end test\n",
    "'spam'.join(strlist) # delimiter join\n",
    "S.encode('latin-1') # unicode encoding, etc\n",
    "for x in S: print(x) # Iteration, membership\n",
    "'spam' in S\n",
    "[c * 2 for c in S]\n",
    "map(ord, S)\n"
   ]
  },
  {
   "cell_type": "code",
   "execution_count": 4,
   "id": "11773287-288c-4fea-bac9-d3194ab312b6",
   "metadata": {},
   "outputs": [
    {
     "data": {
      "text/plain": [
       "'Meaning of Life'"
      ]
     },
     "execution_count": 4,
     "metadata": {},
     "output_type": "execute_result"
    }
   ],
   "source": [
    "# implicit concatenation\n",
    "title = \"Meaning \" 'of' \" Life\" # is also possible to use + operator\n",
    "title"
   ]
  },
  {
   "cell_type": "code",
   "execution_count": 8,
   "id": "f37a1ce5-e27b-4a4b-a6c5-fdfa7e302cd5",
   "metadata": {},
   "outputs": [
    {
     "name": "stdout",
     "output_type": "stream",
     "text": [
      "knight's knight\"s\n",
      "a\n",
      "b\tc\n"
     ]
    }
   ],
   "source": [
    "# \\ backslash represents in general the escape sequences !!\n",
    "print('knight\\'s', \"knight\\\"s\") # --> embed ' in the former and \" in the latter\n",
    "s = 'a\\nb\\tc' # \\n: new line, \\t :tab --> print interpret them!!\n",
    "print(s)\n",
    "\n",
    "\\ #newline Ignored (continuation line)\n",
    "\\\\ #Backslash (stores one \\)\n",
    "\\' #Single quote (stores ')\n",
    "\\\" #Double quote (stores \")\n",
    "\\a #Bell\n",
    "\\b #Backspace\n",
    "\\f #Formfeed\n",
    "\\n #Newline (linefeed)\n",
    "\\r #Carriage return\n",
    "\\t #Horizontal tab\n",
    "\\v #Vertical tab\n",
    "\\xhh #Character with hex value hh (at most 2 digits)\n",
    "\\ooo #Character with octal value ooo (up to 3 digits)\n",
    "\\0 #Null: binary 0 character (doesn’t end string)\n",
    "\\N{ id } #Unicode database ID\n",
    "\\uhhhh #Unicode 16-bit hex\n",
    "\\Uhhhhhhhh #Unicode 32-bit hexa\n",
    "\\other #Not an escape (keeps both \\ and other) -> if python doesn't recognize the scpae sequence keeps it and puts another"
   ]
  },
  {
   "cell_type": "code",
   "execution_count": null,
   "id": "d70e3ca1-b118-4c5d-895f-181b64584d59",
   "metadata": {},
   "outputs": [],
   "source": [
    "# raw strings supresses tyhe escape sequences \\ --> directory paths and regular expressions (RE)\n",
    "myfile = open('C:\\new\\text.dat', 'w') # Assumes both: a new line(\\n) and a space(\\t)\n",
    "myfile = open(r'C:\\new\\text.dat', 'w') # raw strings skips the escape sequence\n",
    "myfile = open('C:\\\\new\\\\text.dat', 'w') # using double \\ ignores the \\ escape sequence\n",
    "# use len() function to be sure that there is one or two \\ \n"
   ]
  },
  {
   "cell_type": "code",
   "execution_count": 12,
   "id": "fd064989-7a76-44a6-bbcb-d243a412803d",
   "metadata": {},
   "outputs": [
    {
     "name": "stdout",
     "output_type": "stream",
     "text": [
      "Always look\n",
      " on the bright\n",
      " side of life.\n"
     ]
    }
   ],
   "source": [
    "#Multiblock string -> used to documentation, queries, and disable block of coding.\n",
    "mantra = \"\"\"Always look\n",
    " on the bright\n",
    " side of life.\"\"\"\n",
    "print(mantra)"
   ]
  },
  {
   "cell_type": "code",
   "execution_count": 17,
   "id": "7cf14b8b-9a1b-43b2-bbc9-7b48d2c717ac",
   "metadata": {},
   "outputs": [
    {
     "name": "stdout",
     "output_type": "stream",
     "text": [
      "------- ...more... ---\n",
      "--------------------------------------------------------------------------------\n",
      "h a c k e r True\n",
      "3\n"
     ]
    }
   ],
   "source": [
    "# Operators\n",
    "len('abc') # Length: number of items\n",
    "'abc' + 'def' # Concatenation: a new string\n",
    "print('------- ...more... ---') # 80 dashes, the hard way\n",
    "print('-' * 80) # 80 dashes, the easy way\n",
    "myjob = \"hacker\"\n",
    "for c in myjob: print(c, end=' ')\n",
    "print('k' in myjob) # similar to method str.find() but retrives a boolean object\n",
    "print(myjob.find('k')) # return the index\n"
   ]
  },
  {
   "cell_type": "code",
   "execution_count": 22,
   "id": "45ab01ab-2d97-4aaa-8700-9c75498028bc",
   "metadata": {},
   "outputs": [
    {
     "name": "stdout",
     "output_type": "stream",
     "text": [
      "pa\n",
      "pa\n",
      "maps\n",
      "maps\n"
     ]
    }
   ],
   "source": [
    "# Slicing -- manual and using slice method\n",
    "print('spam'[1:3])\n",
    "print('spam'[slice(1,3)])\n",
    "print('spam'[::-1])\n",
    "print('spam'[slice(None,None,-1)])"
   ]
  },
  {
   "cell_type": "code",
   "execution_count": 27,
   "id": "42e67c9a-f61b-4b19-90b6-ce9abbd984a2",
   "metadata": {},
   "outputs": [
    {
     "data": {
      "text/plain": [
       "'s'"
      ]
     },
     "execution_count": 27,
     "metadata": {},
     "output_type": "execute_result"
    }
   ],
   "source": [
    "#conversion types\n",
    "int('42')\n",
    "str(42)\n",
    "float('44.23')\n",
    "ord('s') #integer code of ASCII\n",
    "chr(115) #perfomrs the inverse to ord"
   ]
  },
  {
   "cell_type": "code",
   "execution_count": null,
   "id": "d83d33b3-51b4-4898-8f50-a291e1da8ef7",
   "metadata": {},
   "outputs": [],
   "source": [
    "#different ways to format \n",
    "'That is %d %s bird!' % (1, 'dead') # Format expression -- OPtion #1 --uses tuples. classic one--%s (string ) the most common\n",
    "'That is {0} {1} bird!'.format(1, 'dead') # Format method in 2.6 and 3.0 -- option #2\n",
    "# each formatting is a new string ! (as they are inmutable)\n",
    "\n",
    "\n",
    "#option 1: Expression format\n",
    "# %[(name)][flags][width][.precision]typecode :\n",
    "#name:dict keys, flags: left just,numeric sign, etc, width, and precision: number of decimals, typecode:%s\n",
    "x = 1234\n",
    "'%−6.2f | %05.2f | %+06.1f' % (x, x, x)\n",
    ">>>'1.23 | 01.23 | +001.2'\n",
    "'%f, %.2f, %.*f' % (1/3.0, 1/3.0, 4, 1/3.0) # in this case 4 is giving the precision when using * for width and precision!!\n",
    ">>> '0.333333, 0.33, 0.3333'\n",
    "\n",
    "# OPtion 1 still: Dictionary form -- commonly used to generate html and XML\n",
    "\"%(n)d %(x)s\" % {\"n\":1, \"x\":\"spam\"}\n",
    ">>> '1 spam'\n",
    "reply = \"\"\" # Template with substitution targets\n",
    "Greetings...\n",
    "Hello %(name)s!\n",
    "Your age squared is %(age)s\n",
    "\"\"\"\n",
    "values = {'name': 'Bob', 'age': 40} # Build up values to substitute\n",
    "print(reply % values)\n",
    ">>> Greetings...\n",
    "Hello Bob!\n",
    "Your age squared is 40\n",
    "\n",
    "#Option 2: formatting methood call\n",
    "\n",
    "template = '{0}, {1} and {2}' # By position\n",
    "template.format('spam', 'ham', 'eggs')\n",
    ">>> 'spam, ham and eggs'\n",
    "template = '{motto}, {pork} and {food}' # By keyword\n",
    "template.format(motto='spam', pork='ham', food='eggs')\n",
    ">>>'spam, ham and eggs'\n",
    "# you can use string methodsto a formatted string e.g, template\n",
    "\n",
    "# \n",
    ">>> '{0:10} = {1:10}'.format('spam', 123.4567) # {0:10} means the first positional argument in a field 10 characters wide\n",
    "'spam = 123.457'\n",
    ">>> '{0:>10} = {1:<10}'.format('spam', 123.4567) # {1:<10} means the second positional argument left-justified in a 10-character-wide field\n",
    "' spam = 123.457 '\n",
    ">>> '{0.platform:>10} = {1[item]:<10}'.format(sys, dict(item='laptop')) #means the platform attribute of the firstargument right-justified in a 10-character-wide field\n",
    "' win32 = laptop\n",
    "# {fieldname!conversionflag:formatspec} where formatspec: [[fill]align][sign][#][0][width][.precision][typecode]\n",
    ">>> '{0:e}, {1:.3e}, {2:g}'.format(3.14159, 3.14159, 3.14159) # {2:g} means the third argument formatted by default according to the “g” floating-point representation\n",
    "'3.141590e+00, 3.142e+00, 3.14159'\n",
    ">>> '{0:f}, {1:.2f}, {2:06.2f}'.format(3.14159, 3.14159, 3.14159) # {1:.2f} designates the “f” floating-point format with just 2 decimal digits\n",
    "'3.141590, 3.14, 003.14' # {2:06.2f} adds a field with a width of 6 characters and zero padding on the left\n",
    "\n",
    ">>> '{0:X}, {1:o}, {2:b}'.format(255, 255, 255) # Hex, octal, binary\n",
    "'FF, 377, 11111111'\n",
    ">>> bin(255), int('11111111', 2), 0b11111111 # Other to/from binary\n",
    "('0b11111111', 255, 255)\n",
    ">>> hex(255), int('FF', 16), 0xFF # Other to/from hex\n",
    "('0xff', 255, 255)\n",
    ">>> oct(255), int('377', 8), 0o377, 0377 # Other to/from octal\n",
    "('0377', 255, 255, 255) # 0377 works in 2.6, not 3.0!"
   ]
  },
  {
   "cell_type": "code",
   "execution_count": null,
   "id": "8b1af9e4-7a29-4427-a0f6-29b62efa37a0",
   "metadata": {},
   "outputs": [],
   "source": [
    "# Some methods\n",
    "#str.replace(new,old,number: default-> all)\n",
    "#str.find() -- returns -1 if the argument is not found\n",
    "#list(str) -- transofmr a str into a list\n",
    "#''.join(list(or iterable sequence)) -- convert a list into a str again using '' or whatever\n",
    "#str.spli('delimiter-->default: whitespace') -- generates a list with each split as a element\n",
    "#str.endswith('valuation') -- returns a boolean value\n",
    "#str.startswith()\n",
    "# consider using RE library for patterns --> advanced tools for parsing texts\n",
    "\n"
   ]
  },
  {
   "cell_type": "code",
   "execution_count": 28,
   "id": "b706efa0-111d-4091-a4ab-84aefae3d16e",
   "metadata": {
    "scrolled": true,
    "tags": []
   },
   "outputs": [
    {
     "data": {
      "text/plain": [
       "{'__name__': '__main__',\n",
       " '__doc__': 'Automatically created module for IPython interactive environment',\n",
       " '__package__': None,\n",
       " '__loader__': None,\n",
       " '__spec__': None,\n",
       " '__builtin__': <module 'builtins' (built-in)>,\n",
       " '__builtins__': <module 'builtins' (built-in)>,\n",
       " '_ih': ['',\n",
       "  'a = 5\\nb = a\\na = a + 2\\na,b',\n",
       "  'a = 5\\nb = a\\na = a + 2\\nb =a\\na,b',\n",
       "  'a = 5\\nb = a\\na = a + 2\\na,b',\n",
       "  '# implicit concatenation\\ntitle = \"Meaning \" \\'of\\' \" Life\"\\ntitle',\n",
       "  '# \\\\ backslash represents in general the escape sequences !!\\n\\'knight\\\\\\'s\\', \"knight\\\\\"s\"',\n",
       "  '# \\\\ backslash represents in general the escape sequences !!\\nprint(\\'knight\\\\\\'s\\', \"knight\\\\\"s\") # --> embed \\' in the former and \" in the latter\\ns = \\'a\\\\nb\\\\tc\\'\\ns',\n",
       "  '# \\\\ backslash represents in general the escape sequences !!\\nprint(\\'knight\\\\\\'s\\', \"knight\\\\\"s\") # --> embed \\' in the former and \" in the latter\\ns = \\'a\\\\n\\\\tc\\'\\ns',\n",
       "  '# \\\\ backslash represents in general the escape sequences !!\\nprint(\\'knight\\\\\\'s\\', \"knight\\\\\"s\") # --> embed \\' in the former and \" in the latter\\ns = \\'a\\\\nb\\\\tc\\'\\nprint(s)',\n",
       "  '#Multiblock string\\nmantra = \"\"\"Always look\\n... on the bright\\n... side of life.\"\"\"\\nmantra',\n",
       "  '#Multiblock string\\nmantra = \"\"\"Always look\\non the bright\\nside of life.\"\"\"\\nmantra',\n",
       "  '#Multiblock string\\nmantra = \"\"\"Always look\\n on the bright\\n side of life.\"\"\"\\nmantra',\n",
       "  '#Multiblock string\\nmantra = \"\"\"Always look\\n on the bright\\n side of life.\"\"\"\\nprint(mantra)',\n",
       "  '# Operators\\nlen(\\'abc\\') # Length: number of items\\n\\'abc\\' + \\'def\\' # Concatenation: a new string\\nprint(\\'------- ...more... ---\\') # 80 dashes, the hard way\\nprint(\\'-\\' * 80) # 80 dashes, the easy way\\nmyjob = \"hacker\"\\nfor c in myjob: print(c, end=\\' \\')',\n",
       "  '# Operators\\nlen(\\'abc\\') # Length: number of items\\n\\'abc\\' + \\'def\\' # Concatenation: a new string\\nprint(\\'------- ...more... ---\\') # 80 dashes, the hard way\\nprint(\\'-\\' * 80) # 80 dashes, the easy way\\nmyjob = \"hacker\"\\nfor c in myjob: print(c, end=\\' \\')\\nprint(K in myjob)',\n",
       "  '# Operators\\nlen(\\'abc\\') # Length: number of items\\n\\'abc\\' + \\'def\\' # Concatenation: a new string\\nprint(\\'------- ...more... ---\\') # 80 dashes, the hard way\\nprint(\\'-\\' * 80) # 80 dashes, the easy way\\nmyjob = \"hacker\"\\nfor c in myjob: print(c, end=\\' \\')\\nprint(\\'K\\' in myjob)',\n",
       "  '# Operators\\nlen(\\'abc\\') # Length: number of items\\n\\'abc\\' + \\'def\\' # Concatenation: a new string\\nprint(\\'------- ...more... ---\\') # 80 dashes, the hard way\\nprint(\\'-\\' * 80) # 80 dashes, the easy way\\nmyjob = \"hacker\"\\nfor c in myjob: print(c, end=\\' \\')\\nprint(\\'k\\' in myjob)',\n",
       "  '# Operators\\nlen(\\'abc\\') # Length: number of items\\n\\'abc\\' + \\'def\\' # Concatenation: a new string\\nprint(\\'------- ...more... ---\\') # 80 dashes, the hard way\\nprint(\\'-\\' * 80) # 80 dashes, the easy way\\nmyjob = \"hacker\"\\nfor c in myjob: print(c, end=\\' \\')\\nprint(\\'k\\' in myjob) # similar to method str.find() but retrives a boolean object\\nprint(myjob.find(\\'k\\'))',\n",
       "  \"'spam'[1:3]\",\n",
       "  \"'spam'[1:3]\\n'spam'[slice(1,3)]\",\n",
       "  \"print('spam'[1:3])\\nprint('spam'[slice(1,3)])\",\n",
       "  \"print('spam'[1:3])\\nprint('spam'[slice(1,3)])\\nprint('spam'[::-1])\",\n",
       "  \"print('spam'[1:3])\\nprint('spam'[slice(1,3)])\\nprint('spam'[::-1])\\nprint('spam'[slice(None,None,-1)])\",\n",
       "  'import sys\\nprint(sys.argv)',\n",
       "  \"#conversion types\\nint('42')\\nstr(42)\\nfloat('44.23')\\nord('s') #integer code of ASCII\\nchr()\",\n",
       "  \"#conversion types\\nint('42')\\nstr(42)\\nfloat('44.23')\\nord('s') #integer code of ASCII\",\n",
       "  \"#conversion types\\nint('42')\\nstr(42)\\nfloat('44.23')\\nord('s') #integer code of ASCII\\nchr('115') #perfomrs the inverse to ord\",\n",
       "  \"#conversion types\\nint('42')\\nstr(42)\\nfloat('44.23')\\nord('s') #integer code of ASCII\\nchr(115) #perfomrs the inverse to ord\",\n",
       "  'vars()'],\n",
       " '_oh': {1: (7, 5),\n",
       "  2: (7, 7),\n",
       "  3: (7, 5),\n",
       "  4: 'Meaning of Life',\n",
       "  5: (\"knight's\", 'knight\"s'),\n",
       "  6: 'a\\nb\\tc',\n",
       "  7: 'a\\n\\tc',\n",
       "  9: 'Always look\\n... on the bright\\n... side of life.',\n",
       "  10: 'Always look\\non the bright\\nside of life.',\n",
       "  11: 'Always look\\n on the bright\\n side of life.',\n",
       "  18: 'pa',\n",
       "  19: 'pa',\n",
       "  25: 115,\n",
       "  27: 's'},\n",
       " '_dh': ['C:\\\\Users\\\\chris\\\\python_l\\\\Learning Python'],\n",
       " 'In': ['',\n",
       "  'a = 5\\nb = a\\na = a + 2\\na,b',\n",
       "  'a = 5\\nb = a\\na = a + 2\\nb =a\\na,b',\n",
       "  'a = 5\\nb = a\\na = a + 2\\na,b',\n",
       "  '# implicit concatenation\\ntitle = \"Meaning \" \\'of\\' \" Life\"\\ntitle',\n",
       "  '# \\\\ backslash represents in general the escape sequences !!\\n\\'knight\\\\\\'s\\', \"knight\\\\\"s\"',\n",
       "  '# \\\\ backslash represents in general the escape sequences !!\\nprint(\\'knight\\\\\\'s\\', \"knight\\\\\"s\") # --> embed \\' in the former and \" in the latter\\ns = \\'a\\\\nb\\\\tc\\'\\ns',\n",
       "  '# \\\\ backslash represents in general the escape sequences !!\\nprint(\\'knight\\\\\\'s\\', \"knight\\\\\"s\") # --> embed \\' in the former and \" in the latter\\ns = \\'a\\\\n\\\\tc\\'\\ns',\n",
       "  '# \\\\ backslash represents in general the escape sequences !!\\nprint(\\'knight\\\\\\'s\\', \"knight\\\\\"s\") # --> embed \\' in the former and \" in the latter\\ns = \\'a\\\\nb\\\\tc\\'\\nprint(s)',\n",
       "  '#Multiblock string\\nmantra = \"\"\"Always look\\n... on the bright\\n... side of life.\"\"\"\\nmantra',\n",
       "  '#Multiblock string\\nmantra = \"\"\"Always look\\non the bright\\nside of life.\"\"\"\\nmantra',\n",
       "  '#Multiblock string\\nmantra = \"\"\"Always look\\n on the bright\\n side of life.\"\"\"\\nmantra',\n",
       "  '#Multiblock string\\nmantra = \"\"\"Always look\\n on the bright\\n side of life.\"\"\"\\nprint(mantra)',\n",
       "  '# Operators\\nlen(\\'abc\\') # Length: number of items\\n\\'abc\\' + \\'def\\' # Concatenation: a new string\\nprint(\\'------- ...more... ---\\') # 80 dashes, the hard way\\nprint(\\'-\\' * 80) # 80 dashes, the easy way\\nmyjob = \"hacker\"\\nfor c in myjob: print(c, end=\\' \\')',\n",
       "  '# Operators\\nlen(\\'abc\\') # Length: number of items\\n\\'abc\\' + \\'def\\' # Concatenation: a new string\\nprint(\\'------- ...more... ---\\') # 80 dashes, the hard way\\nprint(\\'-\\' * 80) # 80 dashes, the easy way\\nmyjob = \"hacker\"\\nfor c in myjob: print(c, end=\\' \\')\\nprint(K in myjob)',\n",
       "  '# Operators\\nlen(\\'abc\\') # Length: number of items\\n\\'abc\\' + \\'def\\' # Concatenation: a new string\\nprint(\\'------- ...more... ---\\') # 80 dashes, the hard way\\nprint(\\'-\\' * 80) # 80 dashes, the easy way\\nmyjob = \"hacker\"\\nfor c in myjob: print(c, end=\\' \\')\\nprint(\\'K\\' in myjob)',\n",
       "  '# Operators\\nlen(\\'abc\\') # Length: number of items\\n\\'abc\\' + \\'def\\' # Concatenation: a new string\\nprint(\\'------- ...more... ---\\') # 80 dashes, the hard way\\nprint(\\'-\\' * 80) # 80 dashes, the easy way\\nmyjob = \"hacker\"\\nfor c in myjob: print(c, end=\\' \\')\\nprint(\\'k\\' in myjob)',\n",
       "  '# Operators\\nlen(\\'abc\\') # Length: number of items\\n\\'abc\\' + \\'def\\' # Concatenation: a new string\\nprint(\\'------- ...more... ---\\') # 80 dashes, the hard way\\nprint(\\'-\\' * 80) # 80 dashes, the easy way\\nmyjob = \"hacker\"\\nfor c in myjob: print(c, end=\\' \\')\\nprint(\\'k\\' in myjob) # similar to method str.find() but retrives a boolean object\\nprint(myjob.find(\\'k\\'))',\n",
       "  \"'spam'[1:3]\",\n",
       "  \"'spam'[1:3]\\n'spam'[slice(1,3)]\",\n",
       "  \"print('spam'[1:3])\\nprint('spam'[slice(1,3)])\",\n",
       "  \"print('spam'[1:3])\\nprint('spam'[slice(1,3)])\\nprint('spam'[::-1])\",\n",
       "  \"print('spam'[1:3])\\nprint('spam'[slice(1,3)])\\nprint('spam'[::-1])\\nprint('spam'[slice(None,None,-1)])\",\n",
       "  'import sys\\nprint(sys.argv)',\n",
       "  \"#conversion types\\nint('42')\\nstr(42)\\nfloat('44.23')\\nord('s') #integer code of ASCII\\nchr()\",\n",
       "  \"#conversion types\\nint('42')\\nstr(42)\\nfloat('44.23')\\nord('s') #integer code of ASCII\",\n",
       "  \"#conversion types\\nint('42')\\nstr(42)\\nfloat('44.23')\\nord('s') #integer code of ASCII\\nchr('115') #perfomrs the inverse to ord\",\n",
       "  \"#conversion types\\nint('42')\\nstr(42)\\nfloat('44.23')\\nord('s') #integer code of ASCII\\nchr(115) #perfomrs the inverse to ord\",\n",
       "  'vars()'],\n",
       " 'Out': {1: (7, 5),\n",
       "  2: (7, 7),\n",
       "  3: (7, 5),\n",
       "  4: 'Meaning of Life',\n",
       "  5: (\"knight's\", 'knight\"s'),\n",
       "  6: 'a\\nb\\tc',\n",
       "  7: 'a\\n\\tc',\n",
       "  9: 'Always look\\n... on the bright\\n... side of life.',\n",
       "  10: 'Always look\\non the bright\\nside of life.',\n",
       "  11: 'Always look\\n on the bright\\n side of life.',\n",
       "  18: 'pa',\n",
       "  19: 'pa',\n",
       "  25: 115,\n",
       "  27: 's'},\n",
       " 'get_ipython': <bound method InteractiveShell.get_ipython of <ipykernel.zmqshell.ZMQInteractiveShell object at 0x000001C883BFDFA0>>,\n",
       " 'exit': <IPython.core.autocall.ZMQExitAutocall at 0x1c883c761c0>,\n",
       " 'quit': <IPython.core.autocall.ZMQExitAutocall at 0x1c883c761c0>,\n",
       " '_': 's',\n",
       " '__': 115,\n",
       " '___': 'pa',\n",
       " '_i': \"#conversion types\\nint('42')\\nstr(42)\\nfloat('44.23')\\nord('s') #integer code of ASCII\\nchr(115) #perfomrs the inverse to ord\",\n",
       " '_ii': \"#conversion types\\nint('42')\\nstr(42)\\nfloat('44.23')\\nord('s') #integer code of ASCII\\nchr('115') #perfomrs the inverse to ord\",\n",
       " '_iii': \"#conversion types\\nint('42')\\nstr(42)\\nfloat('44.23')\\nord('s') #integer code of ASCII\",\n",
       " '_i1': 'a = 5\\nb = a\\na = a + 2\\na,b',\n",
       " 'a': 7,\n",
       " 'b': 5,\n",
       " '_1': (7, 5),\n",
       " '_i2': 'a = 5\\nb = a\\na = a + 2\\nb =a\\na,b',\n",
       " '_2': (7, 7),\n",
       " '_i3': 'a = 5\\nb = a\\na = a + 2\\na,b',\n",
       " '_3': (7, 5),\n",
       " '_i4': '# implicit concatenation\\ntitle = \"Meaning \" \\'of\\' \" Life\"\\ntitle',\n",
       " 'title': 'Meaning of Life',\n",
       " '_4': 'Meaning of Life',\n",
       " '_i5': '# \\\\ backslash represents in general the escape sequences !!\\n\\'knight\\\\\\'s\\', \"knight\\\\\"s\"',\n",
       " '_5': (\"knight's\", 'knight\"s'),\n",
       " '_i6': '# \\\\ backslash represents in general the escape sequences !!\\nprint(\\'knight\\\\\\'s\\', \"knight\\\\\"s\") # --> embed \\' in the former and \" in the latter\\ns = \\'a\\\\nb\\\\tc\\'\\ns',\n",
       " 's': 'a\\nb\\tc',\n",
       " '_6': 'a\\nb\\tc',\n",
       " '_i7': '# \\\\ backslash represents in general the escape sequences !!\\nprint(\\'knight\\\\\\'s\\', \"knight\\\\\"s\") # --> embed \\' in the former and \" in the latter\\ns = \\'a\\\\n\\\\tc\\'\\ns',\n",
       " '_7': 'a\\n\\tc',\n",
       " '_i8': '# \\\\ backslash represents in general the escape sequences !!\\nprint(\\'knight\\\\\\'s\\', \"knight\\\\\"s\") # --> embed \\' in the former and \" in the latter\\ns = \\'a\\\\nb\\\\tc\\'\\nprint(s)',\n",
       " '_i9': '#Multiblock string\\nmantra = \"\"\"Always look\\n... on the bright\\n... side of life.\"\"\"\\nmantra',\n",
       " 'mantra': 'Always look\\n on the bright\\n side of life.',\n",
       " '_9': 'Always look\\n... on the bright\\n... side of life.',\n",
       " '_i10': '#Multiblock string\\nmantra = \"\"\"Always look\\non the bright\\nside of life.\"\"\"\\nmantra',\n",
       " '_10': 'Always look\\non the bright\\nside of life.',\n",
       " '_i11': '#Multiblock string\\nmantra = \"\"\"Always look\\n on the bright\\n side of life.\"\"\"\\nmantra',\n",
       " '_11': 'Always look\\n on the bright\\n side of life.',\n",
       " '_i12': '#Multiblock string\\nmantra = \"\"\"Always look\\n on the bright\\n side of life.\"\"\"\\nprint(mantra)',\n",
       " '_i13': '# Operators\\nlen(\\'abc\\') # Length: number of items\\n\\'abc\\' + \\'def\\' # Concatenation: a new string\\nprint(\\'------- ...more... ---\\') # 80 dashes, the hard way\\nprint(\\'-\\' * 80) # 80 dashes, the easy way\\nmyjob = \"hacker\"\\nfor c in myjob: print(c, end=\\' \\')',\n",
       " 'myjob': 'hacker',\n",
       " 'c': 'r',\n",
       " '_i14': '# Operators\\nlen(\\'abc\\') # Length: number of items\\n\\'abc\\' + \\'def\\' # Concatenation: a new string\\nprint(\\'------- ...more... ---\\') # 80 dashes, the hard way\\nprint(\\'-\\' * 80) # 80 dashes, the easy way\\nmyjob = \"hacker\"\\nfor c in myjob: print(c, end=\\' \\')\\nprint(K in myjob)',\n",
       " '_i15': '# Operators\\nlen(\\'abc\\') # Length: number of items\\n\\'abc\\' + \\'def\\' # Concatenation: a new string\\nprint(\\'------- ...more... ---\\') # 80 dashes, the hard way\\nprint(\\'-\\' * 80) # 80 dashes, the easy way\\nmyjob = \"hacker\"\\nfor c in myjob: print(c, end=\\' \\')\\nprint(\\'K\\' in myjob)',\n",
       " '_i16': '# Operators\\nlen(\\'abc\\') # Length: number of items\\n\\'abc\\' + \\'def\\' # Concatenation: a new string\\nprint(\\'------- ...more... ---\\') # 80 dashes, the hard way\\nprint(\\'-\\' * 80) # 80 dashes, the easy way\\nmyjob = \"hacker\"\\nfor c in myjob: print(c, end=\\' \\')\\nprint(\\'k\\' in myjob)',\n",
       " '_i17': '# Operators\\nlen(\\'abc\\') # Length: number of items\\n\\'abc\\' + \\'def\\' # Concatenation: a new string\\nprint(\\'------- ...more... ---\\') # 80 dashes, the hard way\\nprint(\\'-\\' * 80) # 80 dashes, the easy way\\nmyjob = \"hacker\"\\nfor c in myjob: print(c, end=\\' \\')\\nprint(\\'k\\' in myjob) # similar to method str.find() but retrives a boolean object\\nprint(myjob.find(\\'k\\'))',\n",
       " '_i18': \"'spam'[1:3]\",\n",
       " '_18': 'pa',\n",
       " '_i19': \"'spam'[1:3]\\n'spam'[slice(1,3)]\",\n",
       " '_19': 'pa',\n",
       " '_i20': \"print('spam'[1:3])\\nprint('spam'[slice(1,3)])\",\n",
       " '_i21': \"print('spam'[1:3])\\nprint('spam'[slice(1,3)])\\nprint('spam'[::-1])\",\n",
       " '_i22': \"print('spam'[1:3])\\nprint('spam'[slice(1,3)])\\nprint('spam'[::-1])\\nprint('spam'[slice(None,None,-1)])\",\n",
       " '_i23': 'import sys\\nprint(sys.argv)',\n",
       " 'sys': <module 'sys' (built-in)>,\n",
       " '_i24': \"#conversion types\\nint('42')\\nstr(42)\\nfloat('44.23')\\nord('s') #integer code of ASCII\\nchr()\",\n",
       " '_i25': \"#conversion types\\nint('42')\\nstr(42)\\nfloat('44.23')\\nord('s') #integer code of ASCII\",\n",
       " '_25': 115,\n",
       " '_i26': \"#conversion types\\nint('42')\\nstr(42)\\nfloat('44.23')\\nord('s') #integer code of ASCII\\nchr('115') #perfomrs the inverse to ord\",\n",
       " '_i27': \"#conversion types\\nint('42')\\nstr(42)\\nfloat('44.23')\\nord('s') #integer code of ASCII\\nchr(115) #perfomrs the inverse to ord\",\n",
       " '_27': 's',\n",
       " '_i28': 'vars()'}"
      ]
     },
     "execution_count": 28,
     "metadata": {},
     "output_type": "execute_result"
    }
   ],
   "source": [
    "vars() #-- returns all variables stored so far in a dict way"
   ]
  },
  {
   "cell_type": "code",
   "execution_count": 30,
   "id": "56a09dd7-fd86-4bb8-ac5a-c64626650b42",
   "metadata": {},
   "outputs": [
    {
     "data": {
      "text/plain": [
       "'My laptop runs win32'"
      ]
     },
     "execution_count": 30,
     "metadata": {},
     "output_type": "execute_result"
    }
   ],
   "source": [
    "import sys\n",
    "'My {1[spam]} runs {0.platform}'.format(sys, {'spam': 'laptop'}) # the entry 0.platform is a sys module attribute"
   ]
  },
  {
   "cell_type": "code",
   "execution_count": null,
   "id": "0cdadbd3-d043-49ec-ae8f-73569f94ae85",
   "metadata": {},
   "outputs": [],
   "source": [
    "# Using a list to format a string\n",
    ">>> somelist = list('SPAM')\n",
    ">>> somelist\n",
    "['S', 'P', 'A', 'M']\n",
    ">>> 'first={0[0]}, third={0[2]}'.format(somelist)\n",
    "'first=S, third=A'\n",
    ">>> 'first={0}, last={1}'.format(somelist[0], somelist[-1]) # [-1] fails in fmt\n",
    "'first=S, last=M'\n",
    ">>> parts = somelist[0], somelist[-1], somelist[1:3] # [1:3] fails in fmt\n",
    ">>> 'first={0}, last={1}, middle={2}'.format(*parts)\n",
    "\"first=S, last=M, middle=['P', 'A']\""
   ]
  },
  {
   "cell_type": "code",
   "execution_count": null,
   "id": "c75e41c1-7f96-46dc-9c97-56b230eb8f55",
   "metadata": {},
   "outputs": [],
   "source": [
    "#Formatting using three different methods:\n",
    ">>> '{0:.2f}'.format(1.2345) # String method\n",
    "'1.23'\n",
    ">>> format(1.2345, '.2f') # Built-in function\n",
    "'1.23'\n",
    ">>> '%.2f' % 1.2345 # Expression\n",
    "'1.23'"
   ]
  },
  {
   "cell_type": "code",
   "execution_count": null,
   "id": "3f360715-024b-48d3-aa08-6379af63dd6c",
   "metadata": {},
   "outputs": [],
   "source": [
    "# hardcore code in both types:\n",
    ">>> import sys\n",
    ">>> 'My {1[spam]:<8} runs {0.platform:>8}'.format(sys, {'spam': 'laptop'})\n",
    "'My laptop runs win32'\n",
    ">>> 'My %(spam)-8s runs %(plat)8s' % dict(spam='laptop', plat=sys.platform)\n",
    "'My laptop runs win32'"
   ]
  },
  {
   "cell_type": "code",
   "execution_count": 32,
   "id": "4132c762-dd2b-4612-8e90-d6fc749c9d99",
   "metadata": {},
   "outputs": [
    {
     "name": "stdout",
     "output_type": "stream",
     "text": [
      "999,999,999,999\n",
      "296,999.26\n"
     ]
    }
   ],
   "source": [
    "print('{0:,d}'.format(999999999999))\n",
    "print('{:,.2f}'.format(296999.2567))"
   ]
  },
  {
   "cell_type": "code",
   "execution_count": 33,
   "id": "c6fc95a3-64b6-4b6a-9311-a59d346566d4",
   "metadata": {},
   "outputs": [
    {
     "data": {
      "text/plain": [
       "'Five plus ten is 15 and not 30.'"
      ]
     },
     "execution_count": 33,
     "metadata": {},
     "output_type": "execute_result"
    }
   ],
   "source": [
    "# look at #3 String Interpolation / f-Strings (Python 3.6+)-- embedded \n",
    "a = 5\n",
    "b = 10\n",
    "f'Five plus ten is {a + b} and not {2 * (a + b)}.'"
   ]
  },
  {
   "cell_type": "code",
   "execution_count": null,
   "id": "80281d94-778a-450e-bd0c-9fab3ad6fb20",
   "metadata": {},
   "outputs": [],
   "source": []
  }
 ],
 "metadata": {
  "kernelspec": {
   "display_name": "Python 3",
   "language": "python",
   "name": "python3"
  },
  "language_info": {
   "codemirror_mode": {
    "name": "ipython",
    "version": 3
   },
   "file_extension": ".py",
   "mimetype": "text/x-python",
   "name": "python",
   "nbconvert_exporter": "python",
   "pygments_lexer": "ipython3",
   "version": "3.8.8"
  }
 },
 "nbformat": 4,
 "nbformat_minor": 5
}
