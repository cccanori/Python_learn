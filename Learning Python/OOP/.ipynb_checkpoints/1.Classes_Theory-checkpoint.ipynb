{
 "cells": [
  {
   "cell_type": "markdown",
   "id": "39865121-fc19-4dc3-bb68-3a976e6e3bf8",
   "metadata": {},
   "source": [
    "___OOP___"
   ]
  },
  {
   "cell_type": "code",
   "execution_count": null,
   "id": "b3f456e8-d113-4cfc-ad82-031e4e8406a2",
   "metadata": {},
   "outputs": [],
   "source": [
    "# Two aspects of OOP prove useful here (Making pizza):\n",
    "'''Inheritance:\n",
    "        Pizza-making robots are kinds of robots, so they possess the usual robot-y properties.\n",
    "        In OOP terms, we say they “inherit” properties from the general category\n",
    "        of all robots. These common properties need to be implemented only once for the\n",
    "        general case and can be reused in part or in full by all types of robots we may build\n",
    "        in the future.'''\n",
    "'''Composition:\n",
    "        Pizza-making robots are really collections of components that work together as a\n",
    "        team. For instance, for our robot to be successful, it might need arms to roll dough,\n",
    "        motors to maneuver to the oven, and so on. In OOP parlance, our robot is an\n",
    "        example of composition; it contains other objects that it activates to do its bidding.\n",
    "        Each component might be coded as a class, which defines its own behavior and\n",
    "        relationships.'''\n",
    "# From a more concrete programming perspective, classes are Python program units, just\n",
    "# like functions and modules: they are another compartment for packaging logic and data."
   ]
  },
  {
   "cell_type": "markdown",
   "id": "c335a893-3856-4942-9489-a33e53f7109d",
   "metadata": {},
   "source": [
    "___Classes___"
   ]
  },
  {
   "cell_type": "code",
   "execution_count": null,
   "id": "e0c75e7a-e0e5-476e-8f6d-f25454e5d4eb",
   "metadata": {},
   "outputs": [],
   "source": [
    "'''classes also define new namespaces, much like modules. But, compared\n",
    "   to other program units we’ve already seen, classes have three critical distinctions that\n",
    "   make them more useful when it comes to building new objects:'''\n",
    "\n",
    "'''* Multiple instances:\n",
    "\n",
    "        Classes are essentially factories for generating one or more objects. Every time we\n",
    "        call a class, we generate a new object with a distinct namespace. Each object generated\n",
    "        from a class has access to the class’s attributes and gets a namespace of its\n",
    "        own for data that varies per object.'''\n",
    "\n",
    "'''Customization via inheritance:\n",
    "\n",
    "        Classes also support the OOP notion of inheritance; we can extend a class by redefining\n",
    "        its attributes outside the class itself in new software components coded\n",
    "        as subclasses. More generally, classes can build up namespace hierarchies, which\n",
    "        define names to be used by objects created from classes in the hierarchy. This\n",
    "        supports multiple customizable behaviors more directly than other tools.'''\n",
    "\n",
    "'''Operator overloading:\n",
    "\n",
    "        By providing special protocol methods, classes can define objects that respond to\n",
    "        the sorts of operations we saw at work on built-in types. For instance, objects made\n",
    "        with classes can be sliced, concatenated, indexed, and so on. Python provides\n",
    "        hooks that classes can use to intercept and implement any built-in type operation.'''\n"
   ]
  },
  {
   "cell_type": "markdown",
   "id": "0ce4317b-0091-424c-9f91-04308c050684",
   "metadata": {},
   "source": [
    "__Attribute Inheritance Search__"
   ]
  },
  {
   "cell_type": "code",
   "execution_count": null,
   "id": "fbd5f222-c5a5-449c-af14-cf1dc4b475cb",
   "metadata": {},
   "outputs": [],
   "source": [
    "'''Much of the OOP story in Python boils down to this expression:\n",
    "                    object.attribute'''\n",
    "# which means in OOP:\n",
    "'''Find the first occurrence of attribute by looking in object, then in all classes above it,\n",
    "    from bottom to top and left to right.'''\n",
    "\n",
    "'''In Python, this is all very literal: we really do build up trees of linked objects with code,\n",
    "   and Python really does climb this tree at runtime searching for attributes every time we\n",
    "   use the object.attribute expression.'''"
   ]
  },
  {
   "cell_type": "code",
   "execution_count": null,
   "id": "8dc9ab1a-9b73-4e68-bfd2-8d8a52a59ffd",
   "metadata": {},
   "outputs": [],
   "source": [
    "# to bear in mind:\n",
    "'''Classes:\n",
    "    Serve as instance factories. Their attributes provide behavior—data and functions\n",
    "    —that is inherited by all the instances generated from them (e.g., a function to\n",
    "    compute an employee’s salary from pay and hours). Superclasses: classes above other classes\n",
    "    in the searching tree. Subclasses are the contrary.\n",
    "    Superclasses guide the behavior of subclasses (Inheritance OOP). However, as the search algorithm proceeds from\n",
    "    buttom up, Subclasses can override that superclasses' behavior (Customization of inheritance -override- OOP).\n",
    "    \n",
    "   \n",
    "   Instances:\n",
    "    Represent the concrete items in a program’s domain. Their attributes record data\n",
    "    that varies per specific object (e.g., an employee’s Social Security number).'''"
   ]
  },
  {
   "cell_type": "markdown",
   "id": "8c86360d-518e-49bf-97dc-74d01799a3cc",
   "metadata": {},
   "source": [
    "__Classes and Instances__"
   ]
  },
  {
   "cell_type": "code",
   "execution_count": null,
   "id": "a3df8e78-136e-49b6-b278-d33c0062acbd",
   "metadata": {},
   "outputs": [],
   "source": [
    "'''The primary difference between classes and instances is that classes are a kind of factory\n",
    "   for generating instances.''' \n",
    "'''Operationally, classes will usually have functions attached to them (e.g., computeSalary),\n",
    "   and the instances will have more basic data items used by the class’s functions (e.g., hoursWorked).'''\n",
    "\n",
    "'''In fact, the object-oriented model is not that different from the\n",
    "   classic data-processing model of programs plus records—in OOP, instances are like\n",
    "   records with “data,” and classes are the “programs” for processing those records.\n",
    "   In OOP, though, we also have the notion of an inheritance hierarchy, which supports\n",
    "   software customization better than earlier models.'''"
   ]
  },
  {
   "cell_type": "markdown",
   "id": "22affb36-4d15-4213-a3ce-be8b9ae796b2",
   "metadata": {},
   "source": [
    "__Method Calls__"
   ]
  },
  {
   "cell_type": "code",
   "execution_count": null,
   "id": "44beeeab-b364-4905-9c17-df6034d7efb6",
   "metadata": {},
   "outputs": [],
   "source": [
    "'''this I2.w reference is a function call, what it really means is “call the C3.w function to\n",
    "   process I2.” That is, Python will automatically map the call I2.w() into the call\n",
    "   C3.w(I2), passing in the instance as the first argument to the inherited function.'''\n",
    "\n",
    "'''As we’ll also learn, methods can be called through either an instance—bob.giveRaise()—or a class—Employee.giveRaise(bob)'''\n",
    "\n",
    "'''These calls also illustrate both of the key ideas in OOP: to run a bob.giveRaise() method call, Python:\n",
    "    1. Looks up giveRaise from bob, by inheritance search\n",
    "    2. Passes bob to the located giveRaise function, in the special self argument\n",
    "   When you call Employee.giveRaise(bob), you’re just performing both steps yourself.'''"
   ]
  },
  {
   "cell_type": "markdown",
   "id": "5b3cf609-8757-4c4c-8133-caef81658728",
   "metadata": {},
   "source": [
    "__Coding Class Trees__"
   ]
  },
  {
   "cell_type": "code",
   "execution_count": null,
   "id": "477d4e80-7c4e-429a-a69a-744e4f35a62e",
   "metadata": {},
   "outputs": [],
   "source": [
    "''' • Each class statement generates a new class object.\n",
    "    • Each time a class is called, it generates a new instance object.\n",
    "    • Instances are automatically linked to the classes from which they are created.\n",
    "    • Classes are automatically linked to their superclasses according to the way we list\n",
    "      them in parentheses in a class header line; the left-to-right order there gives the order in the tree.'''\n",
    "\n",
    "# Example: coding the three of the image:\n",
    "\n",
    "class C2: ... # Make class objects (ovals)\n",
    "class C3: ...\n",
    "class C1(C2, C3): ... # Linked to superclasses (in this order) --> multiple inheritance !!\n",
    "I1 = C1() # Make instance objects (rectangles)\n",
    "I2 = C1() # Linked to their classes\n",
    "'''Attributes attached to instances pertain only to those single instances, but attributes attached to classes are\n",
    "   shared by all their subclasses and instances.'''\n",
    "\n",
    "# Practical example:\n",
    "class C2: ... # Make superclass objects\n",
    "class C3: ...\n",
    "\n",
    "class C1(C2, C3): # Make and link class C1\n",
    "    def setname(self, who): # Assign name: C1.setname --> self is always used when setting attributes for classes not instances!\n",
    "        self.name = who # Self is either I1 or I2 -> we are stating that object.name variable is equal to the argumtn who in the passed arguments (after self)\n",
    "\n",
    "I1 = C1() # Make two instances\n",
    "I2 = C1()\n",
    "I1.setname('bob') # Sets I1.name to 'bob' --> I1 respresents the 'self' argument !\n",
    "I2.setname('sue') # Sets I2.name to 'sue'\n",
    "print(I1.name) # Prints 'bob'\n",
    "bob\n",
    "#or\n",
    "C1.setname(I1,'bob') # draws similar results ! -> just be aware that C! and I! shoud have been defined previously!\n",
    "# also, calling I1.name without having called I1.setname, produces an error !"
   ]
  },
  {
   "cell_type": "markdown",
   "id": "7225f88e-e29d-4a3f-8b21-063e47034886",
   "metadata": {},
   "source": [
    "__Operator Overloading__"
   ]
  },
  {
   "cell_type": "code",
   "execution_count": null,
   "id": "334e0705-0b7d-424c-b583-9d61fdaf77a8",
   "metadata": {},
   "outputs": [],
   "source": [
    "class C2: ... # Make superclass objects\n",
    "class C3: ...\n",
    "class C1(C2, C3):\n",
    "    def __init__(self, who): # Set name when constructed --> no need to run I1.setname before calling I1.name !\n",
    "        self.name = who # Self is either I1 or I2\n",
    "    '''__init__ the method is executed every time an instance of this class\n",
    "       is generated --> known as the CONSTRUCTOR method '''\n",
    "I1 = C1('bob') # Sets I1.name to 'bob'\n",
    "I2 = C1('sue') # Sets I2.name to 'sue'\n",
    "print(I1.name) # Prints 'bob'\n",
    "\n",
    "# __init__ is the most representative method whithin a larger class of methods called operator overloading:\n",
    "'''Such methods are inherited in class trees as usual and have double underscores (__X__) at the start\n",
    "   and end of their names to make them distinct.--> they are optional !!--> increse the complexity of the object'''"
   ]
  },
  {
   "cell_type": "markdown",
   "id": "6bbe86f0-2010-428d-abaf-f701f3bcd45f",
   "metadata": {},
   "source": [
    "__Why OOP? : Code reuse__"
   ]
  },
  {
   "cell_type": "code",
   "execution_count": null,
   "id": "0ee03816-4c28-4e90-bd52-2c9dbe3a5aa4",
   "metadata": {},
   "outputs": [],
   "source": [
    "'''classes support code reuse in ways that other Python program components cannot. In fact, this is their highest purpose.\n",
    "   With classes, we code by customizing existing software, instead of either changing existing code in place or starting\n",
    "   from scratch for each new project. This turns out to be a powerful paradigm in realistic programming.'''"
   ]
  },
  {
   "cell_type": "markdown",
   "id": "88f21dbc-a2c4-4294-8b0f-14c43414c9e3",
   "metadata": {},
   "source": [
    "__Polymorphism and classes__"
   ]
  },
  {
   "cell_type": "code",
   "execution_count": null,
   "id": "21f2dcb6-bbdf-47a5-a213-775505a066e7",
   "metadata": {},
   "outputs": [],
   "source": [
    "#task: implementing an employee database app\n",
    "\n",
    "#1st step: set a general superclasss:\n",
    "\n",
    "class Employee: # General superclass\n",
    "    def computeSalary(self): ... # Common or default behaviors\n",
    "    def giveRaise(self): ...\n",
    "    def promote(self): ...\n",
    "    def retire(self): ...\n",
    "    \n",
    "#2nd: set a subclass dependiing on the class of employee: --> it iherited the super behaviour.\n",
    "class Engineer(Employee): # Specialized subclass\n",
    "    def computeSalary(self): ... # Something custom here --> overrides the previous computesalary() method\n",
    "\n",
    "#3rd: yu can create instances with the difference betwwen genreal employee and engineers:\n",
    "bob = Employee() # Default behavior\n",
    "sue = Employee() # Default behavior\n",
    "tom = Engineer() # Custom salary calculator\n",
    "'''The class you specifie determines the searching tree algo'''\n",
    "\n",
    "# Ultimately, these three instance objects might wind up embedded in a larger container\n",
    "#object—for instance, a list, or an instance of another class\n",
    "\n",
    "company = [bob, sue, tom] # A composite object\n",
    "for emp in company:\n",
    "    print(emp.computeSalary()) # Run this object's version: default or custom\n",
    "\n",
    "\n",
    "# Programming by customization\n",
    "'''Frameworks are a kind of superclasses that allow us to use existing code.\n",
    "   In fact, we are programming subclasses when using this frameworks.--> debugged code (framework) + your own (subclasses) = OOP'''\n"
   ]
  }
 ],
 "metadata": {
  "kernelspec": {
   "display_name": "Python 3",
   "language": "python",
   "name": "python3"
  },
  "language_info": {
   "codemirror_mode": {
    "name": "ipython",
    "version": 3
   },
   "file_extension": ".py",
   "mimetype": "text/x-python",
   "name": "python",
   "nbconvert_exporter": "python",
   "pygments_lexer": "ipython3",
   "version": "3.8.8"
  }
 },
 "nbformat": 4,
 "nbformat_minor": 5
}
