{
 "cells": [
  {
   "cell_type": "markdown",
   "id": "af951dcd-219f-4bb8-8cc7-21ff311554f7",
   "metadata": {},
   "source": [
    "___MODULES:___ \n",
    "- Highest Org structure and code reuse\n",
    "- In short, modules provide an easy way to organize components into a system by serving\n",
    "  as self-contained packages of variables known as namespaces."
   ]
  },
  {
   "cell_type": "code",
   "execution_count": null,
   "id": "55808d80-6862-4f59-8f34-77a1d2f063b5",
   "metadata": {},
   "outputs": [],
   "source": [
    "''' A module file morphs into a object when is called in another module. \n",
    "    The dunctions become attributes of the imported module\n",
    "    Main uses:\n",
    "    * Code reuse: it can be reloaded as many times as needed\n",
    "    * System name space partioning: doesn't clash with your code, unless you decide it!\n",
    "    * Implementing shared services or data: a code in a module can by imported by many clients'''\n",
    "\n",
    "#How to structure a program:\n",
    "'''First, top level file (a.k.a script) that controls the flow of your program\n",
    "    this is the file use to run your application.\n",
    "    Then, the modules used by your program to call externbal variables: object pointers\n",
    "    '''\n",
    "#ej:\n",
    "def spam(text): # File b.py --> first file\n",
    "    print(text, 'spam')\n",
    "\n",
    "# Now in a.py:\n",
    "\n",
    "import b # File a.py ->Load the file b.py (unless it’s already loaded), and give me access to all its attributes through the name b.\n",
    "b.spam('gumby') # Prints \"gumby spam\" -> uses b.py def fnction # Fetch the value of the name spam that lives within the object b.\n",
    "# b becomes a a variable which contains the loaded module\n",
    "# b is created at runtime: b is run when is imported.\n",
    "'''Python code architecture: object.attribute -> . operator fetches attributes of objects throughout python'''"
   ]
  },
  {
   "cell_type": "markdown",
   "id": "16a6a80c-68b4-4f8f-9c62-6f93c98ede83",
   "metadata": {},
   "source": [
    "__Standard Library Modules__\n",
    "- Python default collection of module --> over 200!! e.g., timeit,sys,os,etc"
   ]
  },
  {
   "cell_type": "markdown",
   "id": "50bf4e81-114f-44d0-b8ff-4263153fe8e0",
   "metadata": {},
   "source": [
    "__How import works__"
   ]
  },
  {
   "cell_type": "code",
   "execution_count": null,
   "id": "d39f92a3-55a1-4816-b6cf-4bfc214c7d06",
   "metadata": {},
   "outputs": [],
   "source": [
    "'''Import is not te inseretion of one text into another (like #include of C),\n",
    " is a real run time operation of that file!! it means : 1. find the file, complie the file into bytes, and run the file to buil objects\n",
    " By checking sys.modules you can see what modules are already fetched-> list(sys.modules.keys())'''\n",
    "\n",
    " #1.FIND\n",
    "    '''python look for the module without \".py\" extension. Also you don have to put the path(C://asf//..etc).\n",
    "    Python uses a standard module search path '''\n",
    "\n",
    "#2. COMPILE (MAYBE):\n",
    "    '''Compile: If the byte code file is older than the source file (i.e., if you’ve changed the source)\n",
    "        or was created by a different Python version, Python automatically regenerates the\n",
    "        byte code when the program is run.''' #Byte codes file are in __pycache__ folder\n",
    "    \n",
    "    '''Don’t compile: If, on the other hand, Python finds a .pyc byte code file that is not older than the\n",
    "        corresponding .py source file and was created by the same Python version, it skips\n",
    "        the source-to-byte-code compile step.'''\n",
    "    \n",
    "# RUN IT:\n",
    "    '''The final step of an import operation executes the byte code of the module\n",
    "        All statements in the file are run in turn, from top to bottom, and any assignments made to\n",
    "        names during this step generate attributes of the resulting module object.'''\n",
    "        # If any module does real work, python executes it at importation!! --> be carefull\n",
    "        \n",
    "# Because of the the huge process, each module is only once imported despite you call it again further in the code.However,\n",
    "# you can use imp.relad call to redo the process again with a imported module (in case is needed)\n",
    "\n",
    "    "
   ]
  },
  {
   "cell_type": "markdown",
   "id": "e6f1cde0-7004-4458-821e-53eab019f8c6",
   "metadata": {},
   "source": [
    "__Byte Code Files: __ __pycache__ __ in Python 3.2+__"
   ]
  },
  {
   "cell_type": "code",
   "execution_count": null,
   "id": "dcea0b1b-d040-4889-8515-55edf20b1e92",
   "metadata": {},
   "outputs": [],
   "source": [
    "'''Byte code is instead stored in files in a subdirectory named __pycache__.\n",
    "   This helps avoid clutter in your source directories by segregating\n",
    "   the byte code files in their own directory.\n",
    "   \n",
    "   Python always recreates the byte code file if you’ve changed the source\n",
    "   code file since the last compile, but version differences are handled differently—by\n",
    "   magic numbers and replacement prior to 3.2, and by filenames that allow for multiple\n",
    "   copies in 3.2 and later\n",
    "   \n",
    "   Faster startup runtimes due to fewer compiles'''\n",
    "\n",
    "\n"
   ]
  },
  {
   "cell_type": "markdown",
   "id": "16a5f0c9-f846-40d6-a016-76f440e60264",
   "metadata": {},
   "source": [
    "__The Module Search Path__"
   ]
  },
  {
   "cell_type": "code",
   "execution_count": null,
   "id": "422181b4-7e02-4f2b-a7eb-4f1eac5a2de7",
   "metadata": {},
   "outputs": [],
   "source": [
    "''' 1. The home directory of the program\n",
    "    2. PYTHONPATH directories (if set)\n",
    "    3. Standard library directories\n",
    "    4. The contents of any .pth files (if present)\n",
    "    5. The site-packages home of third-party extensions'''\n",
    "    \n",
    "# Home directory (automatic)\n",
    "'''Python first looks for the imported file in the home directory. The meaning of this\n",
    "    entry depends on how you are running the code. When you’re running a program,\n",
    "    this entry is the directory containing your program’s top-level script file.\n",
    "    When you’re working interactively, this entry is the directory in which you are\n",
    "    working (i.e., the current working directory).'''\n",
    "#PYTHONPATH directories (configurable)\n",
    "'''Next, Python searches all directories listed in your PYTHONPATH environment variable\n",
    "    setting, from left to right (assuming you have set this at all: it’s not preset for\n",
    "    you). In brief, PYTHONPATH is simply a list of user-defined and platform-specific\n",
    "    names of directories that contain Python code files. You can add all the directories\n",
    "    from which you wish to be able to import, and Python will extend the module\n",
    "    search path to include all the directories your PYTHONPATH lists.'''\n",
    "#Standard library directories (automatic)\n",
    "'''Next, Python automatically searches the directories where the standard library\n",
    "    modules are installed on your machine. Because these are always searched, they\n",
    "    normally do not need to be added to your PYTHONPATH or included in path files\n",
    "    (discussed next).'''\n",
    "#.pth path file directories (configurable)\n",
    "'''Next, a lesser-used feature of Python allows users to add directories to the module\n",
    "    search path by simply listing them, one per line, in a text file whose name ends\n",
    "    with a .pth suffix (for “path”). These path configuration files are a somewhat advanced\n",
    "    installation-related feature; we won’t cover them fully here, but they provide\n",
    "    an alternative to PYTHONPATH settings.\n",
    "      In short, text files of directory names dropped in an appropriate directory can serve\n",
    "    roughly the same role as the PYTHONPATH environment variable setting. For instance,\n",
    "    if you’re running Windows and Python 3.3, a file named myconfig.pth may be\n",
    "    placed at the top level of the Python install directory (C:\\Python33) or in the sitepackages\n",
    "    subdirectory of the standard library there (C:\\Python33\\Lib\\site-packages)\n",
    "    to extend the module search path. On Unix-like systems, this file might be\n",
    "    located in usr/local/lib/python3.3/site-packages or /usr/local/lib/site-python instead.\n",
    "    CONSULT the standard library site for more documentation about it'''\n",
    "#The Lib\\site-packages directory of third-party extensions (automatic)\n",
    "'''Finally, Python automatically adds the site-packages subdirectory of its standard\n",
    "    library to the module search path. By convention, this is the place that most thirdparty\n",
    "    extensions are installed, often automatically by the distutils utility described\n",
    "    in an upcoming sidebar. Because their install directory is always part of the\n",
    "    module search path, clients can import the modules of such extensions without\n",
    "    any path settings.'''"
   ]
  },
  {
   "cell_type": "markdown",
   "id": "adbe5799-9ac5-47d1-927e-0e675231a432",
   "metadata": {},
   "source": [
    "__Configuring search path__"
   ]
  },
  {
   "cell_type": "code",
   "execution_count": null,
   "id": "b8f4f299-2102-4247-86a1-5f42f38dac02",
   "metadata": {},
   "outputs": [],
   "source": [
    "# using control panel to change PYTHONPATH. e.g, c:\\pycode\\utilities;d:\\pycode\\package1 --> two different paths separated by semicolon\n",
    "#Or you might instead create a text file called C:\\Python33\\pydirs.pth, which looks like this:\n",
    "c:\\pycode\\utilities\n",
    "d:\\pycode\\package1\n",
    "'''See Appendix A for pointers on extending your module\n",
    "    search path with PYTHONPATH or .pth files on various platforms.'''\n",
    "# Remember to always inspect sys.path too se where are you working at:\n",
    "'''in this list, you can find each directory in which python look for codes to be executed\n",
    "   All in all, is the merge of the previos 4 out of 5 points.\n",
    "   sys.path list could be changed (cann add o delete directories) but last until the program is run (single use).Contrary to\n",
    "   changes in PYTHONPATH and .pth files'''\n",
    "# why do we care about importing without .py? because python not only import the main file:\n",
    "'''For example, an import statement of the form import b might today load or resolve to:\n",
    "        • A source code file named b.py\n",
    "        • A byte code file named b.pyc\n",
    "        • An optimized byte code file named b.pyo (a less common format)\n",
    "        • A directory named b, for package imports (described in Chapter 24)\n",
    "        • A compiled extension module, coded in C, C++, or another language, and dynamically\n",
    "        linked when imported (e.g., b.so on Linux, or b.dll or b.pyd on Cygwin\n",
    "        and Windows)\n",
    "        • A compiled built-in module coded in C and statically linked into Python\n",
    "        • A ZIP file component that is automatically extracted when imported\n",
    "        • An in-memory image, for frozen executables\n",
    "        • A Java class, in the Jython version of Python\n",
    "        • A .NET component, in the IronPython version of Python'''\n"
   ]
  },
  {
   "cell_type": "code",
   "execution_count": null,
   "id": "073698d3-cab1-4386-b298-016877018616",
   "metadata": {},
   "outputs": [],
   "source": []
  },
  {
   "cell_type": "code",
   "execution_count": null,
   "id": "5b02a54e-cbbf-43f8-9543-8ca2e1082534",
   "metadata": {},
   "outputs": [],
   "source": []
  },
  {
   "cell_type": "code",
   "execution_count": null,
   "id": "167bed20-da7a-42fb-af73-756742083474",
   "metadata": {},
   "outputs": [],
   "source": []
  },
  {
   "cell_type": "code",
   "execution_count": null,
   "id": "b891b30e-b36d-4ea1-a25b-b2257fd2ac15",
   "metadata": {},
   "outputs": [],
   "source": []
  },
  {
   "cell_type": "code",
   "execution_count": null,
   "id": "868baab6-a651-4ee5-9ceb-4a5353148052",
   "metadata": {},
   "outputs": [],
   "source": []
  },
  {
   "cell_type": "code",
   "execution_count": null,
   "id": "70a109d5-0f59-48b9-b6f9-04220e9a2cb0",
   "metadata": {},
   "outputs": [],
   "source": []
  }
 ],
 "metadata": {
  "kernelspec": {
   "display_name": "Python 3",
   "language": "python",
   "name": "python3"
  },
  "language_info": {
   "codemirror_mode": {
    "name": "ipython",
    "version": 3
   },
   "file_extension": ".py",
   "mimetype": "text/x-python",
   "name": "python",
   "nbconvert_exporter": "python",
   "pygments_lexer": "ipython3",
   "version": "3.8.8"
  }
 },
 "nbformat": 4,
 "nbformat_minor": 5
}
