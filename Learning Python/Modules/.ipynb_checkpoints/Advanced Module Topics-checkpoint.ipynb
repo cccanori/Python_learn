{
 "cells": [
  {
   "cell_type": "markdown",
   "id": "89f2bbbf-6dbe-490f-8cb7-73aaaabc79ba",
   "metadata": {},
   "source": [
    "___Advanced Module Topics___"
   ]
  },
  {
   "cell_type": "markdown",
   "id": "a3d893ad-a6c2-41d7-b32d-4118a5faf65f",
   "metadata": {},
   "source": [
    "__Module Design Concepts__"
   ]
  },
  {
   "cell_type": "code",
   "execution_count": null,
   "id": "dc24a01f-3ce5-4e03-87cd-98a52ae95ca8",
   "metadata": {},
   "outputs": [],
   "source": [
    "''' *  You’re always in a module in Python. There’s no way to write code that doesn’t\n",
    "      live in some module.\n",
    "    * Minimize module coupling: global variables. Like functions, modules work\n",
    "      best if they’re written to be closed boxes. As a rule of thumb, they should be as\n",
    "      independent of global variables used within other modules as possible.\n",
    "    * Maximize module cohesion: unified purpose\n",
    "    * Modules should rarely change other modules’ variables'''"
   ]
  },
  {
   "cell_type": "markdown",
   "id": "23f8835a-d24a-42ba-8534-f1b9374aa878",
   "metadata": {},
   "source": [
    "Minimizing from * Damage: _ X _ and __ all __"
   ]
  },
  {
   "cell_type": "code",
   "execution_count": null,
   "id": "f323d2a2-d705-4fa9-86d8-ed1febf6e5df",
   "metadata": {},
   "outputs": [],
   "source": [
    "'''you can set variable like '_X' in you module  to avoid that they are red by an importin the form module import * :'''\n",
    "#unders.py file:\n",
    "a,a_,b,b_ = 1,2,3,4\n",
    "\n",
    "#then by importing unders.py:\n",
    ">>> from unders import * # Load non _X names only\n",
    ">>> a, c\n",
    "(1, 3)\n",
    ">>> _b\n",
    "NameError: name '_b' is not defined\n",
    ">>> import unders # But other importers get every name --> as an attribute it continues working\n",
    ">>> unders._b\n",
    "2\n",
    "\n",
    "''' A similar effect could be reached by assigning a list __all__ in the module:\n",
    "    only those variables within this list are copied in a from* module import'''\n",
    "\n",
    "# module alls.py\n",
    "__all__ = ['a', '_c'] # __all__ has precedence over _X\n",
    "a, b, _c, _d = 1, 2, 3, 4\n",
    "# Importing the module\n",
    ">>> from alls import * # Load __all__ names only\n",
    ">>> a, _c\n",
    "(1, 3)\n",
    ">>> b #b wasn't copied because it didn't appear in __all__ list\n",
    "NameError: name 'b' is not defined \n",
    "\n",
    ">>> from alls import a, b, _c, _d # But other importers get every name\n",
    ">>> a, b, _c, _d\n",
    "(1, 2, 3, 4)\n",
    ">>> import alls\n",
    ">>> alls.a, alls.b, alls._c, alls._d\n",
    "(1, 2, 3, 4)"
   ]
  },
  {
   "cell_type": "markdown",
   "id": "a30aec17-be8e-4902-b090-c3166c04c501",
   "metadata": {},
   "source": [
    "Enabling Future Language Features: __ future __"
   ]
  },
  {
   "cell_type": "code",
   "execution_count": null,
   "id": "cd88b456-5fbb-4d4a-9347-9d23fc199ee9",
   "metadata": {},
   "outputs": [],
   "source": [
    "from __future__ import featurename # eneables you to use advanced python version functions, attributes, etc.\n",
    "# you can use dir(featurename) to see what can you do (attributes the module object has)"
   ]
  },
  {
   "cell_type": "markdown",
   "id": "0db50f88-21c4-4bd7-8c36-6ad2b460df5d",
   "metadata": {},
   "source": [
    "Mixed Usage Modes: __ name __ and __ main __"
   ]
  },
  {
   "cell_type": "code",
   "execution_count": null,
   "id": "aeb2454b-80de-4469-ac65-c2adbe110a20",
   "metadata": {},
   "outputs": [],
   "source": [
    "'''each module has a built-in attribute called __name__, which\n",
    "   Python creates and assigns automatically as follows:\n",
    "   • If the file is being run as a top-level program file, __name__ is set to the string\n",
    "     \"__main__\" when it starts.\n",
    "   • If the file is being imported instead, __name__ is set to the module’s name as known\n",
    "     by its clients.'''\n",
    "'''The upshot is that a module can test its own __name__ to determine whether it’s being\n",
    "   run or imported.'''\n",
    "# example runme.py:\n",
    "def tester():\n",
    "    print(\"It's Christmas in Heaven...\")\n",
    "\n",
    "if __name__ == '__main__': # Only when run\n",
    "    tester() # Not when imported\n",
    "    \n",
    "# Then calling it from another module:\n",
    "c:\\code> python\n",
    ">>> import runme # the tester() didn't run automatically cause __name__ is different to __main__ -> dut to the fact that is imported\n",
    ">>> runme.tester()\n",
    "It's Christmas in Heaven...\n",
    "\n",
    "# but running the module itself: Now __name__=__main__ \n",
    "c:\\code> python runme.py\n",
    "It's Christmas in Heaven... \n",
    "# this is the common way to perform unit-testing protocol in python.\n"
   ]
  },
  {
   "cell_type": "markdown",
   "id": "463a31c6-c79f-44e6-a3c0-405754de8bbf",
   "metadata": {},
   "source": [
    "Unit Tests with __ name __"
   ]
  },
  {
   "cell_type": "code",
   "execution_count": null,
   "id": "4b12b89f-ca74-4631-8304-b890bb2b7a95",
   "metadata": {},
   "outputs": [],
   "source": [
    "# minmax.py:\n",
    "def minmax(test, *args):\n",
    "    res = args[0]\n",
    "    for arg in args[1:]:\n",
    "        if test(arg, res):\n",
    "            res = arg\n",
    "    return res\n",
    "def lessthan(x, y): return x < y\n",
    "def grtrthan(x, y): return x > y\n",
    "\n",
    "print(minmax(lessthan, 4, 2, 1, 5, 6, 3)) # Self-test code\n",
    "print(minmax(grtrthan, 4, 2, 1, 5, 6, 3))\n",
    "\n",
    "'''The problem with the way it is currently coded, however, is that the output of the self-test call will\n",
    "appear every time this file is imported from another file to be used as a tool—not exactly\n",
    "a user-friendly feature!'''\n",
    "# solution: use __name__ test\n",
    "\n",
    "print('I am:', __name__)\n",
    "def minmax(test, *args):\n",
    "    res = args[0]\n",
    "    for arg in args[1:]:\n",
    "        if test(arg, res):\n",
    "        res = arg\n",
    "    return res\n",
    "\n",
    "def lessthan(x, y): return x < y\n",
    "def grtrthan(x, y): return x > y\n",
    "\n",
    "if __name__ == '__main__': # onlu executes this part when the module is ran a main script\n",
    "    print(minmax(lessthan, 4, 2, 1, 5, 6, 3)) # Self-test code\n",
    "    print(minmax(grtrthan, 4, 2, 1, 5, 6, 3))\n",
    "    \n",
    "# So:\n",
    "c:\\code> python minmax2.py #running it as a main code (top-level script)\n",
    "I am: __main__ # main is turned on\n",
    "1\n",
    "6\n",
    "\n",
    "c:\\code> python\n",
    ">>> import minmax2 # importing it as a module\n",
    "I am: minmax2 # __main__ is not present\n",
    ">>> minmax2.minmax(minmax2.lessthan, 's', 'p', 'a', 'a')\n",
    "'a'\n",
    "\n",
    "'''The result is that we can use the script in two different roles: as a library or an executable program '''"
   ]
  },
  {
   "cell_type": "code",
   "execution_count": null,
   "id": "aba01b0c-3d52-4f29-b9e1-6e5a156b39c8",
   "metadata": {},
   "outputs": [],
   "source": [
    "# How to acced to a module documentation?:\n",
    "\n",
    ">>> import formats\n",
    ">>> help(formats)\n",
    "Help on module formats:\n",
    "NAME\n",
    "    formats\n",
    "\n",
    "DESCRIPTION\n",
    "    File: formats.py (2.X and 3.X)\n",
    "    Various specialized string display formatting utilities.\n",
    "    Test me with canned self-test or command-line arguments.\n",
    "    To do: add parens for negative money, add more features.\n",
    "FUNCTIONS\n",
    "    commas(N)\n",
    "        Format positive integer-like N for display with\n",
    "        commas between digit groupings: \"xxx,yyy,zzz\".\n",
    "    money(N, numwidth=0, currency='$')\n",
    "        Format number N for display with commas, 2 decimal digits,\n",
    "        leading $ and sign, and optional padding: \"$ -xxx,yyy.zz\".\n",
    "        numwidth=0 for no space padding, currency='' to omit symbol,\n",
    "        and non-ASCII for others (e.g., pound=u'£' or u'£').\n",
    "FILE\n",
    "c:\\code\\formats.py"
   ]
  },
  {
   "cell_type": "markdown",
   "id": "5893ed8c-bc16-492f-ba6e-14739d5a9a32",
   "metadata": {},
   "source": [
    "__Changing the Module Search Path__"
   ]
  },
  {
   "cell_type": "code",
   "execution_count": null,
   "id": "fbef19f4-0584-4376-a8e0-b6e6152d2281",
   "metadata": {},
   "outputs": [],
   "source": [
    "'''Python program itself can actually change the search path by changing the built-in sys.path list.'''\n",
    ">>> import sys\n",
    ">>> sys.path\n",
    "['', 'c:\\\\temp', 'C:\\\\Windows\\\\system32\\\\python33.zip', ...more deleted...]\n",
    ">>> sys.path.append('C:\\\\sourcedir') # Extend module search path --> instead of configuring it with a GUI\n",
    ">>> import string # All imports search the new dir last\n",
    "\n",
    "'''sys.path settings endure for only as long as the Python session\n",
    "   or program (technically, process) that made them runs; they are not retained after\n",
    "   Python exits.''' # --> Per user\n",
    "''' By contrast, PYTHONPATH and .pth file path configurations live in the operating\n",
    "    system instead of a running Python program, and so are more global: they are\n",
    "    picked up by every program on your machine and live on after a program completes.'''# per installation"
   ]
  },
  {
   "cell_type": "markdown",
   "id": "16994104-bd9c-4802-901f-b77f3f57922f",
   "metadata": {},
   "source": [
    "__The as Extension for import and from__"
   ]
  },
  {
   "cell_type": "code",
   "execution_count": null,
   "id": "156de467-7369-4fee-a699-1d1545ccc048",
   "metadata": {},
   "outputs": [],
   "source": [
    "import modulename as name # And use name, not modulename\n",
    "\n",
    "#is equivalent to:\n",
    "import modulename\n",
    "name = modulename\n",
    "del modulename # Don't keep original name\n",
    "\n",
    "# using from:\n",
    "from modulename import attrname as name # And use name, not attrname\n",
    "\n",
    "#reduces long modules names:\n",
    "import reallylongmodulename as name # Use shorter nickname\n",
    "name.func()\n",
    "\n",
    "#avoid chlashes between variable names in modules:\n",
    "from module1 import utility as util1 # Can have only 1 \"utility\"\n",
    "from module2 import utility as util2\n",
    "util1(); util2()\n",
    "\n",
    "# comes in handy for providing shorcut names to package imports:\n",
    "\n",
    "import dir1.dir2.mod as mod # Only list full path once\n",
    "mod.func()\n",
    "\n",
    "from dir1.dir2.mod import func as modfunc # Rename to make unique if needed\n",
    "modfunc()"
   ]
  },
  {
   "cell_type": "markdown",
   "id": "b32df295-ad0d-453f-bfe9-19870fb508ce",
   "metadata": {},
   "source": [
    "__Importing Modules by Name String__"
   ]
  },
  {
   "cell_type": "code",
   "execution_count": null,
   "id": "049b26e1-292c-4f3a-8afe-4429b6f9ae4c",
   "metadata": {},
   "outputs": [],
   "source": [
    "'''Normally, python evaluates the importing of a module as a variable name, not as a \"string\" '''\n",
    ">>> import 'string'\n",
    "\n",
    "File \"<stdin>\", line 1\n",
    "import \"string\"\n",
    "SyntaxError: invalid syntax\n",
    "    \n",
    "# if you try x = 'string', Python will try to find the module x.py --> is worthless\n",
    "\n",
    "#solution 1 : construct the string to import ann execute it:\n",
    ">>> modname = 'string'\n",
    ">>> exec('import ' + modname) # Run a string of code\n",
    ">>> string # Imported in this namespace\n",
    "<module 'string' from 'C:\\\\Python33\\\\lib\\\\string.py'>\n",
    "\n",
    "# SOlution 2: use __import__ function\n",
    ">>> modname = 'string'\n",
    ">>> string = __import__(modname)\n",
    ">>> string\n",
    "<module 'string' from 'C:\\\\Python33\\\\lib\\\\string.py'>\n",
    "\n",
    "# or(in the same fashion):\n",
    ">>> import importlib\n",
    ">>> modname = 'string'\n",
    ">>> string = importlib.import_module(modname)\n",
    ">>> string\n",
    "<module 'string'\n",
    "\n"
   ]
  },
  {
   "cell_type": "code",
   "execution_count": null,
   "id": "1dbb74bc-d5cd-465a-8d24-2c62f91f5756",
   "metadata": {},
   "outputs": [],
   "source": [
    "# remember that reload call only reaload modules at top level: not modules nested in the modules\n",
    "\n",
    "# normal reload:\n",
    "'''Simple reload'''\n",
    "X = 1\n",
    "import c # File b.py\n",
    "Y = 2\n",
    "Z = 3 # File c.py\n",
    "C:\\code> py −3\n",
    ">>> import a\n",
    ">>> a.X, a.b.Y, a.b.c.Z\n",
    "(1, 2, 3)\n",
    "'''Without stopping Python, change all three files' assignment values and save'''\n",
    ">>> from imp import reload\n",
    ">>> reload(a) # Built-in reload is top level only\n",
    "<module 'a' from '.\\\\a.py'>\n",
    ">>> a.X, a.b.Y, a.b.c.Z\n",
    "(111, 2, 3) # only a module was reload.\n",
    "\n",
    ">>> from reloadall import reload_all # using a custom function for reloading (even nested modules)\n",
    ">>> reload_all(a) # Normal usage mode\n",
    "reloading a\n",
    "reloading b\n",
    "reloading c\n",
    ">>> a.X, a.b.Y, a.b.c.Z # Reloads all nested modules too\n",
    "(111, 222, 333) # update values\n"
   ]
  }
 ],
 "metadata": {
  "kernelspec": {
   "display_name": "Python 3",
   "language": "python",
   "name": "python3"
  },
  "language_info": {
   "codemirror_mode": {
    "name": "ipython",
    "version": 3
   },
   "file_extension": ".py",
   "mimetype": "text/x-python",
   "name": "python",
   "nbconvert_exporter": "python",
   "pygments_lexer": "ipython3",
   "version": "3.8.8"
  }
 },
 "nbformat": 4,
 "nbformat_minor": 5
}
