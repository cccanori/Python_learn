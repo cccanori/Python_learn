{
 "cells": [
  {
   "cell_type": "markdown",
   "id": "dacb7952-e81a-47a4-9469-7bae35cff8b0",
   "metadata": {},
   "source": [
    "__Module Name Clashes: Package and Package-Relative Imports__"
   ]
  },
  {
   "cell_type": "code",
   "execution_count": null,
   "id": "2f9e7986-5cac-4cdf-8a24-42460f252a11",
   "metadata": {},
   "outputs": [],
   "source": [
    "'''If you have two modules of the same name, you may only be able to import one of them\n",
    "   —by default, the one whose directory is leftmost in the sys.path module search path\n",
    "   will always be chosen.'''\n",
    "'''To fix, either avoid same-named files or use the package imports feature'''"
   ]
  },
  {
   "cell_type": "markdown",
   "id": "757f0dab-d485-4543-b490-8308ccf0dffb",
   "metadata": {},
   "source": [
    "__Statement Order Matters in Top-Level Code__"
   ]
  },
  {
   "cell_type": "code",
   "execution_count": null,
   "id": "240d1dcf-0610-4583-9fcc-6f387904c110",
   "metadata": {},
   "outputs": [],
   "source": [
    "'''As we’ve seen, when a module is first imported (or reloaded), Python executes its\n",
    "   statements one by one, from the top of the file to the bottom.'''\n",
    "\n",
    "#Assuming this is a module to be imported\n",
    "func1() # Error: \"func1\" not yet assigned\n",
    "def func1():\n",
    "    print(func2()) # OK: \"func2\" looked up later\n",
    "func1() # Error: \"func2\" not yet assigned\n",
    "def func2():\n",
    "    return \"Hello\"\n",
    "func1() # OK: \"func1\" and \"func2\" assigned\n",
    "\n",
    "# Mixing defs and calls is a mistake: put defs at the top and calls at the bottom !! "
   ]
  },
  {
   "cell_type": "markdown",
   "id": "78ff6024-4322-4468-a777-4a342975a985",
   "metadata": {},
   "source": [
    "__from Copies Names but Doesn’t Link__"
   ]
  },
  {
   "cell_type": "code",
   "execution_count": null,
   "id": "091f9368-8cc4-4748-a31b-9b047c65d150",
   "metadata": {},
   "outputs": [],
   "source": [
    "'''Although it’s commonly used, the from statement is the source of a variety of potential\n",
    "gotchas in Python. As we’ve learned, the from statement is really an assignment to names\n",
    "in the importer’s scope—a name-copy operation, not a name aliasing'''\n",
    "\n",
    "# nested1.py\n",
    "X = 99\n",
    "def printer(): print(X)\n",
    "\n",
    "# nested2.py\n",
    "from nested1 import X, printer # Copy names out\n",
    "X = 88 # Changes my \"X\" only! --> but nested1's X does not change \n",
    "printer() # nested1's X is still 99\n",
    "\n",
    "99\n",
    "\n",
    "# nested3.py --> solution\n",
    "import nested1 # Get module as a whole\n",
    "nested1.X = 88 # OK: change nested1's X\n",
    "nested1.printer()\n",
    "% python nested3.py\n",
    "88"
   ]
  },
  {
   "cell_type": "markdown",
   "id": "3d08e8e5-2fac-4c51-bdbb-806649c0dca6",
   "metadata": {},
   "source": [
    "__from * Can Obscure the Meaning of Variables__"
   ]
  },
  {
   "cell_type": "markdown",
   "id": "7364e99c-0bcb-4272-88d4-e67e0c93585d",
   "metadata": {},
   "source": [
    "'''I mentioned this earlier but saved the details for here. Because you don’t list the variables\n",
    "you want when using the from module import * statement form, it can accidentally\n",
    "overwrite names you’re already using in your scope. Worse, it can make it difficult to\n",
    "determine where a variable comes from. This is especially true if the from * form is used\n",
    "on more than one imported file.'''\n",
    "\n",
    "'''The solution again is not to do this: try to explicitly list the attributes you want in your\n",
    "from statements, and restrict the from * form to at most one imported module per file.'''\n"
   ]
  },
  {
   "cell_type": "markdown",
   "id": "ef1cc452-2819-4b7e-8c07-631029f8444b",
   "metadata": {},
   "source": [
    "___reload May Not Impact from Imports___"
   ]
  },
  {
   "cell_type": "code",
   "execution_count": null,
   "id": "e2abd2ae-e21c-444b-a3e4-04bbf5857a56",
   "metadata": {},
   "outputs": [],
   "source": [
    "'''reloading the importee has no effect on clients that import its\n",
    "names using from. That is, the client’s names will still reference the original objects\n",
    "fetched with from, even if the names in the original module are later reset:'''\n",
    "\n",
    "from module import X # X may not reflect any module reloads!\n",
    ". . .\n",
    "from imp import reload\n",
    "reload(module) # Changes module, but not my names\n",
    "X # Still references old object\n",
    "\n",
    "'''To make reloads more effective, use import and name qualification instead of from.'''\n",
    "import module # Get module, not names\n",
    ". . .\n",
    "from imp import reload\n",
    "reload(module) # Changes module in place\n",
    "module.X # Get current X: reflects module reloads"
   ]
  },
  {
   "cell_type": "markdown",
   "id": "696bc7ee-6042-4f71-b7cb-533dbbc51d97",
   "metadata": {},
   "source": [
    "__Don't use reload with from__"
   ]
  },
  {
   "cell_type": "code",
   "execution_count": null,
   "id": "80c4e815-d9f3-45a8-9cf5-be4589800806",
   "metadata": {},
   "outputs": [],
   "source": [
    "'''The short story is that you should not expect reload and from to play together nicely.\n",
    "   Again, the best policy is not to combine them at all—use reload with import, or launch\n",
    "   your programs other ways'''"
   ]
  },
  {
   "cell_type": "markdown",
   "id": "8465e778-70d8-46e7-97d7-005002bf735a",
   "metadata": {},
   "source": [
    "__Recursive from Imports May Not Work__"
   ]
  },
  {
   "cell_type": "code",
   "execution_count": null,
   "id": "afef9201-81ce-4710-8bd3-20be05cb7aa5",
   "metadata": {},
   "outputs": [],
   "source": [
    "'''Because imports execute a file’s statements from top to bottom, you need to be careful when using\n",
    "   modules that import each other ---> RECURSIVE IMPORTS'''\n",
    "# recur1.py\n",
    "X = 1\n",
    "import recur2 # Run recur2 now if it doesn't exist\n",
    "Y = 2\n",
    "\n",
    "# recur2.py\n",
    "from recur1 import X # OK: \"X\" already assigned\n",
    "from recur1 import Y # Error: \"Y\" not yet assigned\n",
    "\n",
    "C:\\code> py −3\n",
    ">>> import recur1 # ran from recur2 !\n",
    "Traceback (most recent call last): # Python avoids a infinite loop and rises an error\n",
    "File \"<stdin>\", line 1, in <module>\n",
    "File \".\\recur1.py\", line 2, in <module>\n",
    "import recur2\n",
    "File \".\\recur2.py\", line 2, in <module>\n",
    "from recur1 import Y\n",
    "ImportError: cannot import name Y"
   ]
  },
  {
   "cell_type": "code",
   "execution_count": null,
   "id": "077ef7d2-cdb3-4ec3-82b0-3acf62e84412",
   "metadata": {},
   "outputs": [],
   "source": []
  },
  {
   "cell_type": "code",
   "execution_count": null,
   "id": "83310989-4688-4db4-bfb7-cfe89762b8df",
   "metadata": {},
   "outputs": [],
   "source": []
  },
  {
   "cell_type": "code",
   "execution_count": null,
   "id": "7bf68e93-8052-4947-9de9-056c26bb1b72",
   "metadata": {},
   "outputs": [],
   "source": []
  }
 ],
 "metadata": {
  "kernelspec": {
   "display_name": "Python 3",
   "language": "python",
   "name": "python3"
  },
  "language_info": {
   "codemirror_mode": {
    "name": "ipython",
    "version": 3
   },
   "file_extension": ".py",
   "mimetype": "text/x-python",
   "name": "python",
   "nbconvert_exporter": "python",
   "pygments_lexer": "ipython3",
   "version": "3.8.8"
  }
 },
 "nbformat": 4,
 "nbformat_minor": 5
}
