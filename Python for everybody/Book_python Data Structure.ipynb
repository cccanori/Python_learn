{
 "cells": [
  {
   "cell_type": "code",
   "execution_count": 11,
   "id": "f71718b8-f803-46dd-8fab-55832cdd1f52",
   "metadata": {},
   "outputs": [
    {
     "data": {
      "text/plain": [
       "(float, int, str, bool)"
      ]
     },
     "execution_count": 11,
     "metadata": {},
     "output_type": "execute_result"
    }
   ],
   "source": [
    "(type(1.7),type(17),type(\"17\"),type(True))  # there are three types: int,str, bool, and float"
   ]
  },
  {
   "cell_type": "markdown",
   "id": "5ede7843-60fa-4d56-b4f5-216bcd8b0f05",
   "metadata": {},
   "source": [
    "Some variables rules: *Cannot start with a number\\\n",
    "                      *try to start them with a capital letter (good practice)\\\n",
    "                      *start with _ when coding a library function for others\\\n",
    "                      *Avoid using any of the 35 python's reserved keywords."
   ]
  },
  {
   "cell_type": "code",
   "execution_count": 19,
   "id": "9c306cdc-f122-468b-890d-b512ee56ea3f",
   "metadata": {},
   "outputs": [
    {
     "name": "stdout",
     "output_type": "stream",
     "text": [
      "5 1 6 1.5 1 9 1\n"
     ]
    }
   ],
   "source": [
    "print(3+2,3-2,3*2,3/2,3//2,3**2,3%2) #add,substract,multiply,divide(float),divide(int part),exponential, remainder of divition \n",
    "# order of presedence: 1.Parenthesis(),2.exponent,3.mult and division, and 4. add and subs. From left to right when equal\n",
    "# modulus operand (%) is freat to reduce zeros!!"
   ]
  },
  {
   "cell_type": "code",
   "execution_count": 26,
   "id": "1cf6f8ea-1056-4d15-a056-b3fcada20ace",
   "metadata": {},
   "outputs": [
    {
     "name": "stdout",
     "output_type": "stream",
     "text": [
      "3test , test test test \n",
      "Christian\n",
      "Cano\n"
     ]
    }
   ],
   "source": [
    "print(\"3\"+\"test\",\",\",3*\"test \") # String most important operators\n",
    "print(\"Christian\\nCano\") #\\n puts a new line "
   ]
  },
  {
   "cell_type": "code",
   "execution_count": 45,
   "id": "e56bc3a4-8006-48ba-89f5-519c4b8eccc5",
   "metadata": {},
   "outputs": [
    {
     "name": "stdin",
     "output_type": "stream",
     "text": [
      "enter your name:  Christian\n"
     ]
    },
    {
     "name": "stdout",
     "output_type": "stream",
     "text": [
      "Hello Christian\n"
     ]
    },
    {
     "name": "stdin",
     "output_type": "stream",
     "text": [
      "Enter hours:  45\n",
      "Enter rate:  36.98\n"
     ]
    },
    {
     "name": "stdout",
     "output_type": "stream",
     "text": [
      "1664.1\n"
     ]
    },
    {
     "name": "stdin",
     "output_type": "stream",
     "text": [
      "Enter celsius temperature:  56\n"
     ]
    },
    {
     "name": "stdout",
     "output_type": "stream",
     "text": [
      "56.0 celsius grades are 132.8 farenheit degrees\n"
     ]
    }
   ],
   "source": [
    "# Exercises Chapter 2\n",
    "#1\n",
    "x = input(\"enter your name: \")\n",
    "print(\"Hello \"+x)\n",
    "#2\n",
    "y = float(input(\"Enter hours: \"))\n",
    "z = float(input(\"Enter rate: \"))\n",
    "print(round(y*z,2))\n",
    "#4\n",
    "Cel = float(input(\"Enter celsius temperature: \"))\n",
    "f = (Cel*(9/5))+32\n",
    "print(str(Cel)+\" celsius grades are \"+str(f)+\" farenheit degrees\")"
   ]
  },
  {
   "cell_type": "markdown",
   "id": "464f8b7d-7b7d-4577-8e7a-7d8e829ba75e",
   "metadata": {},
   "source": [
    "CHAPTER 3"
   ]
  },
  {
   "cell_type": "code",
   "execution_count": 58,
   "id": "aeaa9b9b-27f9-42ae-b42d-52c0464d52d8",
   "metadata": {},
   "outputs": [
    {
     "name": "stdout",
     "output_type": "stream",
     "text": [
      "True False True\n"
     ]
    }
   ],
   "source": [
    "print(5==5,5==6,not(5>6)) # == states a boolean operator (True or False)\n",
    "# == and !=, < and >, <= and >=, is and is not. The latter refers to type\n",
    "# remember to use and, or, and not operators. The latter is the contrary of true or false result.\n",
    "# any non-zero int or float is True"
   ]
  },
  {
   "cell_type": "markdown",
   "id": "bdf288e6-5d75-425d-b65c-d1307c19713a",
   "metadata": {
    "tags": []
   },
   "source": [
    "IF Statment"
   ]
  },
  {
   "cell_type": "code",
   "execution_count": 70,
   "id": "f641903c-5fa1-4aa6-8a07-5f67479f8a26",
   "metadata": {
    "tags": []
   },
   "outputs": [
    {
     "name": "stdout",
     "output_type": "stream",
     "text": [
      "2.073644135332772\n"
     ]
    }
   ],
   "source": [
    "x = 4.3                   \n",
    "if x > 4 and x!=1:      #Remember to put colon after. Remeber \"short-circuit effect\" (from left to rigth)-> Guardian pattern\n",
    "    print(x**(1/2))     # always intented block after if\n",
    "elif x < 4 or x==1:\n",
    "    print(\"no boy\")\n",
    "else:\n",
    "    if x>4:         # Nested if. Avoid them if you can.\n",
    "        pass        # Pass does nothing but maybe you wanto to code in a while"
   ]
  },
  {
   "cell_type": "markdown",
   "id": "6be872b2-cdc3-4022-85f3-dec3af07c83b",
   "metadata": {},
   "source": [
    "Try and Except (unexpected errors)"
   ]
  },
  {
   "cell_type": "code",
   "execution_count": 71,
   "id": "3d7ee03d-eb2e-4e07-82d4-81245632f398",
   "metadata": {},
   "outputs": [
    {
     "name": "stdout",
     "output_type": "stream",
     "text": [
      "please enter a number\n"
     ]
    }
   ],
   "source": [
    "y = \"fred\"\n",
    "try:\n",
    "    y**(1/2)\n",
    "except:                           ##appears when an occuer happens and pythons stops\n",
    "    print(\"please enter a number\") ## avoid the massage of error. It is skipped if there are no errors."
   ]
  },
  {
   "cell_type": "code",
   "execution_count": 80,
   "id": "2b773b2b-94ec-40c6-bb93-6a6ecbfb47d2",
   "metadata": {},
   "outputs": [
    {
     "name": "stdin",
     "output_type": "stream",
     "text": [
      "Enter hours:  56\n",
      "Enter rate:  2.6\n"
     ]
    },
    {
     "name": "stdout",
     "output_type": "stream",
     "text": [
      "218.4\n"
     ]
    },
    {
     "name": "stdin",
     "output_type": "stream",
     "text": [
      "Enter a score between 0.0 and 1.0:  0.3698\n"
     ]
    },
    {
     "name": "stdout",
     "output_type": "stream",
     "text": [
      "F\n"
     ]
    }
   ],
   "source": [
    "# Exercise Chapter 3\n",
    "#1 and 2\n",
    "try:\n",
    "    y = float(input(\"Enter hours: \"))\n",
    "    z = float(input(\"Enter rate: \"))\n",
    "    if y>40:\n",
    "        print(round(y*(z*1.5),2))\n",
    "    else:\n",
    "        print(round(y*(z),2))\n",
    "except:\n",
    "    print(\"Error, please enter numeric input\")\n",
    "#3\n",
    "l = float(input(\"Enter a score between 0.0 and 1.0: \"))\n",
    "if l > 1.0 or l < 0.0:\n",
    "    print(\"Error: score out of range\")\n",
    "elif l>= 0.9:\n",
    "    print(\"A\")\n",
    "elif l>= 0.8:\n",
    "    print(\"B\")\n",
    "elif l>= 0.7:\n",
    "    print(\"C\")\n",
    "elif l>= 0.6:\n",
    "    print(\"D\")\n",
    "elif l< 0.6:\n",
    "    print(\"F\")"
   ]
  },
  {
   "cell_type": "markdown",
   "id": "04336ca6-3a06-439d-8908-97c32321a411",
   "metadata": {},
   "source": [
    "FUNCTIONS"
   ]
  },
  {
   "cell_type": "code",
   "execution_count": 1,
   "id": "fc963d25-0d4d-4da8-93a2-10d5f79e3331",
   "metadata": {},
   "outputs": [],
   "source": [
    "# most popular buil-in functions: type,max,min,and len\n",
    "# conversion typoe: int(),float(),and str()"
   ]
  },
  {
   "cell_type": "code",
   "execution_count": 2,
   "id": "7ab97a6a-52ef-4d26-9865-7fa9c27de196",
   "metadata": {},
   "outputs": [
    {
     "name": "stdout",
     "output_type": "stream",
     "text": [
      "0.3236043187592832\n"
     ]
    }
   ],
   "source": [
    "import math # math library\n",
    "x = 6  \n",
    "rad = x/360*2*math.pi\n",
    "print(math.sqrt(rad))  # calle the library and then the librarie's function using a .\n"
   ]
  },
  {
   "cell_type": "code",
   "execution_count": 11,
   "id": "1defdb98-7320-485d-a53a-11f1303f175f",
   "metadata": {},
   "outputs": [
    {
     "name": "stdout",
     "output_type": "stream",
     "text": [
      "0.42948935556752244\n",
      "8\n",
      "3\n"
     ]
    }
   ],
   "source": [
    "import random    # library the generate random numbers\n",
    "print(random.random()) #produces floats between 0.0 and 1.0 but not 1.0\n",
    "print(random.randint(1,10)) # produces a rand int between a low and high range\n",
    "t =[1,2,3] \n",
    "print(random.choice(t)) # select a random element from a sequence\n"
   ]
  },
  {
   "cell_type": "code",
   "execution_count": 28,
   "id": "2e0ac4ca-0c83-4a05-a24f-87e3b8b36fec",
   "metadata": {},
   "outputs": [],
   "source": [
    "# New functions         # you create objects of type funtion---- remember the flow execution\n",
    "def your_name():        # empty brackets means a function without arguments\n",
    "    x=\"Christian\"\n",
    "    z = \" \"\n",
    "    y = \"Cano\"\n",
    "    return x+z+y   ## if you don't use return the result is None (another type of object) which a empty variable basically\n",
    "\n"
   ]
  },
  {
   "cell_type": "code",
   "execution_count": 44,
   "id": "c9136b6c-a640-433c-a340-12169ef1e1c5",
   "metadata": {},
   "outputs": [
    {
     "data": {
      "text/plain": [
       "399.9"
      ]
     },
     "execution_count": 44,
     "metadata": {},
     "output_type": "execute_result"
    }
   ],
   "source": [
    "# Excercise chapter 4\n",
    "def pay_comp(hours,rate):\n",
    "    try:\n",
    "        y = float(hours)\n",
    "        z = float(rate)\n",
    "        if y>40:\n",
    "            x=(round(y*(z*1.5),2))\n",
    "        else:\n",
    "            x=(round(y*(z),2))\n",
    "    except:\n",
    "        x=\"Error, please enter numeric input\"\n",
    "    return x\n",
    "x=pay_comp(39.99,10)\n",
    "x"
   ]
  },
  {
   "cell_type": "markdown",
   "id": "7db0e90c-1465-4a02-b601-bc9bc61e389f",
   "metadata": {},
   "source": [
    "ITERATIONS"
   ]
  },
  {
   "cell_type": "code",
   "execution_count": 49,
   "id": "34499d6f-6757-4360-b1c4-199f972917b1",
   "metadata": {},
   "outputs": [
    {
     "name": "stdout",
     "output_type": "stream",
     "text": [
      "5\n",
      "4\n",
      "3\n",
      "2\n",
      "1\n",
      "count finish\n"
     ]
    },
    {
     "name": "stdin",
     "output_type": "stream",
     "text": [
      "please write line:  #erd\n",
      "please write line:  erd\n"
     ]
    },
    {
     "name": "stdout",
     "output_type": "stream",
     "text": [
      "type the fucking line\n"
     ]
    },
    {
     "name": "stdin",
     "output_type": "stream",
     "text": [
      "please write line:  line\n"
     ]
    },
    {
     "name": "stdout",
     "output_type": "stream",
     "text": [
      "done!\n"
     ]
    }
   ],
   "source": [
    "n = 5         # setting a counting down using while (indefinite loop)\n",
    "while n > 0:  # evaluates the condition: True countinue the loop and in false it exits . Be carefull with infinite loops!\n",
    "    print(n)\n",
    "    n = n - 1  # only activated if while statment is true\n",
    "print(\"count finish\")\n",
    "\n",
    "while True:                               # using infinite loop in our favor\n",
    "    line = input(\"please write line: \")   \n",
    "    if line == \"line\":\n",
    "        break                           # break the infinite loop given a clause. Exit the loop\n",
    "    elif line[0] == \"#\":\n",
    "        continue                       # skip one iteration given a clause. In this case # would be a comment then there is no sense in printing it\n",
    "    print(\"type the fucking line\")     # comes back to the beginning of the loop\n",
    "print(\"done!\")\n",
    "\n"
   ]
  },
  {
   "cell_type": "code",
   "execution_count": 57,
   "id": "64f5a04a-f078-4b2c-84e3-3beeda087617",
   "metadata": {},
   "outputs": [
    {
     "name": "stdout",
     "output_type": "stream",
     "text": [
      "The number is 0\n",
      "The number is 1\n",
      "The number is 2\n",
      "The number is 3\n",
      "The number is 4\n",
      "Numer of iterations were:5\n",
      "The total sum is: 10\n"
     ]
    }
   ],
   "source": [
    "counter = 0                          #setting a counter\n",
    "add_ = 0                             # a accumulator\n",
    "for i in range(5):                   # setting a for iteration(finite loop)\n",
    "    print(\"The number is \"+str(i))\n",
    "    counter+= 1\n",
    "    add_+= i\n",
    "print(\"Numer of iterations were:\"+str(counter)+\"\\nThe total sum is: \"+str(add_))"
   ]
  },
  {
   "cell_type": "code",
   "execution_count": 2,
   "id": "6934e26a-309a-4fac-8970-9d07a60d6cfc",
   "metadata": {},
   "outputs": [
    {
     "name": "stdin",
     "output_type": "stream",
     "text": [
      "Enter a number: 45\n",
      "Enter a number: 2.36\n",
      "Enter a number: 88sdf\n"
     ]
    },
    {
     "name": "stdout",
     "output_type": "stream",
     "text": [
      "Enter a number!\n"
     ]
    },
    {
     "name": "stdin",
     "output_type": "stream",
     "text": [
      "Enter a number: 56.2587\n",
      "Enter a number: done\n"
     ]
    },
    {
     "name": "stdout",
     "output_type": "stream",
     "text": [
      "Total:103.61869999999999  Count:3 Avg:34.54 Max:56.2587 Min:2.36\n",
      "Good job\n"
     ]
    }
   ],
   "source": [
    "## Exercices chapter 6\n",
    "counter = 0\n",
    "Acc = 0\n",
    "mx = None\n",
    "mn = None\n",
    "while True:\n",
    "    try:\n",
    "        y = input(\"Enter a number:\")\n",
    "        if y != \"done\":\n",
    "            x = float(y)\n",
    "            Acc += x\n",
    "            counter += 1\n",
    "            if mx is None or  x > mx :\n",
    "                mx = x\n",
    "            if mn is None or x < mn:\n",
    "                mn = x\n",
    "        elif y == \"done\":\n",
    "            print(\"Total:\"+str(Acc), \" Count:\"+str(counter)+\" Avg:\"+str(round(Acc/counter,2))+\" Max:\"+str(mx)+\" Min:\"+str(mn)) \n",
    "            break\n",
    "    except:\n",
    "        print(\"Enter a number!\")\n",
    "print(\"Good job\")"
   ]
  },
  {
   "cell_type": "markdown",
   "id": "e16d879e-6589-4c61-84bb-d6f27792353e",
   "metadata": {},
   "source": [
    "__STRINGS METHODS__"
   ]
  },
  {
   "cell_type": "code",
   "execution_count": 16,
   "id": "0bb470b5-1a7f-411d-9c8f-590cb44b24be",
   "metadata": {},
   "outputs": [
    {
     "name": "stdout",
     "output_type": "stream",
     "text": [
      "5 C s\n",
      "C\n",
      "h\n",
      "r\n",
      "i\n",
      "s\n",
      "C\n",
      "h\n",
      "r\n",
      "i\n",
      "s\n",
      "False\n",
      "True\n"
     ]
    }
   ],
   "source": [
    "name = \"Chris\"\n",
    "long = len(name)\n",
    "first = name[0]   # the way to index a string is from 0\n",
    "last = name[-1]   # Negative indexes come from the las part\n",
    "last = name[long-1] # the last one by avoid using negative index\n",
    "print(long,first,last)\n",
    "\n",
    "index = 0            # Traversal string looping - While\n",
    "while index < long:\n",
    "    print(name[index])\n",
    "    index += 1\n",
    "for i in name:       # Traversal str using for \n",
    "    print(i)\n",
    "\n",
    "slice_1 = name[2:4]  # extract from ix 2 to 4. remember starts from 0!\n",
    "slice_2 = name[:4]   # from idx 0 to 4\n",
    "slice_3 = name[4:]   # from the last idx (in 0) to the last 4 \n",
    "empty_slice= name[3:3] # if the first indes is > or = to the second.result is empty string\"\"\n",
    "\n",
    "empty_slice\n",
    "#* String are inmutable: name[0]= \"sth\"(item) gives an error. However you can slice it and make a new one:\n",
    "sec_name = name[0]+\"amilo\"\n",
    "sec_name\n",
    "\n",
    "# In operator & comparison\n",
    "\"C\" in name # returns True or False depending on the clause\n",
    "print(\"pineapple\" < \"banana\")  #you can compare words \"greater than\" means that the word comes after alphabetically. Its case sensitive!!\n",
    "print(\"Pineapple\" < \"banana\") # all uppercase letters come before lowercase letters.\n"
   ]
  },
  {
   "cell_type": "code",
   "execution_count": 29,
   "id": "94de0a49-f3ad-4bfd-804d-d74fd0ba0cfb",
   "metadata": {},
   "outputs": [
    {
     "name": "stdout",
     "output_type": "stream",
     "text": [
      "Help on built-in function partition:\n",
      "\n",
      "partition(sep, /) method of builtins.str instance\n",
      "    Partition the string into three parts using the given separator.\n",
      "    \n",
      "    This will search for the separator in the string.  If the separator is found,\n",
      "    returns a 3-tuple containing the part before the separator, the separator\n",
      "    itself, and the part after it.\n",
      "    \n",
      "    If the separator is not found, returns a 3-tuple containing the original string\n",
      "    and two empty strings.\n",
      "\n"
     ]
    },
    {
     "data": {
      "text/plain": [
       "\"I'm 27 years old \""
      ]
     },
     "execution_count": 29,
     "metadata": {},
     "output_type": "execute_result"
    }
   ],
   "source": [
    "#String methods  ---> use variable name plus a preoid . and the method (use method's required arguments)\n",
    "name=\"Christian\"\n",
    "dir(name) # function dir brings up whole set of methods vailable for a type of object. In this case, string object.\n",
    "help(name.partition) # returns the domunetation of the method -> https://docs.python.org/3/library/stdtypes.html#string-methods\n",
    "#most used: \n",
    "#.find (substring in a string) returns index OR -1 (DOESN'T EXIST) --> useful for parsing strings (extraxct a substring using .find and slicing)\n",
    "#.strip() removes spaces at the beginning and at the end of the word -- if arguments, strip them all.\n",
    "#.stratswith() return a boolean value if the words starts with a given argument\n",
    "#.lower() put all the stuff in lower case\n",
    "#.count() counts the namuber of substrings in the word.\n",
    "#.replace() change a existing word fr a one specified\n",
    "years = 27\n",
    "\"I'm %d years old \" %years # Format operand. Widely used to retrive different objects to strings.\n",
    "# %d is gor int, %g for float, and %s for strings. https://docs.python.org/3/library/stdtypes.html#printf-style-string-formatting\n"
   ]
  },
  {
   "cell_type": "code",
   "execution_count": 32,
   "id": "9e87ace5-b9bd-40cc-825f-4d85c273fc87",
   "metadata": {},
   "outputs": [
    {
     "data": {
      "text/plain": [
       "0.8475"
      ]
     },
     "execution_count": 32,
     "metadata": {},
     "output_type": "execute_result"
    }
   ],
   "source": [
    "#Exercise 5 chapter 6\n",
    "str_ = 'X-DSPAM-Confidence:0.8475'\n",
    "colon = str_.find(\":\")\n",
    "after = str_[colon+1:]\n",
    "fl = float(after)\n",
    "\n"
   ]
  },
  {
   "cell_type": "markdown",
   "id": "2801895f-d532-4e84-aa9c-2d0d247654d0",
   "metadata": {},
   "source": [
    "FILES -- SCONDARY MEMORY"
   ]
  },
  {
   "cell_type": "code",
   "execution_count": 2,
   "id": "b34facfa-5e1c-4861-906e-dfea261c31d1",
   "metadata": {},
   "outputs": [
    {
     "name": "stdout",
     "output_type": "stream",
     "text": [
      "1910\n"
     ]
    },
    {
     "name": "stdin",
     "output_type": "stream",
     "text": [
      "Enter file name:  msdfsdf\n"
     ]
    },
    {
     "name": "stdout",
     "output_type": "stream",
     "text": [
      "cannot open: msdfsdf\n",
      "0\n",
      "sdfsd\n",
      "\n"
     ]
    }
   ],
   "source": [
    "#Open mode\n",
    "fhand = open(\"mbox-short.txt\") # Open a file in mode \"r\" -> handle -> Open, Read, Write, Close\n",
    "count = 0\n",
    "for line in fhand:  # each line (\\n) is an element- \\n is a element, invisible but elemnt. rstrip() get rid off that last \\n\n",
    "    count +=1       # each line is counted, and then, dismissed.  does not use a lot of memory\n",
    "print(count)        # Use this way to analyze text in large texts !!. Print puts a \\n in each iteration \n",
    "                    #Then, could result in a doube spac\n",
    "text = input(\"Enter file name: \")\n",
    "try:                                  #remember useing try and except when an input is needed\n",
    "    fhand = open(text)\n",
    "except:\n",
    "    print(\"cannot open: \"+text)\n",
    "    exit()                             # ends the kernel\n",
    "count = 0\n",
    "for line in fhand:\n",
    "    line = line.strip()                 # getting rid off the spaces\n",
    "    if line.find(\"@\")== -1: continue    # Use if to filter along with .find() or .startswith(). use continue when does not match the needs\n",
    "    count += 1                          # numbers of lines with @\n",
    "print(count)                            # remember that .find() retrives -1 when there is no coincidence\n",
    "                             \n",
    "fhand = open(\"whateve.txt\") #with mbox,read doesn´t work\n",
    "inp = fhand.read() # saves the file in only one string. If the text is larger than the memory, the result will be empty.\n",
    "print(inp[:20])\n",
    "\n",
    "\n",
    "\n"
   ]
  },
  {
   "cell_type": "code",
   "execution_count": 6,
   "id": "0b156670-563f-4f0a-ae0b-c55bbd07b7e5",
   "metadata": {},
   "outputs": [],
   "source": [
    "# Writing mode\n",
    "fout = open(\"new.txt\",\"w\") ## Carefull - if the file exists clear the data, otherwise would create the new file!!\n",
    "line1 = \"wrinitg method on python\\n\" # specifies the content in line 1\n",
    "fout.write(line1) # Writes in line 1 and returns the index-> new data is added from this point !!!\n",
    "line2 = \"testing line 2 - the extra space is not added automatically as it was in print\\n\"\n",
    "fout.write(line2)\n",
    "fout.close() ## make sure to close the file.Otherwise,power off means loses of data\n",
    "#\\n nweline, \\t space, \\r newline in other systems\n",
    "# function repr(string) returns a string with the above notation when it has them."
   ]
  },
  {
   "cell_type": "code",
   "execution_count": 11,
   "id": "e26c786b-e806-4145-88bb-69040262997d",
   "metadata": {},
   "outputs": [
    {
     "name": "stdin",
     "output_type": "stream",
     "text": [
      "enter file name:  new.txt\n"
     ]
    },
    {
     "name": "stdout",
     "output_type": "stream",
     "text": [
      "WRINITG METHOD ON PYTHON\n",
      "TESTING LINE 2 - THE EXTRA SPACE IS NOT ADDED AUTOMATICALLY AS IT WAS IN PRINT\n"
     ]
    }
   ],
   "source": [
    "# excercise 1 chapter 7\n",
    "f_name = input(\"enter file name: \")\n",
    "try:\n",
    "    fhand = open(f_name)\n",
    "    for line in fhand:\n",
    "        line = line.rstrip().upper()\n",
    "        print(line)\n",
    "    fhand.close()\n",
    "except:\n",
    "    print(\"enter a valid file name\")\n",
    "        "
   ]
  },
  {
   "cell_type": "code",
   "execution_count": 29,
   "id": "d61ea134-97c9-4837-8c42-6347e28f37f4",
   "metadata": {},
   "outputs": [
    {
     "name": "stdin",
     "output_type": "stream",
     "text": [
      "enter file name: na na boo boo\n"
     ]
    },
    {
     "name": "stdout",
     "output_type": "stream",
     "text": [
      "NA NA BOO BOO to you - fucking bastard\n"
     ]
    }
   ],
   "source": [
    "# excercises chapter 7\n",
    "f_name = input(\"enter file name:\")\n",
    "if f_name == \"na na boo boo\":\n",
    "    print(f_name.upper()+\" to you - fucking bastard\")\n",
    "else:\n",
    "    try:\n",
    "        fhand = open(f_name)\n",
    "        counter = 0\n",
    "        acc = 0\n",
    "        for line in fhand:\n",
    "            line = line.rstrip()\n",
    "            if line.find(\"X-DSPAM-Confidence:\") == -1: continue\n",
    "            init = line.find(\":\")\n",
    "            end = line[init+1:].strip()\n",
    "            counter += 1\n",
    "            acc += float(end)\n",
    "        avg = round(acc/counter,4)\n",
    "        print(\"The average is: %g\" %avg)\n",
    "        fhand.close()\n",
    "    except:\n",
    "        print(\"cannot find the file \"+f_name)"
   ]
  },
  {
   "cell_type": "markdown",
   "id": "78260863-4330-4f4c-8173-66eae63f4ad2",
   "metadata": {},
   "source": [
    "___DATA STRUCTURES___"
   ]
  },
  {
   "cell_type": "markdown",
   "id": "aec4f674-0a22-4090-bf31-502612e2fea9",
   "metadata": {
    "tags": []
   },
   "source": [
    "___LISTS []___ Like a string, a list is a sequence of values. In a string, the values are characters;\n",
    "in a list, they can be any type. The values in list are called elements or sometimes\n",
    "items.\n",
    "- __can be__ str, in ,float, other lists, empty lists, etc\n",
    "- lists are __MUTABLE__"
   ]
  },
  {
   "cell_type": "code",
   "execution_count": 37,
   "id": "610ff9a0-90e7-4c2d-a698-1c6a29f5b1b8",
   "metadata": {},
   "outputs": [
    {
     "name": "stdout",
     "output_type": "stream",
     "text": [
      "[1, 15, 54]\n"
     ]
    },
    {
     "data": {
      "text/plain": [
       "True"
      ]
     },
     "execution_count": 37,
     "metadata": {},
     "output_type": "execute_result"
    }
   ],
   "source": [
    "cheeses = [1,2,3]\n",
    "cheeses[1] = 15  # lists are mutable -> each element has an index : mapping --> index error id it does not exist\n",
    "cheeses[-1] = 54 # remember negative indexation\n",
    "print(cheeses)\n",
    "1 in cheeses # evaluate a boolean based on a element."
   ]
  },
  {
   "cell_type": "code",
   "execution_count": 55,
   "id": "7f418cd5-f72a-432f-ae09-8204d2e853e5",
   "metadata": {},
   "outputs": [
    {
     "name": "stdout",
     "output_type": "stream",
     "text": [
      "[2, 4, 3, 1, 2, 3]\n",
      "[2, 4, 3, 2, 4, 3]\n"
     ]
    },
    {
     "data": {
      "text/plain": [
       "[5, 4, 3]"
      ]
     },
     "execution_count": 55,
     "metadata": {},
     "output_type": "execute_result"
    }
   ],
   "source": [
    "# updating lists\n",
    "cheeses = [1,2,3]\n",
    "for i in range(len(cheeses)-1):  # if the the for evaluates a empty list (list()) the body won't be executed\n",
    "    cheeses[i] = cheeses[i] * 2  # if there is a list inside , the list only account by 1\n",
    "cheeses                          # remember the empty list strategy in loops !!\n",
    "\n",
    "# list operations\n",
    "num = [1,2,3]\n",
    "print(cheeses +  num) # merges both lists\n",
    "print(cheeses * 2 ) # repeats a list n times -- is not a matrix!!-> cannot multiplie lists each other.\n",
    "\n",
    "# List slice\n",
    "sl = cheeses[:] # make a copy to work with\n",
    "sl[0:2] = [5,4] # slice is up to n-1 index: in this caste 0 and 1(2-1)\n",
    "sl"
   ]
  },
  {
   "cell_type": "markdown",
   "id": "8a1834de-625d-4258-96c2-26fcc5febdd9",
   "metadata": {},
   "source": [
    "___LISTS POPULAR METHODS___"
   ]
  },
  {
   "cell_type": "code",
   "execution_count": 72,
   "id": "795f3c00-1062-49ae-8c8e-ad705769c476",
   "metadata": {},
   "outputs": [
    {
     "name": "stdout",
     "output_type": "stream",
     "text": [
      "[1, 2, 3, 3, 5, 9, 10]\n",
      "[2, 3, 5, 9] 3\n",
      "['c', 'h', 'r', 'i', 's']\n"
     ]
    }
   ],
   "source": [
    "ch = [1,2,3]\n",
    "cr = [5,3,9]\n",
    "ch.append(10) # adds 10 to ch -> modifies it. it modifies the list while + creates a new list!!\n",
    "ch.extend(cr) # cannot be used as a variable because it returns None !\n",
    "ch.sort()\n",
    "print(ch)\n",
    "del ch[0] # delete a item\n",
    "x = ch.pop(1) # take a index out and store it in a variable\n",
    "ch.remove(10) # delete a item by the element's name not by the index\n",
    "print(ch,x)\n",
    "# you can also use functions like sum, len, max, min, etc"
   ]
  },
  {
   "cell_type": "code",
   "execution_count": 82,
   "id": "8136d183-4f67-436c-8adc-180d8fe67500",
   "metadata": {},
   "outputs": [
    {
     "name": "stdout",
     "output_type": "stream",
     "text": [
      "['c', 'h', 'r', 'i', 's', '-', 'c', 'a', 'n', 'o']\n",
      "['chris', 'cano']\n",
      "chris-cano\n"
     ]
    }
   ],
   "source": [
    "name = \"chris-cano\"\n",
    "name_list = list(name) # you can translate strings into lists for each element\n",
    "print(name_list)\n",
    "print(name.split(\"-\")) # transforms a string to a list based on a delimiter(-) if it's empty, it means space.\n",
    "print(\"\".join(name_list)) # inverse of split. The delimiter is at the beginning\n",
    "# split is very use ful when one is dealing with open() along with if clause (split the important lines)."
   ]
  },
  {
   "cell_type": "code",
   "execution_count": 98,
   "id": "6544b13b-dbf1-4f2a-95a5-be5b0d4f4456",
   "metadata": {},
   "outputs": [
    {
     "name": "stdout",
     "output_type": "stream",
     "text": [
      "True\n",
      "False\n",
      "[1, 2]\n",
      "[3, 2]\n",
      "[2, 3, 4, 5] [3, 4]\n"
     ]
    }
   ],
   "source": [
    "a = \"banana\"\n",
    "b = \"banana\"\n",
    "print(a is b)   # a and b reffers to a same string object called \"banana\". They are identical (value and object)\n",
    "a = [1,2]\n",
    "b = [1,2]\n",
    "print(a is b) # lists , even if the are value-equivalent, referrr to different objects !! unidentical\n",
    "b = a         # we are aliasing b. b changes if a changes. b is just an alias of a.\n",
    "print(b)\n",
    "a[0] = 3\n",
    "print(b)     # both a & b are linked to the same object ! -> identic!!! avoid this, really prone to make errors\n",
    "# be ery carefull defining functions that modify the argument list or crete s a new one. don't confuse both terms.\n",
    "def chop(A):       # removes the first and last element of the list argument. modifies the argument\n",
    "    del A[0]\n",
    "    del A[len(A)-1]\n",
    "\n",
    "def middle(A):         # cretes a new list by slicing the original one. The original remains equal\n",
    "    new = A[1:len(A)-1]\n",
    "    return new\n",
    "ch = [1,2,3,4,5,6]\n",
    "chop(ch)\n",
    "x = middle(ch)\n",
    "print(ch,x)"
   ]
  },
  {
   "cell_type": "code",
   "execution_count": 122,
   "id": "98b2534c-4b21-4836-bcf0-ab2e76d355d5",
   "metadata": {},
   "outputs": [
    {
     "name": "stdout",
     "output_type": "stream",
     "text": [
      "['Arise', 'But', 'It', 'Juliet', 'Who', 'already', 'and', 'breaks', 'east', 'envious', 'fair', 'grief', 'is', 'kill', 'light', 'moon', 'pale', 'sick', 'soft', 'sun', 'the', 'through', 'what', 'window', 'with', 'yonder']\n"
     ]
    }
   ],
   "source": [
    "# Exercise chapter 8 -- 1\n",
    "fhand = open(\"romeo.txt\")\n",
    "unique = list()\n",
    "for line in fhand:\n",
    "    line = line.strip()\n",
    "    line = line.split()\n",
    "    for item in line:\n",
    "        if item in unique: continue\n",
    "        unique.append(item)\n",
    "unique.sort()\n",
    "print(unique)\n",
    "fhand.close()"
   ]
  },
  {
   "cell_type": "code",
   "execution_count": 18,
   "id": "a1c5a039-e861-4b45-a1b2-b8b60e75f7ab",
   "metadata": {},
   "outputs": [
    {
     "name": "stdout",
     "output_type": "stream",
     "text": [
      "stephen.marquard@uct.ac.za\n",
      "louis@media.berkeley.edu\n",
      "zqian@umich.edu\n",
      "rjlowe@iupui.edu\n",
      "zqian@umich.edu\n",
      "rjlowe@iupui.edu\n",
      "cwen@iupui.edu\n",
      "cwen@iupui.edu\n",
      "gsilver@umich.edu\n",
      "gsilver@umich.edu\n",
      "zqian@umich.edu\n",
      "gsilver@umich.edu\n",
      "wagnermr@iupui.edu\n",
      "zqian@umich.edu\n",
      "antranig@caret.cam.ac.uk\n",
      "gopal.ramasammycook@gmail.com\n",
      "david.horwitz@uct.ac.za\n",
      "david.horwitz@uct.ac.za\n",
      "david.horwitz@uct.ac.za\n",
      "david.horwitz@uct.ac.za\n",
      "stephen.marquard@uct.ac.za\n",
      "louis@media.berkeley.edu\n",
      "louis@media.berkeley.edu\n",
      "ray@media.berkeley.edu\n",
      "cwen@iupui.edu\n",
      "cwen@iupui.edu\n",
      "cwen@iupui.edu\n",
      "there were 27 lines \n"
     ]
    }
   ],
   "source": [
    "#2\n",
    "fhand_ = open(\"mbox-short.txt\")\n",
    "counter = 0\n",
    "senders = list()\n",
    "for line in fhand_:\n",
    "    line = line.rstrip()\n",
    "    line = line.split()\n",
    "    if len(line) == 0 or line[0] != \"From\": continue\n",
    "    print(line[1])\n",
    "    counter += 1\n",
    "print(\"there were %d lines \"%counter)"
   ]
  },
  {
   "cell_type": "code",
   "execution_count": 32,
   "id": "dd59b8bc-7c6f-4bde-a575-06d75f6e2884",
   "metadata": {},
   "outputs": [
    {
     "name": "stdin",
     "output_type": "stream",
     "text": [
      "enter a number: 4\n",
      "enter a number: 2\n",
      "enter a number: 8\n",
      "enter a number: 9\n",
      "enter a number: 4\n",
      "enter a number: 65\n",
      "enter a number: 2\n",
      "enter a number: 7\n",
      "enter a number: 7\n",
      "enter a number: done\n"
     ]
    },
    {
     "name": "stdout",
     "output_type": "stream",
     "text": [
      "max: 65 \n",
      "min: 2\n"
     ]
    }
   ],
   "source": [
    "#3\n",
    "result = list()\n",
    "try:\n",
    "    while True:\n",
    "        enter = input(\"enter a number:\")\n",
    "        if enter == \"done\": break\n",
    "        result.append(float(enter))\n",
    "    mx = max(result)\n",
    "    mn = min(result)\n",
    "    print(\"max: %d \"%mx+\"\\nmin: %d\"%mn)                  \n",
    "except:\n",
    "    \"Enter a number\""
   ]
  },
  {
   "cell_type": "markdown",
   "id": "7e66c6dd-46a0-4406-9860-761892b62f24",
   "metadata": {},
   "source": [
    "___CHAPTER 9: DICTIONARIES___ : Indices can by any type !!! (keys)"
   ]
  },
  {
   "cell_type": "code",
   "execution_count": 43,
   "id": "8a23b03f-bfcb-4523-a48e-5e3d9e7739dd",
   "metadata": {},
   "outputs": [
    {
     "name": "stdout",
     "output_type": "stream",
     "text": [
      "dos\n",
      "3\n",
      "True\n"
     ]
    },
    {
     "data": {
      "text/plain": [
       "True"
      ]
     },
     "execution_count": 43,
     "metadata": {},
     "output_type": "execute_result"
    }
   ],
   "source": [
    "eng2sp = dict() #build in function to create a dict\n",
    "eng2sp[\"one\"] = \"uno\" # assigns to key \"one\" thye value of uno\n",
    "eng2sp = {\"one\":\"uno\",\"two\":\"dos\",\"three\":\"tres\"} # Dictionaries do not keep the same order because index don't matter any more\n",
    "print(eng2sp[\"two\"]) # calling the key maps the assigned value --error if you call the value and not the key}\n",
    "print(len(eng2sp)) # like a list\n",
    "print(\"three\" in eng2sp) # boolean value on keys\n",
    "D_values = list(eng2sp.values()) # extract dict values and save them in a list\n",
    "\"dos\" in D_values #evaluate a boolean in values instead of keys\n"
   ]
  },
  {
   "cell_type": "code",
   "execution_count": 63,
   "id": "a68e3763-617f-48cd-9918-2a5e184509b0",
   "metadata": {},
   "outputs": [
    {
     "name": "stdout",
     "output_type": "stream",
     "text": [
      "7\n",
      "0\n",
      "{'c': 4, 'h': 1, 'r': 2, 'i': 4, 's': 1, 't': 1, 'a': 3, 'n': 2, ' ': 3, 'm': 1, 'l': 1, 'o': 3}\n"
     ]
    }
   ],
   "source": [
    "dict1 ={\"ch\":4,\"al\":7,\"na\":7}\n",
    "print(dict1.get(\"al\",0)) # get method brings the value of a key. If the key is not there, i would bring the defalut value (zero in this case)\n",
    "print(dict1.get(\"Ma\",0)) # retrives 0\n",
    "#word counter\n",
    "word = \"christian camilo cano rico\"\n",
    "dict1=dict()\n",
    "for i in word:\n",
    "    dict1[i] = dict1.get(i,0)+1 # use get insted of the if statment -> commonly used !!\n",
    "print(dict1)"
   ]
  },
  {
   "cell_type": "code",
   "execution_count": 17,
   "id": "a6d01d4c-20e7-4d91-93a8-73aeaedafcc8",
   "metadata": {},
   "outputs": [
    {
     "name": "stdin",
     "output_type": "stream",
     "text": [
      "enter file:  romeo.txt\n"
     ]
    },
    {
     "name": "stdout",
     "output_type": "stream",
     "text": [
      "Arise 1\n",
      "But 1\n",
      "It 1\n",
      "Juliet 1\n",
      "Who 1\n",
      "already 1\n",
      "and 3\n",
      "breaks 1\n",
      "east 1\n",
      "envious 1\n",
      "fair 1\n",
      "grief 1\n",
      "is 3\n",
      "kill 1\n",
      "light 1\n",
      "moon 1\n",
      "pale 1\n",
      "sick 1\n",
      "soft 1\n",
      "sun 2\n",
      "the 3\n",
      "through 1\n",
      "what 1\n",
      "window 1\n",
      "with 1\n",
      "yonder 1\n"
     ]
    }
   ],
   "source": [
    "# nested loops in dicts -- counter of words when there are punctuation signs !!!\n",
    "import string     \n",
    "string.punctuation # these are the characters taht Python considers are punctuation\n",
    "fhand = input(\"enter file: \")\n",
    "\n",
    "try:\n",
    "    fhand = open(fhand)\n",
    "except:\n",
    "    print(\"cannot find the file\")\n",
    "    exit()\n",
    "counter = dict()\n",
    "for line in fhand:\n",
    "    line = line.strip()\n",
    "    line = line.translate(line.maketrans(\"\",\"\",string.punctuation)) # the first gap(fromstr) is the word that we want them become the second gap (tostr)\n",
    "    line = line.split()                                             # but they can be omitted. The las one is the character we want to remove.Punctuation!!\n",
    "    for word in line:  # iterate each element inside a line (list)\n",
    "        if word not in counter:\n",
    "            counter[word] = 1\n",
    "        else:\n",
    "            counter[word] += 1  #instead of + you can use -,*,/.\n",
    "list1 = list(counter.keys())\n",
    "list1.sort()                     # orgince it in alphabetical oreder\n",
    "for word in list1:\n",
    "    print(word, counter[word])      \n",
    "            "
   ]
  },
  {
   "cell_type": "code",
   "execution_count": 67,
   "id": "3e14b523-f02e-41ff-b24d-104b5660bca6",
   "metadata": {},
   "outputs": [
    {
     "name": "stdin",
     "output_type": "stream",
     "text": [
      "name of the file: mbox-short.txt\n"
     ]
    },
    {
     "name": "stdout",
     "output_type": "stream",
     "text": [
      "{'Sat': 1, 'Fri': 20, 'Thu': 6}\n",
      "cwen@iupui.edu\n",
      "{'uct.ac.za': 6, 'media.berkeley.edu': 4, 'umich.edu': 7, 'iupui.edu': 8, 'caret.cam.ac.uk': 1, 'gmail.com': 1}\n"
     ]
    }
   ],
   "source": [
    "#Exercises chapter 9\n",
    "x =input(\"name of the file:\")\n",
    "try:\n",
    "    fhand = open(x)\n",
    "except:\n",
    "    print(\"cannot find \"+x)\n",
    "days = dict()\n",
    "email = dict()\n",
    "for line in fhand:\n",
    "    line = line.strip()\n",
    "    line = line.split()\n",
    "    if len(line) == 0 or line[0] != \"From\": continue\n",
    "    for each in line:\n",
    "        arr = each.find(\"@\")\n",
    "        dom = each[arr+1:]\n",
    "        if line.index(each) != 1 and line.index(each) != 2 : continue\n",
    "        elif line.index(each) == 2 and each not in days:\n",
    "            days[each] = days.get(each,1) # without get : days[each] = days[each] if each in days else 0\n",
    "        elif line.index(each) == 2 and each in days:\n",
    "            days[each] += 1\n",
    "        elif line.index(each) == 1 and each not in email:\n",
    "            email[each] = email.get(each,1)\n",
    "        else:\n",
    "            email[each] += 1         \n",
    "        \n",
    "print(days)\n",
    "max_sender = max(email,key = email.get)  #modify version of max for dicts! uses 2 arguments: the dict name and key= get the values\n",
    "print(max_sender)\n",
    "domain= dict()\n",
    "for keys in email:\n",
    "    dom = keys[keys.index(\"@\")+1:]\n",
    "    value = email.get(keys)\n",
    "    if dom not in domain:\n",
    "        domain[dom] = value\n",
    "    else:\n",
    "        domain[dom] += value\n",
    "print(domain)\n"
   ]
  },
  {
   "cell_type": "markdown",
   "id": "b76a2aa0-9a37-480a-8956-bae32aa5337b",
   "metadata": {},
   "source": [
    "___CHAPTER 10: TUPLES___ -> Quite similar to a list but __inmutable__ . Also, comparable and hashable"
   ]
  },
  {
   "cell_type": "code",
   "execution_count": 78,
   "id": "6ecaf5f3-7365-43a9-9bc2-2b7f055b923e",
   "metadata": {},
   "outputs": [
    {
     "name": "stdout",
     "output_type": "stream",
     "text": [
      "b\n",
      "('b', 'c')\n",
      "('a', 'b', 'c', 'd', 'e', 'b', 'c')\n"
     ]
    },
    {
     "data": {
      "text/plain": [
       "True"
      ]
     },
     "execution_count": 78,
     "metadata": {},
     "output_type": "execute_result"
    }
   ],
   "source": [
    "t = tuple() # empty tuble\n",
    "t = (\"a\",) #when the tuple only has one element\n",
    "t = (\"a\",\"b\",\"c\",\"d\",\"e\") # both are equal\n",
    "#you can index and slide tuples:\n",
    "print(t[1])\n",
    "print(t[1:3])\n",
    "#YOU CANNOT CHANGE IT.e.g,: t[0]= \"f\"\n",
    "#However, you can replace a tuple with another:\n",
    "t = t + t[1:3]\n",
    "print(t) # t now is a new and different tuple\n",
    "\n",
    "#compare tuples -> element by elemnt starting by the left. if one is not EQUAL \n",
    "t1 = (1,3,3)   #it determines the boolean regardless the left ones\n",
    "t2 = (1,2,1000)\n",
    "t1>t2   # It's true cause 3>2 even if after 1000>3... \"==\" works for strings and numbers , cotrary to > and <."
   ]
  },
  {
   "cell_type": "code",
   "execution_count": 83,
   "id": "b853b284-ec23-49df-b3f5-9a9807b750d7",
   "metadata": {},
   "outputs": [
    {
     "name": "stdout",
     "output_type": "stream",
     "text": [
      "['yonder', 'window', 'breaks', 'light', 'what', 'soft', 'but', 'in']\n"
     ]
    }
   ],
   "source": [
    "#DUI process: Decorate, sort, and undecorate using tuples.\n",
    "txt = 'but soft what light in yonder window breaks' # want to sort them from longest to shortest\n",
    "words = txt.split()\n",
    "t = list()\n",
    "for word in words:\n",
    "    t.append((len(word), word)) # adds a tupple with the word and its longitude\n",
    "    t.sort(reverse=True) ## .sort() is by deafult increasing. uses the first argument of the element and the scond in case of tie\n",
    "\n",
    "res = list()\n",
    "for length, word in t: #uses two iterators ias it element its a 2xtuple\n",
    "    res.append(word) #we only save the word(not its length) from the tuple to the new list\n",
    "print(res)"
   ]
  },
  {
   "cell_type": "code",
   "execution_count": 89,
   "id": "32b973f3-7c7e-48ca-a107-1b04f1f27c2c",
   "metadata": {},
   "outputs": [
    {
     "name": "stdout",
     "output_type": "stream",
     "text": [
      "1 2\n",
      "2 1\n"
     ]
    },
    {
     "data": {
      "text/plain": [
       "'montymonty'"
      ]
     },
     "execution_count": 89,
     "metadata": {},
     "output_type": "execute_result"
    }
   ],
   "source": [
    "# Tuple assignament\n",
    "(x,y) = [1,2]  # we can assign multiple values to multiple variables in tples (() are optional)\n",
    "print(x,y)\n",
    "(y,x) = (x,y) # we can swap tuples' values as long as they have the same shape. fIRST RIGHT SIDE IS EVALUATED AND THEN ASSIGNED TO LEFT\n",
    "print(x,y)\n",
    "addr = 'monty@python.org'\n",
    "uname, domain = addr.split('@') # we are saving the name and domain in different variables"
   ]
  },
  {
   "cell_type": "code",
   "execution_count": 97,
   "id": "ad7ac22f-476b-47db-a8e1-72556c43e3b7",
   "metadata": {},
   "outputs": [
    {
     "name": "stdout",
     "output_type": "stream",
     "text": [
      "[(7, 'na'), (7, 'al'), (4, 'ch')]\n"
     ]
    }
   ],
   "source": [
    "# Dictionaries and tuples---> Really usefull\n",
    "dict1 ={\"ch\":4,\"al\":6,\"na\":7}\n",
    "t = list(dict1.items()) # .items() creates a tuple for each key-value pair. We can store it in a list.\n",
    "t.sort() # sorted by the first argument: alphabetically increasing\n",
    "t1 = list()\n",
    "for word,value in t:  ##let's try to sort it by value. Creating a iteranting tuple = (word,value) -> its one element!!\n",
    "    t1.append((value,word))  # appendenig the values but swapped. Putting the value at first place\n",
    "t1.sort(reverse = True) # using sort() this time by value !! beacuse it is first\n",
    "print(t1) # with this now you can sort a dictionary !!!\n"
   ]
  },
  {
   "cell_type": "code",
   "execution_count": 102,
   "id": "8485af3d-7cc1-445a-9cc2-53bf9ea05c43",
   "metadata": {},
   "outputs": [
    {
     "name": "stdout",
     "output_type": "stream",
     "text": [
      "cano christian 675705628\n",
      "rico camilo 3108847231\n"
     ]
    },
    {
     "data": {
      "text/plain": [
       "[('camilo', 'rico'), ('christian', 'cano')]"
      ]
     },
     "execution_count": 102,
     "metadata": {},
     "output_type": "execute_result"
    }
   ],
   "source": [
    "# Composite key of dicts -> two elements are key e.g., {(a,b):1} -> only with tuples (lists can't be hashable)\n",
    "directory = {(\"christian\",\"cano\"):675705628,(\"camilo\",\"rico\"):3108847231}\n",
    "for first,last in directory: #traverse the directory\n",
    "    print(last,first,directory[first,last]) # show the number associeted with a the last and first name\n",
    "#.sorted() and .reversed() work with tuples along with any sequence: conversly to sort() which is only for lists\n",
    "sorted(directory,key=lambda name:name[1],reverse=True) # rearrantge tu tuple by last name decreasin\n",
    "                    #lambda an iterator in this case"
   ]
  },
  {
   "cell_type": "code",
   "execution_count": 124,
   "id": "ca7a4459-30f9-4e35-9c6c-60f195ce637f",
   "metadata": {},
   "outputs": [
    {
     "name": "stdin",
     "output_type": "stream",
     "text": [
      "name of the file: mbox.txt\n"
     ]
    },
    {
     "name": "stdout",
     "output_type": "stream",
     "text": [
      "zqian@umich.edu 195\n"
     ]
    }
   ],
   "source": [
    "#Chapter 10 ex #1\n",
    "x = input(\"name of the file:\")\n",
    "try:\n",
    "    fhand = open(x)\n",
    "except:\n",
    "    print(\"cannot find \"+x)\n",
    "\n",
    "email = dict()\n",
    "for line in fhand:\n",
    "    line = line.strip()\n",
    "    line = line.split()\n",
    "    if len(line) == 0 or line[0] != \"From\": continue\n",
    "    for each in line:\n",
    "        if line.index(each) != 1: continue\n",
    "        if each not in email:\n",
    "            email[each] = email.get(each,1)\n",
    "        else :\n",
    "            email[each] += 1             \n",
    "list1 = list(email.items())\n",
    "list2 = []\n",
    "for name,commit in list1:\n",
    "    list2.append((commit,name))\n",
    "list2.sort(reverse=True)\n",
    "print(list2[0][1],list2[0][0])"
   ]
  },
  {
   "cell_type": "code",
   "execution_count": 131,
   "id": "c373c6e0-2807-4af5-83da-f2e38c7c49b3",
   "metadata": {},
   "outputs": [
    {
     "name": "stdin",
     "output_type": "stream",
     "text": [
      "name of the file: mbox-short.txt\n"
     ]
    },
    {
     "name": "stdout",
     "output_type": "stream",
     "text": [
      "04 3\n",
      "06 1\n",
      "07 1\n",
      "09 2\n",
      "10 3\n",
      "11 6\n",
      "14 1\n",
      "15 2\n",
      "16 4\n",
      "17 2\n",
      "18 1\n",
      "19 1\n"
     ]
    }
   ],
   "source": [
    "#Ex2\n",
    "x = input(\"name of the file:\")\n",
    "try:\n",
    "    fhand = open(x)\n",
    "except:\n",
    "    print(\"cannot find \"+x)\n",
    "\n",
    "hour = dict()\n",
    "for line in fhand:\n",
    "    line = line.strip()\n",
    "    line = line.split()\n",
    "    if len(line) == 0 or line[0] != \"From\": continue\n",
    "    for each in line:\n",
    "        if line.index(each) != 5: continue\n",
    "        if each[:2] not in hour:\n",
    "            hour[each[:2]] = hour.get(each,1)\n",
    "        else :\n",
    "            hour[each[:2]] += 1\n",
    "ordered = list(hour.items())\n",
    "ordered.sort()\n",
    "for x,y in ordered:\n",
    "    print(x,y)\n",
    "        "
   ]
  },
  {
   "cell_type": "code",
   "execution_count": 167,
   "id": "020c1e5a-4659-4041-9182-c4817a438e07",
   "metadata": {},
   "outputs": [
    {
     "name": "stdin",
     "output_type": "stream",
     "text": [
      "name of the file: mbox.txt\n"
     ]
    },
    {
     "name": "stdout",
     "output_type": "stream",
     "text": [
      "e 404033 0.096\n",
      "a 355337 0.084\n",
      "i 316771 0.075\n",
      "o 309157 0.073\n",
      "t 302616 0.072\n"
     ]
    }
   ],
   "source": [
    "# Ex 3\n",
    "x = input(\"name of the file:\")\n",
    "try:\n",
    "    fhand = open(x)\n",
    "except:\n",
    "    print(\"cannot find \"+x)\n",
    "\n",
    "words = dict()\n",
    "for line in fhand:\n",
    "    line = line.strip().lower().translate(line.maketrans(\"\",\"\",string.punctuation))\n",
    "    if len(line) == 0: continue\n",
    "    for each in line:\n",
    "        if each not in words:\n",
    "            if each in \"0123456789 \": continue\n",
    "            words[each] = words.get(each,1)\n",
    "        else:\n",
    "            words[each] += 1\n",
    "if \"\\t\" in words:\n",
    "    words.pop(\"\\t\")\n",
    "\n",
    "list1 = list(words.items())\n",
    "ordered = list()\n",
    "total = 0\n",
    "for letter,count in list1:\n",
    "    ordered.append((count,letter))\n",
    "    total += int(count)\n",
    "ordered.sort(reverse=True)\n",
    "for x,y in ordered[:5]:\n",
    "    print(y,x,round(int(x)/total,3))"
   ]
  },
  {
   "cell_type": "markdown",
   "id": "4f95c940-3790-4662-aaef-7c8698879d91",
   "metadata": {},
   "source": [
    "___REGULAR EXPRESSIONS (BASICS)___: Searching and extracting words from files -> it could be a programming language itself"
   ]
  },
  {
   "cell_type": "code",
   "execution_count": 34,
   "id": "8a021993-6c84-47b3-b0e0-0affc0e1976d",
   "metadata": {},
   "outputs": [
    {
     "name": "stdout",
     "output_type": "stream",
     "text": [
      "['From: stephen.marquard@uct.ac.za', 'From: louis@media.berkeley.edu', 'From: zqian@umich.edu', 'From: rjlowe@iupui.edu', 'From: zqian@umich.edu']\n"
     ]
    }
   ],
   "source": [
    "import re                       # its a library that must be imprted\n",
    "list1 = list()\n",
    "hand = open('mbox-short.txt')\n",
    "for line in hand:\n",
    "    line = line.rstrip()\n",
    "    if re.search('^F..m:.+@', line): #  returns true in lines that have \"f..m:\" at the neginning (^)\n",
    "        list1.append(line)          # words that start with F and ends with m, having two charachters (whatever:.) in the moddle\n",
    "print (list1[:5])   # also, you can read documentation about greedy behavior   #Besides have any charachter (more than 1:.+) followed by a at-sign.* is for more the 0(.*).\n",
    "        "
   ]
  },
  {
   "cell_type": "code",
   "execution_count": 31,
   "id": "3d124b3a-e828-474e-a367-ea3887a01d8b",
   "metadata": {},
   "outputs": [
    {
     "name": "stdout",
     "output_type": "stream",
     "text": [
      "[['stephen.marquard@uct'], ['postmaster@collab'], ['200801051412.m05ECIaH010327@nakamura'], ['source@collab'], ['source@collab']]\n"
     ]
    }
   ],
   "source": [
    "import re                      \n",
    "hand = open('mbox-short.txt')\n",
    "emails = list()\n",
    "for line in hand:\n",
    "    line = line.strip() \n",
    "    lst = re.findall('[a-zA-Z0-9]\\S*@\\S[a-zA-Z0-9]*',line) # \\S non-white-space. we are looking for substrings that have a @ between a non-space at the left and right\n",
    "    if len(lst) > 0: #the expression [a-zA-Z0-9] states that we only are lookin for those characters(letter and numbers) after the non-white-space.in both left and right\n",
    "        emails.append(lst)\n",
    "print(emails[:5]) # this was optional. just to reduce output space.\n",
    "\n"
   ]
  },
  {
   "cell_type": "code",
   "execution_count": 33,
   "id": "3b7cd2fc-8d32-4fae-979d-b33ba4b5eb2f",
   "metadata": {},
   "outputs": [
    {
     "name": "stdout",
     "output_type": "stream",
     "text": [
      "[['0.8475'], ['0.0000'], ['0.6178'], ['0.0000'], ['0.6961']]\n"
     ]
    }
   ],
   "source": [
    "import re                      \n",
    "numbers = []\n",
    "hand = open('mbox-short.txt')\n",
    "for line in hand:\n",
    "    line = line.rstrip()            # want to read all numbers in all lines X-DSPAM-Confidence: 0.8475...\n",
    "    x = re.findall('^X\\S*: ([0-9.]+)', line) # lines that start with X followes by any or zero (*) non.space character up toa colon\n",
    "    if len(x) > 0:                     # after a colon a space, then any character more than one (+) among 0 to 9 or a . \n",
    "        numbers.append(x)             # in this case the dot isn't a wild card. Finally extratc just the part in brackets\"()\"\"\n",
    "print(numbers[:5]) "
   ]
  },
  {
   "cell_type": "code",
   "execution_count": 35,
   "id": "dddc52b6-677a-493f-9e2d-a47408fdb9c7",
   "metadata": {},
   "outputs": [
    {
     "name": "stdout",
     "output_type": "stream",
     "text": [
      "[['39772'], ['39771'], ['39770'], ['39769'], ['39766']]\n"
     ]
    }
   ],
   "source": [
    "import re\n",
    "list1 = list()\n",
    "hand = open('mbox-short.txt')\n",
    "for line in hand:\n",
    "    line = line.rstrip()\n",
    "    x = re.findall('^Details:.*rev=([0-9.]+)', line) #retriving the number of revision in Details: http://source.sakaiproject.org/viewsvn/?view=rev&rev=39772....\n",
    "    if len(x) > 0:\n",
    "        list1.append(x)\n",
    "print(list1[:5])"
   ]
  },
  {
   "cell_type": "code",
   "execution_count": 39,
   "id": "90f00a93-1820-47af-9ea7-b0a1614e852a",
   "metadata": {},
   "outputs": [
    {
     "name": "stdout",
     "output_type": "stream",
     "text": [
      "[['09'], ['18'], ['16'], ['15'], ['15']]\n"
     ]
    }
   ],
   "source": [
    "import re # extracting the hour from \"From stephen.marquard@uct.ac.za Sat Jan 5 09:14:16 2008\"\n",
    "list1 = list()\n",
    "hand = open('mbox-short.txt')\n",
    "for line in hand:\n",
    "    line = line.rstrip() #Search for lines that start with From and a character\n",
    "    x = re.findall('^From .* ([0-9][0-9]):', line) # followed by a two digit number between 00 and 99 followed by ':'\n",
    "    if len(x) > 0: list1.append(x) # Then append the number if it is greater than zero\n",
    "print(list1[:5])\n",
    "# the backlash \"\\\" befiore a special character e.g., $, indicates that is a character we are looking for and not a special character"
   ]
  },
  {
   "cell_type": "markdown",
   "id": "fc7f70c6-e5b3-4ce7-b3ba-f32c0231ff6e",
   "metadata": {},
   "source": [
    "__Summary:__"
   ]
  },
  {
   "cell_type": "code",
   "execution_count": null,
   "id": "2b336f40-4c81-4f09-8819-39bff73b9665",
   "metadata": {},
   "outputs": [],
   "source": [
    "^ -> beginning of the line\n",
    "$ -> End of the line\n",
    ". -> any character (wilcard)..inside [.] its just a point\n",
    "\\s -> white-space character\n",
    "\\S -> non-white-space character\n",
    "* -> zero or morecharacters after(before) greedy-> match the largest possible!!! \n",
    "*? -> zero or morecharacters after(before)(non-greedy) -> stops at the fist match !\n",
    "+ -> one or morecharacters after(before) \n",
    "+? -> one or morecharacters after(before)(non-greedy) -> stops at the fist match !\n",
    "? -> match zero or one time in the preciding character\n",
    "?? -> like the previous but non-greedy\n",
    "[a-z0-9] -> especifie ranges: lower case letter or digit\n",
    "[ˆA-Za-z] -> ^ inverst the meaning. Anything other than uppercase or lower case letters\n",
    "() -> using .findall() brackets allow to extract a particular subset of the string\n",
    "\\b Matches the empty string, but only at the start or end of a word.\n",
    "\\B Matches the empty string, but not at the start or end of a word.\n",
    "\\d Matches any decimal digit; equivalent to the set [0-9].\n",
    "\\D Matches any non-digit character; equivalent to the set [ˆ0-9].\n",
    "remember to use dir(re), and then, help(re.\"function\") to get the documentation."
   ]
  },
  {
   "cell_type": "code",
   "execution_count": 56,
   "id": "5a09e518-2a6e-4ecc-be44-1ea2885384f5",
   "metadata": {},
   "outputs": [
    {
     "name": "stdin",
     "output_type": "stream",
     "text": [
      "Enter a regular expression:  java$\n"
     ]
    },
    {
     "name": "stdout",
     "output_type": "stream",
     "text": [
      "mbox.txt had 4218 lines that matched java$\n"
     ]
    }
   ],
   "source": [
    "# Exercise 1\n",
    "import re\n",
    "x = input(\"Enter a regular expression: \")\n",
    "fhand= open(\"mbox.txt\")\n",
    "counter = 0\n",
    "for line in fhand:\n",
    "    line = line.strip()\n",
    "    y = re.findall(x,line)\n",
    "    if len(y) > 0:\n",
    "        counter += 1\n",
    "print(\"mbox.txt had %d lines that matched \"%counter+x)   \n",
    "    "
   ]
  },
  {
   "cell_type": "code",
   "execution_count": 71,
   "id": "4f72c485-9777-4d67-8d73-b7aa1a991272",
   "metadata": {},
   "outputs": [
    {
     "name": "stdout",
     "output_type": "stream",
     "text": [
      "38549.79\n"
     ]
    }
   ],
   "source": [
    "# exercise 2\n",
    "import re\n",
    "fhand= open(\"mbox.txt\")\n",
    "list_avg = []\n",
    "for line in fhand:\n",
    "    line = line.strip()\n",
    "    x = re.findall(\"^New.*: ([0-9.]+)\",line)\n",
    "    if len(x) > 0: list_avg.append(float(x[0]))\n",
    "print(round(sum(list_avg)/len(list_avg),2))"
   ]
  },
  {
   "cell_type": "markdown",
   "id": "d4802b87-64ff-4980-8b77-d287c7324740",
   "metadata": {},
   "source": []
  },
  {
   "cell_type": "code",
   "execution_count": null,
   "id": "2a347b99-94c2-4e0e-978b-644a0794adb4",
   "metadata": {},
   "outputs": [],
   "source": []
  },
  {
   "cell_type": "code",
   "execution_count": null,
   "id": "08551c17-682a-426e-8d25-a9c25e7fe352",
   "metadata": {},
   "outputs": [],
   "source": []
  },
  {
   "cell_type": "code",
   "execution_count": null,
   "id": "6a35c1d2-8742-42e4-9d4e-e2d58757b802",
   "metadata": {},
   "outputs": [],
   "source": []
  },
  {
   "cell_type": "code",
   "execution_count": null,
   "id": "fb4c8c84-d633-400b-9130-037cfefc712b",
   "metadata": {},
   "outputs": [],
   "source": []
  }
 ],
 "metadata": {
  "kernelspec": {
   "display_name": "Python 3",
   "language": "python",
   "name": "python3"
  },
  "language_info": {
   "codemirror_mode": {
    "name": "ipython",
    "version": 3
   },
   "file_extension": ".py",
   "mimetype": "text/x-python",
   "name": "python",
   "nbconvert_exporter": "python",
   "pygments_lexer": "ipython3",
   "version": "3.8.8"
  }
 },
 "nbformat": 4,
 "nbformat_minor": 5
}
