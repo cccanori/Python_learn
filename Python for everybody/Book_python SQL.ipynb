{
 "cells": [
  {
   "cell_type": "markdown",
   "id": "bd66b371-8b5a-49ca-9827-0eaa32157b33",
   "metadata": {},
   "source": [
    "___SQL___  simple operations in the database manager and more complex operations will\n",
    "be most conveniently done in Python."
   ]
  },
  {
   "cell_type": "markdown",
   "id": "e738fc70-a617-496b-81c9-056366528c85",
   "metadata": {},
   "source": [
    "SQLite datatypes -> https://www.sqlite.org/datatypes.html --> declare it to gain fast acces to our data"
   ]
  },
  {
   "cell_type": "code",
   "execution_count": 1,
   "id": "c38e0631-c6d6-4bf7-b222-34879716be53",
   "metadata": {},
   "outputs": [],
   "source": [
    "import sqlite3                           # ther library that allows python getting connected with SQLite\n",
    "conn = sqlite3.connect('music.sqlite')   # creates(update) a data base document  \n",
    "cur = conn.cursor()                      # equivalent to the handle in a text file. works by allowing us write down the SQL statments\n",
    "cur.execute('DROP TABLE IF EXISTS Tracks') # execute is the method that writes in the DB\n",
    "cur.execute('CREATE TABLE Tracks (title TEXT, plays INTEGER)')\n",
    "conn.close() # Close the connection\n",
    "# -> Execute, Fetchone, fetchall, Close"
   ]
  },
  {
   "cell_type": "code",
   "execution_count": 3,
   "id": "13fcf2e9-5cde-4109-ae65-fff65ff9f87f",
   "metadata": {},
   "outputs": [
    {
     "name": "stdout",
     "output_type": "stream",
     "text": [
      "Tracks:\n",
      "<sqlite3.Cursor object at 0x000001E756725DC0>\n",
      "('Thunderstruck', 20)\n",
      "('My Way', 15)\n"
     ]
    }
   ],
   "source": [
    "import sqlite3\n",
    "conn = sqlite3.connect('music.sqlite')\n",
    "cur = conn.cursor()\n",
    "cur.execute('INSERT INTO Tracks (title, plays) VALUES (?, ?)', # insert -> put some data\n",
    "('Thunderstruck', 20))\n",
    "cur.execute('INSERT INTO Tracks (title, plays) VALUES (?, ?)',  # ? indicates that the values are tuples (x,y)\n",
    "('My Way', 15))\n",
    "conn.commit() # force the data to written in the SQLite file -> save the new data ! \n",
    "print('Tracks:')\n",
    "cur.execute('SELECT title, plays FROM Tracks') # retrives a select statment in the cursos\n",
    "for row in cur: # the cursos is sth that we can loop through rows usin for statment\n",
    "    print(row)\n",
    "cur.execute('DELETE FROM Tracks WHERE plays < 100')\n",
    "conn.commit()\n",
    "cur.close()"
   ]
  },
  {
   "cell_type": "markdown",
   "id": "65a457f3-dc59-40be-9bf1-b1254f073370",
   "metadata": {},
   "source": [
    "__Principal statments__"
   ]
  },
  {
   "cell_type": "code",
   "execution_count": null,
   "id": "1e6d6484-bba0-4cfa-acbd-8d56c454d65f",
   "metadata": {},
   "outputs": [],
   "source": [
    "CREATE TABLE Tracks (title TEXT, plays INTEGER) ## create a table called Tracks with titles \"title\" and \"plays\"\n",
    "INSERT INTO Tracks (title, plays) VALUES ('My Way', 15) ## put data into titles IGNORE is udefull to continue charging by ignoring unfitted data \n",
    "SELECT * FROM Tracks WHERE title = 'My Way' # retrive data with select and filter it with \"WHERE\".can use ORDER BY as well\n",
    "# logical operators: <,>,<=,>=,!=,and,or\n",
    "DELETE FROM Tracks WHERE title = 'My Way' # remove lines\n",
    "UPDATE Tracks SET plays = 16 WHERE title = 'My Way' # change the values. If where isn't specidied, changes the value of the whole row\n",
    "# (INSERT, SELECT, UPDATE, and DELETE) are the basic commands to manage data in the DB"
   ]
  },
  {
   "cell_type": "code",
   "execution_count": null,
   "id": "2c682550-bea5-429c-b211-14b237c20fd3",
   "metadata": {},
   "outputs": [],
   "source": [
    "# twitter example in the book is about saving friends of a friend so to buils a spder web in twitte. \n",
    "#It uses a retrived JSON file and saves the inofo in SQLite taking into account:\n",
    "#if the frien has been retrived :1\n",
    "#the friend is new :0\n",
    "#The data is saved in each run of the code: no lose of data"
   ]
  },
  {
   "cell_type": "markdown",
   "id": "997a6dd2-3ec4-4ea3-a51d-aacd54f7a1fb",
   "metadata": {},
   "source": [
    "__kinds of key__\n",
    "- Logical: the kind of key used in \"real world\" e.g, name. Make sense to use UNIQUE in this case\n",
    "- Primary Key: Normally is a number(easy to sort and store) assigned automatically that allow multiple table mixture. id\n",
    "- Foreign key: An id from an external table (table2) that is connected to the primary key (table1). _id"
   ]
  },
  {
   "cell_type": "markdown",
   "id": "21a0ccda-a252-4a47-a76e-4d6dbf45bbc8",
   "metadata": {},
   "source": [
    "__JOIN__"
   ]
  },
  {
   "cell_type": "code",
   "execution_count": null,
   "id": "fc3f9228-1801-404e-bb6e-120bccc1371d",
   "metadata": {},
   "outputs": [],
   "source": [
    "SELECT * FROM Follows JOIN People    # Join indicates the tables we are crossing\n",
    "ON Follows.from_id = People.id WHERE People.id = 1 # On indicates how the tables are to be joined with the clause WHERE"
   ]
  },
  {
   "cell_type": "code",
   "execution_count": null,
   "id": "de81af4e-4184-41dd-8ddb-eca461eca3da",
   "metadata": {},
   "outputs": [],
   "source": []
  },
  {
   "cell_type": "code",
   "execution_count": null,
   "id": "722bc7a7-31df-4d7e-a57c-a66e5d4cb882",
   "metadata": {},
   "outputs": [],
   "source": []
  },
  {
   "cell_type": "code",
   "execution_count": null,
   "id": "b8c74eda-326d-45cd-86bc-11694c399739",
   "metadata": {},
   "outputs": [],
   "source": []
  }
 ],
 "metadata": {
  "kernelspec": {
   "display_name": "Python 3",
   "language": "python",
   "name": "python3"
  },
  "language_info": {
   "codemirror_mode": {
    "name": "ipython",
    "version": 3
   },
   "file_extension": ".py",
   "mimetype": "text/x-python",
   "name": "python",
   "nbconvert_exporter": "python",
   "pygments_lexer": "ipython3",
   "version": "3.8.8"
  }
 },
 "nbformat": 4,
 "nbformat_minor": 5
}
