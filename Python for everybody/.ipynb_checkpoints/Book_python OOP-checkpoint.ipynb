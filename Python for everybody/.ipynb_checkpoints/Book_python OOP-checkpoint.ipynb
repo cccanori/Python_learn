{
 "cells": [
  {
   "cell_type": "markdown",
   "id": "fb8a189a-138b-43fa-8357-b9be40be6ed5",
   "metadata": {},
   "source": [
    "___OBJECT-ORIENTED PROGRAMMING___"
   ]
  },
  {
   "cell_type": "code",
   "execution_count": 3,
   "id": "a0cf3e7c-cf67-4ada-8aac-7545a29da421",
   "metadata": {},
   "outputs": [
    {
     "name": "stdout",
     "output_type": "stream",
     "text": [
      "chuck\n",
      "chuck\n",
      "chuck\n"
     ]
    },
    {
     "data": {
      "text/plain": [
       "['__add__',\n",
       " '__class__',\n",
       " '__contains__',\n",
       " '__delattr__',\n",
       " '__delitem__',\n",
       " '__dir__',\n",
       " '__doc__',\n",
       " '__eq__',\n",
       " '__format__',\n",
       " '__ge__',\n",
       " '__getattribute__',\n",
       " '__getitem__',\n",
       " '__gt__',\n",
       " '__hash__',\n",
       " '__iadd__',\n",
       " '__imul__',\n",
       " '__init__',\n",
       " '__init_subclass__',\n",
       " '__iter__',\n",
       " '__le__',\n",
       " '__len__',\n",
       " '__lt__',\n",
       " '__mul__',\n",
       " '__ne__',\n",
       " '__new__',\n",
       " '__reduce__',\n",
       " '__reduce_ex__',\n",
       " '__repr__',\n",
       " '__reversed__',\n",
       " '__rmul__',\n",
       " '__setattr__',\n",
       " '__setitem__',\n",
       " '__sizeof__',\n",
       " '__str__',\n",
       " '__subclasshook__',\n",
       " 'append',\n",
       " 'clear',\n",
       " 'copy',\n",
       " 'count',\n",
       " 'extend',\n",
       " 'index',\n",
       " 'insert',\n",
       " 'pop',\n",
       " 'remove',\n",
       " 'reverse',\n",
       " 'sort']"
      ]
     },
     "execution_count": 3,
     "metadata": {},
     "output_type": "execute_result"
    }
   ],
   "source": [
    "stuff = list()\n",
    "stuff.append('python')\n",
    "stuff.append('chuck')\n",
    "stuff.sort()\n",
    "print (stuff[0])\n",
    "print (stuff.__getitem__(0)) ## Get the first item of the list\n",
    "print (list.__getitem__(stuff,0)) # call the get.item method on class list for parameters stuff and index 0\n",
    "dir(stuff) #capabilities of the object"
   ]
  },
  {
   "cell_type": "code",
   "execution_count": 1,
   "id": "153d6772-2662-4862-a172-f6e076e2fd59",
   "metadata": {},
   "outputs": [
    {
     "name": "stdout",
     "output_type": "stream",
     "text": [
      "So far 1\n",
      "So far 2\n",
      "So far 3\n",
      "So far 4\n"
     ]
    }
   ],
   "source": [
    "class PartyAnimal: # class defines the data and will make up each of the objects-- what data and code contains a object of class PartyAnimal\n",
    "    x = 0            # attributes: data --> one attribute \n",
    "    def party(self) :  # methods: code -->  one method \"party\" \n",
    "        self.x = self.x + 1 # says: the x within self = the x within self plus 1\n",
    "        print(\"So far\",self.x) # self its the convention name to the first method parameter # remember that just class statmentdoesnt create an object. Its the cookie cutter\n",
    "an = PartyAnimal() # here we are creating an object of the class partyanimal. \n",
    "an.party() # increases the value of x within object\n",
    "an.party()\n",
    "an.party()\n",
    "PartyAnimal.party(an) # another way to call the previous methods."
   ]
  },
  {
   "cell_type": "code",
   "execution_count": 3,
   "id": "ee814e07-3ad1-4ec6-90f5-6ca641320da6",
   "metadata": {},
   "outputs": [
    {
     "name": "stdout",
     "output_type": "stream",
     "text": [
      "Type <class '__main__.PartyAnimal'>\n",
      "Dir  ['__class__', '__delattr__', '__dict__', '__dir__', '__doc__', '__eq__', '__format__', '__ge__', '__getattribute__', '__gt__', '__hash__', '__init__', '__init_subclass__', '__le__', '__lt__', '__module__', '__ne__', '__new__', '__reduce__', '__reduce_ex__', '__repr__', '__setattr__', '__sizeof__', '__str__', '__subclasshook__', '__weakref__', 'party', 'x']\n",
      "Type <class 'int'>\n",
      "Type <class 'method'>\n"
     ]
    }
   ],
   "source": [
    "an = PartyAnimal()\n",
    "print (\"Type\", type(an))  # we have created a new class with the word class statment\n",
    "print (\"Dir \", dir(an))  # party and x method are available at the end \n",
    "print (\"Type\", type(an.x)) # retrives the value of x\n",
    "print (\"Type\", type(an.party)) # Uses the method party(the inside function) on x"
   ]
  },
  {
   "cell_type": "markdown",
   "id": "88ee6669-ff24-49b3-af8a-9216edc4daf8",
   "metadata": {},
   "source": [
    "__Object life cycle__ clean things up when the object is discarde"
   ]
  },
  {
   "cell_type": "code",
   "execution_count": 10,
   "id": "f7e732bc-661e-4672-a37a-ef6f09bf4fc3",
   "metadata": {},
   "outputs": [
    {
     "name": "stdout",
     "output_type": "stream",
     "text": [
      "I am constructed\n",
      "So far 1\n",
      "So far 2\n",
      "an contains 42\n"
     ]
    }
   ],
   "source": [
    "class PartyAnimal:\n",
    "    x = 0\n",
    "    def __init__(self):             # __init__ set some initial values (default )for the object. Quite common used\n",
    "        print('I am constructed')\n",
    "    def party(self) :\n",
    "        self.x = self.x + 1\n",
    "        print('So far',self.x)\n",
    "    def __del__(self):                   # is rare to use this destructor\n",
    "        print('I am destructed', self.x) \n",
    "\n",
    "an = PartyAnimal()\n",
    "an.party()\n",
    "an.party()\n",
    "an = 42   # when python finds an = 42, throws the object away --- destructor code is called __del__\n",
    "print('an contains',an)"
   ]
  },
  {
   "cell_type": "markdown",
   "id": "db5c89ad-f23e-4d16-aa90-7d1c461a1929",
   "metadata": {
    "tags": []
   },
   "source": [
    "__Multiple instances__"
   ]
  },
  {
   "cell_type": "code",
   "execution_count": 16,
   "id": "15cfe2c6-25c2-4045-a05e-f4164831b291",
   "metadata": {},
   "outputs": [
    {
     "name": "stdout",
     "output_type": "stream",
     "text": [
      "Sally constructed\n",
      "Jim constructed\n",
      "Sally party count 1\n",
      "Jim party count 1\n",
      "Sally party count 2\n"
     ]
    }
   ],
   "source": [
    "class PartyAnimal:\n",
    "    x = 0\n",
    "    name = ''\n",
    "    def __init__(self, nam):               ## multiple instances of the our class!!\n",
    "        self.name = nam\n",
    "        print(self.name,'constructed')\n",
    "    def party(self) :\n",
    "        self.x = self.x + 1\n",
    "        print(self.name,'party count',self.x)\n",
    "s = PartyAnimal('Sally')\n",
    "j = PartyAnimal('Jim')\n",
    "s.party()\n",
    "j.party()\n",
    "s.party()     # each of the objects contain their own independency copies of x and nam."
   ]
  },
  {
   "cell_type": "markdown",
   "id": "b63f1868-225d-4ff6-9d65-322df52823d8",
   "metadata": {},
   "source": [
    "__Inheritance__"
   ]
  },
  {
   "cell_type": "code",
   "execution_count": null,
   "id": "1c442e1e-9f6a-4627-b01d-86b24151bf75",
   "metadata": {},
   "outputs": [],
   "source": [
    "class CricketFan(PartyAnimal):\n",
    "    points = 0\n",
    "    def six(self):\n",
    "        self.points = self.points + 6\n",
    "        self.party()\n",
    "    print(self.name,\"points\",self.points)\n",
    "s = PartyAnimal(\"Sally\")\n",
    "s.party()\n",
    "j = CricketFan(\"Jim\")\n",
    "j.party()\n",
    "j.six()\n",
    "print(dir(j))"
   ]
  },
  {
   "cell_type": "code",
   "execution_count": null,
   "id": "d6054316-f2c7-4739-9821-87672e225987",
   "metadata": {},
   "outputs": [],
   "source": [
    "stuff = list()   # python creates an object(class : list) with initial attributes (constructor:__init__).\n",
    "stuff.append('python') # we calle the list class list method that appends to add a new item at the end of the list\n",
    "stuff.append('chuck')\n",
    "stuff.sort() # sorth method to sort the data within the stuff object\n",
    "print (stuff[0]) # shortcut of the method __getitem__ of list class\n",
    "print (stuff.__getitem__(0))\n",
    "print (list.__getitem__(stuff,0))\n",
    "stuff = 0 # at the end, the object  is discarded by calling the destructor __del__ --> cleaned up!!"
   ]
  },
  {
   "cell_type": "code",
   "execution_count": null,
   "id": "831437c9-4bd5-4a25-b412-21bb5a59f8ab",
   "metadata": {},
   "outputs": [],
   "source": []
  }
 ],
 "metadata": {
  "kernelspec": {
   "display_name": "Python 3",
   "language": "python",
   "name": "python3"
  },
  "language_info": {
   "codemirror_mode": {
    "name": "ipython",
    "version": 3
   },
   "file_extension": ".py",
   "mimetype": "text/x-python",
   "name": "python",
   "nbconvert_exporter": "python",
   "pygments_lexer": "ipython3",
   "version": "3.8.8"
  }
 },
 "nbformat": 4,
 "nbformat_minor": 5
}
