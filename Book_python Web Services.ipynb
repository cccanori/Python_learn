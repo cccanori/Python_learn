{
 "cells": [
  {
   "cell_type": "markdown",
   "id": "a424d5c9-69ab-4a0e-84b6-e566518ec55b",
   "metadata": {},
   "source": [
    "___WEB SERVICES:___ XML and JSON"
   ]
  },
  {
   "cell_type": "markdown",
   "id": "7be25a31-6009-4f78-a4f0-2183344b2a11",
   "metadata": {},
   "source": [
    "__XML__\n",
    "- each <a>...</a> represent a node(element) and a is the tag.'\n",
    "- each element has some atriubutes e.g., type = intl\n",
    "- if an element is empty just use 1 node closed e.g., </email>"
   ]
  },
  {
   "cell_type": "code",
   "execution_count": 7,
   "id": "156bad37-cc64-4ee5-8fcf-4a872d7d913d",
   "metadata": {},
   "outputs": [],
   "source": [
    "data ='''\n",
    "<person>                 \n",
    "    <name>Chuck</name>\n",
    "    <phone type=\"intl\">  \n",
    "        +1 734 303 4456\n",
    "    </phone>\n",
    "    <email hide=\"yes\" /> \n",
    "</person>'''"
   ]
  },
  {
   "cell_type": "code",
   "execution_count": 10,
   "id": "640a6216-0255-4997-a1d2-27f6a9253a87",
   "metadata": {},
   "outputs": [
    {
     "name": "stdout",
     "output_type": "stream",
     "text": [
      "Name: Chuck\n",
      "Attr: yes\n"
     ]
    }
   ],
   "source": [
    "import xml.etree.ElementTree as ET #library that reads XML\n",
    "tree = ET.fromstring(data)   # save the data transformed in a object.\n",
    "print('Name:', tree.find('name').text) # look for the element <> with tag name: <name>...</name> and bring its content \n",
    "print('Attr:', tree.find('email').get('hide')) # Look for element with tag email and get the value of the attribute hide"
   ]
  },
  {
   "cell_type": "code",
   "execution_count": 25,
   "id": "f2bb9102-c18d-4f24-9c0e-edd577f0825a",
   "metadata": {},
   "outputs": [
    {
     "name": "stdout",
     "output_type": "stream",
     "text": [
      "User count: 2\n",
      "User count: 0\n",
      "Name Chuck\n",
      "Id 001\n",
      "Attribute 2\n",
      "Name Brent\n",
      "Id 009\n",
      "Attribute 7\n"
     ]
    }
   ],
   "source": [
    "#LOOPING THROUGH XML\n",
    "input = '''\n",
    "<stuff>\n",
    "    <users>\n",
    "        <user x=\"2\">\n",
    "            <id>001</id>\n",
    "            <name>Chuck</name>\n",
    "        </user>\n",
    "        <user x=\"7\">\n",
    "            <id>009</id>\n",
    "            <name>Brent</name>\n",
    "        </user>\n",
    "    </users>\n",
    "</stuff>'''\n",
    "\n",
    "stuff = ET.fromstring(input) # save as tree object (python list of subtrees)\n",
    "lst = stuff.findall('users/user') # save all the parent level user (a/a) is about parent level.\n",
    "lst2 = stuff.findall('user')    # lloks for user elements that are not nested with the top level stuff\n",
    "print('User count:', len(lst))  # print how many of them are\n",
    "print('User count:', len(lst2)) \n",
    "\n",
    "for item in lst:                            #we are iterating each of the lines filtered above  \n",
    "    print('Name', item.find('name').text)   # then we are substracting the body of the tags name and id\n",
    "    print('Id', item.find('id').text)       # and finally what is the value of the attribute x\n",
    "    print('Attribute', item.get('x'))"
   ]
  },
  {
   "cell_type": "markdown",
   "id": "a18f1b76-3431-49fc-a03f-a6a7f4053028",
   "metadata": {
    "tags": []
   },
   "source": [
    "__JSON__     \n",
    "- It's a kind of combination between python dicts and lists\n",
    "- natural format of two programs exchanging data\n",
    "- relative simplicity compared to XML"
   ]
  },
  {
   "cell_type": "code",
   "execution_count": 40,
   "id": "0e6ca696-e9b1-444d-b181-6d07c0717f4e",
   "metadata": {},
   "outputs": [],
   "source": [
    "import json # same example as in XML but in JSON terms -- this is the main library\n",
    "# instead ef elements we have key.-value pairs as well as for attribites\n",
    "# the main element (parent is replaced by curly brackets\n",
    "data = '''\n",
    "{\n",
    "    \"name\" : \"Chuck\",\n",
    "    \"phone\" : {\n",
    "        \"type\" : \"intl\",\n",
    "        \"number\" : \"+1 734 303 4456\"\n",
    "            },\n",
    "            \"email\" : {\n",
    "                \"hide\" : \"yes\"\n",
    "            }\n",
    "    }'''\n"
   ]
  },
  {
   "cell_type": "code",
   "execution_count": 41,
   "id": "bd54910a-9ad0-4a04-b2ac-a15a95dc476a",
   "metadata": {},
   "outputs": [
    {
     "name": "stdout",
     "output_type": "stream",
     "text": [
      "User count: 2\n",
      "Name Chuck\n",
      "Id 001\n",
      "Attribute x 2\n",
      "Name Brent\n",
      "Id 009\n",
      "Attribute x 7\n"
     ]
    }
   ],
   "source": [
    "import json\n",
    "data = '''\n",
    "[\n",
    "{ \"id\" : \"001\",\n",
    "\"x\" : \"2\",\n",
    "\"name\" : \"Chuck\"\n",
    "} ,\n",
    "{ \"id\" : \"009\",\n",
    "\"x\" : \"7\",\n",
    "\"name\" : \"Brent\"\n",
    "}\n",
    "]'''\n",
    "info = json.loads(data)  # Store the json parsing in a variable using the function .loads()\n",
    "print('User count:', len(info)) # amount of data lines \n",
    "for item in info:\n",
    "    print('Name', item['name']) #in each line (dictionarie) its calling the value of the key\n",
    "    print('Id', item['id'])\n",
    "    print('Attribute x', item['x'])"
   ]
  },
  {
   "cell_type": "code",
   "execution_count": null,
   "id": "0055d71b-9f6a-4437-9df6-01af87d259fc",
   "metadata": {},
   "outputs": [],
   "source": []
  }
 ],
 "metadata": {
  "kernelspec": {
   "display_name": "Python 3",
   "language": "python",
   "name": "python3"
  },
  "language_info": {
   "codemirror_mode": {
    "name": "ipython",
    "version": 3
   },
   "file_extension": ".py",
   "mimetype": "text/x-python",
   "name": "python",
   "nbconvert_exporter": "python",
   "pygments_lexer": "ipython3",
   "version": "3.8.8"
  }
 },
 "nbformat": 4,
 "nbformat_minor": 5
}
